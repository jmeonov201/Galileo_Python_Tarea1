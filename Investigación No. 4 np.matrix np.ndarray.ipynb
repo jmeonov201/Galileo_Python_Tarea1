{
 "cells": [
  {
   "cell_type": "markdown",
   "metadata": {},
   "source": [
    "## Johnatan Meoño"
   ]
  },
  {
   "cell_type": "code",
   "execution_count": 1,
   "metadata": {},
   "outputs": [],
   "source": [
    "import numpy as np"
   ]
  },
  {
   "cell_type": "markdown",
   "metadata": {},
   "source": [
    "### Investigacion No. 4\n",
    "### Diferencias entre np.matrix y np.ndarray  \n"
   ]
  },
  {
   "cell_type": "markdown",
   "metadata": {},
   "source": [
    "\n",
    "### np.matrix\n",
    "\n",
    "De las notas de clase podemos decri que: Una matriz es un arreglo multidimensional de filas y columnas. La matriz es una estructura mas general. Esta contiene muchas observaciones que poseen mas de una característica.\n",
    "\n",
    "En NumPy las matrices son(de manera similar a los vectores) objetos del tipo **np.ndarray**, la diferencia es la forma en que estos estan organizados y por lo tanto ciertas características de los mismos.\n",
    "\n",
    "La matriz es un tensor de rango dos, es decir para acceder a uno de sus valores se necesitan de dos posiciones para extraerlo, en este caso fila y columna. \n",
    "\n",
    "* np.matrix: resultado casi identico a la función mas general np.array ,pero posee algunas propiedades adicionales específicas de listas, por ejemplo notación sencilla para inversas de matrices."
   ]
  },
  {
   "cell_type": "code",
   "execution_count": 21,
   "metadata": {},
   "outputs": [
    {
     "name": "stdout",
     "output_type": "stream",
     "text": [
      "[[1 2 3 4]\n",
      " [5 6 7 8]]\n",
      "<class 'numpy.matrixlib.defmatrix.matrix'>\n",
      "2\n",
      "(2, 4)\n"
     ]
    }
   ],
   "source": [
    "matrix1 = np.matrix([[1,2,3,4],\n",
    "                     [5,6,7,8]])\n",
    "print(matrix1)\n",
    "print(type(matrix1))\n",
    "print(matrix1.ndim)\n",
    "print(matrix1.shape)"
   ]
  },
  {
   "cell_type": "code",
   "execution_count": 22,
   "metadata": {},
   "outputs": [
    {
     "name": "stdout",
     "output_type": "stream",
     "text": [
      "[[1 2 3 4]]\n",
      "<class 'numpy.matrixlib.defmatrix.matrix'>\n",
      "2\n",
      "(1, 4)\n"
     ]
    }
   ],
   "source": [
    "matrix2 = np.matrix([[1,2,3,4]])\n",
    "\n",
    "print(matrix2)\n",
    "print(type(matrix2))\n",
    "print(matrix2.ndim)\n",
    "print(matrix2.shape)"
   ]
  },
  {
   "cell_type": "markdown",
   "metadata": {},
   "source": [
    "### En este ejemplo definimos una matriz que solo tiene un valor, cuando vemos sus propiedades es de clase numpy.matrixlib.defmatrix.matrix, sigue teniendo rango dos a pesar de solo tener un valor, y su forma es una fila y una columna. "
   ]
  },
  {
   "cell_type": "code",
   "execution_count": 26,
   "metadata": {},
   "outputs": [
    {
     "name": "stdout",
     "output_type": "stream",
     "text": [
      "[[1]]\n",
      "<class 'numpy.matrixlib.defmatrix.matrix'>\n",
      "2\n",
      "(1, 1)\n"
     ]
    }
   ],
   "source": [
    "matrixn = np.matrix([[1]])\n",
    "\n",
    "print(matrixn)\n",
    "print(type(matrixn))\n",
    "print(matrixn.ndim)\n",
    "print(matrixn.shape)"
   ]
  },
  {
   "cell_type": "markdown",
   "metadata": {},
   "source": [
    "\n",
    "### np.ndarray  \n",
    "\n",
    "De las notas de clase sabemos que: Matemáticamente el Tensor es la entidad mas general cuando hablamos de arreglos o colecciones de elementos y que comunmente representan coordenadas en un plano posiblemente multidimensional, por lo tanto al traducirlo a software científico un tensor es también la estructura mas general para trabajar ,y es la estructura de datos básica en la cual almacenaremos información, **NumPy logra esto a través del objeto ndarray**(tensorflow usa tf.Tensor, PyTorch usa  torch.Tensor).\n",
    "\n",
    "En este caso los objetos que pertenecen a la clase ndarray son aquellos que podemos definir con las funciones ya conocidas por ejemplo np.arange ó np.array, solo que al definir un objeto de este tipo podemos estar definidendo un vector de rango uno o una matriz de rango dos.\n",
    "\n",
    "Es decir partimos de las clases ndarray y podemos definir una matriz, que tendra rango dos, no obstante su clase sera siempre ndarray.\n",
    "\n",
    "Sin embargo como vimos arriba cuando definimos una matriz con np.matrix su clase siempre sera numpy.matrixlib.defmatrix.matrix, y tendra rango dos. \n",
    "\n",
    "Vemos que al aplicar shape sobre este arreglo devuelve la cantidad de elementos del arreglo\n"
   ]
  },
  {
   "cell_type": "code",
   "execution_count": 23,
   "metadata": {},
   "outputs": [
    {
     "name": "stdout",
     "output_type": "stream",
     "text": [
      "[0 1 2 3 4 5 6 7 8 9]\n",
      "<class 'numpy.ndarray'>\n",
      "1\n",
      "(10,)\n"
     ]
    }
   ],
   "source": [
    "array1 = np.arange(10)\n",
    "print(array1)\n",
    "print(type(array1))\n",
    "print(array1.ndim)\n",
    "print(array1.shape)"
   ]
  },
  {
   "cell_type": "markdown",
   "metadata": {},
   "source": [
    "### Definimos una matriz a partir de np.array el cual es una clase numpy.ndarray, si obtendremos su rango dos, pero su clase no es la misma si la definimos desde np.array \n",
    "\n",
    "### Como podemos observar cuando consultamos la forma de este arreglo generado desde np.array, nos devuelve una tupla con el número de filas y columnas\n",
    "\n",
    "* np.array: crear una matriz a partir de una lista de listas: cada fila es una sublista"
   ]
  },
  {
   "cell_type": "code",
   "execution_count": 24,
   "metadata": {},
   "outputs": [
    {
     "name": "stdout",
     "output_type": "stream",
     "text": [
      "[[0. 0. 0. 0.]\n",
      " [0. 0. 0. 0.]\n",
      " [0. 0. 0. 0.]]\n",
      "<class 'numpy.ndarray'>\n",
      "2\n",
      "(3, 4)\n"
     ]
    }
   ],
   "source": [
    "matrix3 = np.array([[0.,  0.,  0.,  0.],\n",
    "                   [0.,  0.,  0.,  0.],\n",
    "                   [0.,  0.,  0.,  0.]])\n",
    "print(matrix3)\n",
    "print(type(matrix3))\n",
    "print(matrix3.ndim)\n",
    "print(matrix3.shape)"
   ]
  },
  {
   "cell_type": "code",
   "execution_count": null,
   "metadata": {},
   "outputs": [],
   "source": []
  }
 ],
 "metadata": {
  "kernelspec": {
   "display_name": "Python 3",
   "language": "python",
   "name": "python3"
  },
  "language_info": {
   "codemirror_mode": {
    "name": "ipython",
    "version": 3
   },
   "file_extension": ".py",
   "mimetype": "text/x-python",
   "name": "python",
   "nbconvert_exporter": "python",
   "pygments_lexer": "ipython3",
   "version": "3.6.5"
  }
 },
 "nbformat": 4,
 "nbformat_minor": 2
}
