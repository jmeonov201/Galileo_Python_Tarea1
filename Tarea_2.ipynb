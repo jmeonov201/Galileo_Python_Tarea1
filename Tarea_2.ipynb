{
 "cells": [
  {
   "cell_type": "code",
   "execution_count": 4,
   "metadata": {},
   "outputs": [],
   "source": [
    "import numpy as np"
   ]
  },
  {
   "cell_type": "markdown",
   "metadata": {},
   "source": [
    "## Parte 1 Investigación "
   ]
  },
  {
   "cell_type": "markdown",
   "metadata": {},
   "source": [
    "## Que es proyección vectorial? \n",
    "Definir una ufunc para calcular proyección vectorial sobre vectores de Numpy\n"
   ]
  },
  {
   "cell_type": "code",
   "execution_count": 31,
   "metadata": {},
   "outputs": [
    {
     "data": {
      "text/plain": [
       "array([0.35294118, 1.41176471])"
      ]
     },
     "execution_count": 31,
     "metadata": {},
     "output_type": "execute_result"
    }
   ],
   "source": [
    "vec11=np.array((2,1))\n",
    "vec22=np.array((1,4))\n",
    "\n",
    "def proy_vec(vec1,vec2):\n",
    "    proyeccion = ((vec1.dot(vec2))/(sum(np.power(vec2,2)))) * vec2\n",
    "    return proyeccion\n",
    "\n",
    "proy_vec(vec11,vec22)\n",
    "\n",
    "##vec11.dot(vec22) calcula el producto punto entre dos vectores \n",
    "\n",
    "#sum(np.power(vec22,2)) eleva al al cuadrado los elementos del vector y luego los suma dando un escalar \n",
    "\n"
   ]
  },
  {
   "attachments": {
    "ecuacion.jpg": {
     "image/jpeg": "[encoded data removed]"
    },
    "proyvec1.png": {
     "image/png": "[encoded data removed]"
    }
   },
   "cell_type": "markdown",
   "metadata": {},
   "source": [
    "## Bajo el supuesto que tenemos dos vectores, entiendo que la proyeccion vectorial de un vector sobre otro, en su forma mas sencilla de intrepretacion, es la sombra que este genera sobre el otro. Lo cual se observa en la siguiente ilustración.\n",
    "\n",
    "![proyvec1.png](attachment:proyvec1.png)\n",
    "\n",
    "## La proyeccion vectorial se calcula de la siguiente forma \n",
    "![ecuacion.jpg](attachment:ecuacion.jpg)\n",
    "\n",
    "##  El producto punto de u y v, dividido la magnitud al cuadrado del vector v, todo lo anterior, por el vector v el cual da la dirección \n",
    "\n",
    "## El resultados es un vector en la dirección sobre el cual lo estamos proyectando, en este caso v."
   ]
  },
  {
   "cell_type": "markdown",
   "metadata": {},
   "source": [
    "## Como interpretamos la proyección vectorial? \n",
    "Utilizando la función del punto anterior calcularla para vectores de ejemplo e interpretar o concluir sobre el resultado.\n"
   ]
  },
  {
   "cell_type": "code",
   "execution_count": 37,
   "metadata": {},
   "outputs": [
    {
     "data": {
      "text/plain": [
       "array([ 6.90909091,  5.18181818,  3.45454545,  1.72727273, 10.36363636])"
      ]
     },
     "execution_count": 37,
     "metadata": {},
     "output_type": "execute_result"
    }
   ],
   "source": [
    "v1 = np.array((5,6,7,8,9))\n",
    "v2 = np.array((4,3,2,1,6))\n",
    "\n",
    "proy_vec(v1,v2)"
   ]
  },
  {
   "cell_type": "markdown",
   "metadata": {},
   "source": [
    "### La proyeccion vectorial la podemos interpretar como la sombra de un vector sobre otro.\n",
    "\n",
    "### Entiendo que la proyección vectorial se puede interpretar como la sombra de un vector en una direccion especifica. \n",
    "\n",
    "### En ese sentido se obtuvo una proyeccion vectorial de v1 sobre v2 con los valores que observamos arriba todo esto en la dirección de v2.\n",
    "\n",
    "## Cabe mencionar que: proyección vectorial de v1 sobre v2 no es igual a la proyección vectorial de v2 sobre v1."
   ]
  },
  {
   "cell_type": "markdown",
   "metadata": {},
   "source": [
    "## Investigar o proponer una aplicación o caso de uso de proyección vectorial en ciencia de datos u otras ciencia de tu interés donde se pueda aplicar programación numérica. \n",
    "\n",
    "## Como ejemplo o tip para esta parte: un algoritmo muy importante de ML se basa en esto y su nombre puede servir como pista para saber cual es."
   ]
  },
  {
   "cell_type": "markdown",
   "metadata": {},
   "source": [
    "#### En machine learning la proyeccion vectorial es de gran utiidad cuando se quiere visualizar datos o simplificar un problema de alta dimensión.\n",
    "\n",
    "#### Para muchas aplicaciones de machine learning, las variables de entrada originales se transforman en un nuevo espacio en el que el problema es más fácil de resolver. Esto puede ocurrir porque las características discriminativas son más prominentes en el nuevo espacio o la aplicación está limitada por la necesidad computacional.\n",
    "\n",
    "#### Una de las aplicaciones que econtre de proyeccion vectorial y vectores es que se atraves de estas herramientas de algebral lineal se puden analizar la similitud entre documentos. \n",
    "\n",
    "#### La similitud de coseno generará una métrica que dice qué tan relacionados están dos documentos al mirar el ángulo en lugar de la magnitu"
   ]
  }
 ],
 "metadata": {
  "kernelspec": {
   "display_name": "Python 3",
   "language": "python",
   "name": "python3"
  },
  "language_info": {
   "codemirror_mode": {
    "name": "ipython",
    "version": 3
   },
   "file_extension": ".py",
   "mimetype": "text/x-python",
   "name": "python",
   "nbconvert_exporter": "python",
   "pygments_lexer": "ipython3",
   "version": "3.6.5"
  }
 },
 "nbformat": 4,
 "nbformat_minor": 2
}
