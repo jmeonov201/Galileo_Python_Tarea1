{
 "cells": [
  {
   "cell_type": "markdown",
   "metadata": {},
   "source": [
    "## Funciones en Python\n",
    "\n",
    "Entiendo que una función es un pedazo de codigo el cual podemos utilizar cuando se requiera y que tiene como proposito realizar una tarea especifica. Ejemplo de ello es la función print la cual muestra el valor\n",
    "\n",
    "Una funcion tiene entradas tambien conocidas como argumentos "
   ]
  },
  {
   "cell_type": "code",
   "execution_count": 20,
   "metadata": {},
   "outputs": [
    {
     "name": "stdout",
     "output_type": "stream",
     "text": [
      "6\n"
     ]
    },
    {
     "data": {
      "text/plain": [
       "7"
      ]
     },
     "execution_count": 20,
     "metadata": {},
     "output_type": "execute_result"
    }
   ],
   "source": [
    "print(6)\n",
    "\n",
    "def f(a, b, c):\n",
    "    return a + b*c\n",
    "f(3,2,2)"
   ]
  },
  {
   "cell_type": "markdown",
   "metadata": {},
   "source": [
    "## Parametros Posicionales \n",
    "Los argumentos de una fución pueden ser posicionales o por clave. \n",
    "Entiendo que la caracteristica de los argumentos posicionales es que son tomados por orden. Ademas los argumentos son requeridos. \n"
   ]
  },
  {
   "cell_type": "code",
   "execution_count": 21,
   "metadata": {},
   "outputs": [
    {
     "name": "stdout",
     "output_type": "stream",
     "text": [
      "3\n"
     ]
    }
   ],
   "source": [
    "def g(a,b):\n",
    "    return a - b\n",
    "\n",
    "resta=g(5,2)\n",
    "print (resta)"
   ]
  },
  {
   "cell_type": "markdown",
   "metadata": {},
   "source": [
    "## Parametros Nombrados\n",
    "Mientras que la caracteristica de los argumentos por clave es que les es dado un valor por defecto en caso de no ser especificado y son tomados segun el nombre del argumento. "
   ]
  },
  {
   "cell_type": "code",
   "execution_count": 22,
   "metadata": {},
   "outputs": [
    {
     "name": "stdout",
     "output_type": "stream",
     "text": [
      "6\n"
     ]
    }
   ],
   "source": [
    "def h(a=5,b=1):\n",
    "    return a + b\n",
    "suma = h()\n",
    "print(suma)"
   ]
  },
  {
   "cell_type": "markdown",
   "metadata": {},
   "source": [
    "## Retorno de Multiples Valores\n",
    "Este tipo de funciones en python tiene como proposito recibir dos o mas argumentos y a partir de estos devolver varios valores "
   ]
  },
  {
   "cell_type": "code",
   "execution_count": 23,
   "metadata": {},
   "outputs": [
    {
     "name": "stdout",
     "output_type": "stream",
     "text": [
      "(14, 6)\n"
     ]
    }
   ],
   "source": [
    "def i(a,b):\n",
    "    suma = a + b\n",
    "    resta = a - b\n",
    "    return suma,resta \n",
    "sumres = i(10,4)\n",
    "print(sumres)"
   ]
  },
  {
   "cell_type": "markdown",
   "metadata": {},
   "source": [
    "## Funciones Como Objetos y Como Parametros de Otras Funciones \n",
    "\n",
    "Entiendo que una funcion es un objeto, como cualquier otro objeto en python, por lo tanto tiene atributos, ademas la funcion se puede asignar a una variable, otra accion que se puede hacer con las funciones es pasarla como argumentos de otras funciones. "
   ]
  },
  {
   "cell_type": "code",
   "execution_count": 24,
   "metadata": {},
   "outputs": [
    {
     "data": {
      "text/plain": [
       "3.0"
      ]
     },
     "execution_count": 24,
     "metadata": {},
     "output_type": "execute_result"
    }
   ],
   "source": [
    "def divi(a,b):\n",
    "    return a/b\n",
    "\n",
    "def multi(a,b):\n",
    "    return a*b\n",
    "\n",
    "def apli(func,x,y):\n",
    "    return func(x,y)\n",
    "\n",
    "apli(divi,6,2)\n"
   ]
  },
  {
   "cell_type": "code",
   "execution_count": 25,
   "metadata": {},
   "outputs": [
    {
     "data": {
      "text/plain": [
       "12"
      ]
     },
     "execution_count": 25,
     "metadata": {},
     "output_type": "execute_result"
    }
   ],
   "source": [
    "apli(multi,6,2)"
   ]
  },
  {
   "cell_type": "markdown",
   "metadata": {},
   "source": [
    "## Funciones Anónimas o Lamda\n",
    "Las funciones Lamda o Anonimas son otra forma (corta y rapida) de representar funciones la cual tienen su equivalente a la forma convencional de representar funciones"
   ]
  },
  {
   "cell_type": "code",
   "execution_count": 7,
   "metadata": {},
   "outputs": [
    {
     "name": "stdout",
     "output_type": "stream",
     "text": [
      "11\n"
     ]
    }
   ],
   "source": [
    "j = lambda a,b: a + b \n",
    "sum2 = j(5,6)\n",
    "print(sum2)"
   ]
  }
 ],
 "metadata": {
  "kernelspec": {
   "display_name": "Python 3",
   "language": "python",
   "name": "python3"
  },
  "language_info": {
   "codemirror_mode": {
    "name": "ipython",
    "version": 3
   },
   "file_extension": ".py",
   "mimetype": "text/x-python",
   "name": "python",
   "nbconvert_exporter": "python",
   "pygments_lexer": "ipython3",
   "version": "3.6.5"
  }
 },
 "nbformat": 4,
 "nbformat_minor": 2
}
