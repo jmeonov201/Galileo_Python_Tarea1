{
 "cells": [
  {
   "cell_type": "markdown",
   "metadata": {},
   "source": [
    "## Proyecto Final Johnatan Meoño"
   ]
  },
  {
   "cell_type": "code",
   "execution_count": 173,
   "metadata": {},
   "outputs": [],
   "source": [
    "import numpy as np\n",
    "import seaborn as sb \n",
    "import matplotlib.pyplot as plt"
   ]
  },
  {
   "cell_type": "markdown",
   "metadata": {},
   "source": [
    "## Carga de Datos "
   ]
  },
  {
   "cell_type": "code",
   "execution_count": 174,
   "metadata": {},
   "outputs": [
    {
     "name": "stdout",
     "output_type": "stream",
     "text": [
      "Vista parcial de los datos [[2.08500e+05 7.00000e+00 8.56000e+02 8.00000e+00 2.00300e+03 6.50000e+01]\n",
      " [1.81500e+05 6.00000e+00 1.26200e+03 6.00000e+00 1.97600e+03 8.00000e+01]\n",
      " [2.23500e+05 7.00000e+00 9.20000e+02 6.00000e+00 2.00100e+03 6.80000e+01]\n",
      " ...\n",
      " [2.66500e+05 7.00000e+00 1.18800e+03 9.00000e+00 1.94100e+03 6.60000e+01]\n",
      " [1.42125e+05 5.00000e+00 1.07800e+03 5.00000e+00 1.95000e+03 6.80000e+01]\n",
      " [1.47500e+05 5.00000e+00 1.25600e+03 6.00000e+00 1.96500e+03 7.50000e+01]]\n",
      "Tensor de rango 2\n",
      "Forma de la matriz (1460, 6)\n",
      "Total de filas 1460\n",
      "Total de columnas 6\n",
      "El 80% de las filas es: 1168.0\n",
      "El 20% de las filas es: 292.0\n",
      "Fila 1168 de 1 en adelante [1.73e+05 6.00e+00 9.59e+02 7.00e+00 2.00e+03 5.80e+01]\n",
      "Fila 1169 de 1 en adelante [2.350e+05 6.000e+00 1.236e+03 7.000e+00 1.935e+03 1.200e+02]\n"
     ]
    }
   ],
   "source": [
    "## Carga de datos \n",
    "archibinario = \"proyecto_training_data.npy\"\n",
    "datoscompletos = np.load(archibinario)\n",
    "\n",
    "print(\"Vista parcial de los datos\", datoscompletos) ## Revisando que haya cargado datos\n",
    "print(\"Tensor de rango\", datoscompletos.ndim) ## viendo el rango del tensor\n",
    "print(\"Forma de la matriz\", datoscompletos.shape) ## revisando el total de filas y columnas \n",
    "print(\"Total de filas\", datoscompletos.shape[0]) ## extrayendo el numero total de filas\n",
    "print(\"Total de columnas\", datoscompletos.shape[1]) ## extrayendo el numero total de columnas\n",
    "\n",
    "ochenta = datoscompletos.shape[0]*.80 ## multiplicando el numero total de filas por el 80%\n",
    "print(\"El 80% de las filas es:\", ochenta) \n",
    "\n",
    "veinte = datoscompletos.shape[0]*.20 ## multiplicando el numero total de filas por el 20%\n",
    "print(\"El 20% de las filas es:\", veinte)\n",
    "\n",
    "print(\"Fila 1168 de 1 en adelante\",datoscompletos[1167])\n",
    "print(\"Fila 1169 de 1 en adelante\",datoscompletos[1168])"
   ]
  },
  {
   "cell_type": "markdown",
   "metadata": {},
   "source": [
    "## Partiendo los datos "
   ]
  },
  {
   "cell_type": "markdown",
   "metadata": {},
   "source": [
    "## 80%"
   ]
  },
  {
   "cell_type": "code",
   "execution_count": 175,
   "metadata": {},
   "outputs": [
    {
     "name": "stdout",
     "output_type": "stream",
     "text": [
      "[[2.0850e+05 7.0000e+00 8.5600e+02 8.0000e+00 2.0030e+03 6.5000e+01]\n",
      " [1.8150e+05 6.0000e+00 1.2620e+03 6.0000e+00 1.9760e+03 8.0000e+01]\n",
      " [2.2350e+05 7.0000e+00 9.2000e+02 6.0000e+00 2.0010e+03 6.8000e+01]\n",
      " ...\n",
      " [2.3317e+05 7.0000e+00 1.5020e+03 7.0000e+00 2.0090e+03 7.9000e+01]\n",
      " [2.4535e+05 8.0000e+00 1.6940e+03 7.0000e+00 2.0080e+03 6.4000e+01]\n",
      " [1.7300e+05 6.0000e+00 9.5900e+02 7.0000e+00 2.0000e+03 5.8000e+01]]\n",
      "Tensor de rango 2\n",
      "Forma de la matriz (1168, 6)\n",
      "Total de filas 1168\n",
      "Total de columnas 6\n",
      "Última fila [1.73e+05 6.00e+00 9.59e+02 7.00e+00 2.00e+03 5.80e+01]\n"
     ]
    }
   ],
   "source": [
    "## haciendo slicing al dataset \n",
    "datosentrenamiento = datoscompletos [:1168,]\n",
    "\n",
    "print(datosentrenamiento)\n",
    "print(\"Tensor de rango\", datosentrenamiento.ndim) ## viendo el rango del tensor\n",
    "print(\"Forma de la matriz\", datosentrenamiento.shape) ## revisando el total de filas y columnas \n",
    "print(\"Total de filas\", datosentrenamiento.shape[0]) ## extrayendo el numero total de filas\n",
    "print(\"Total de columnas\", datosentrenamiento.shape[1]) ## extrayendo el numero total de columnas\n",
    "print(\"Última fila\",datosentrenamiento[-1])"
   ]
  },
  {
   "cell_type": "markdown",
   "metadata": {},
   "source": [
    "## 20%"
   ]
  },
  {
   "cell_type": "code",
   "execution_count": 176,
   "metadata": {},
   "outputs": [
    {
     "name": "stdout",
     "output_type": "stream",
     "text": [
      "[[2.35000e+05 6.00000e+00 1.23600e+03 7.00000e+00 1.93500e+03 1.20000e+02]\n",
      " [6.25000e+05 1.00000e+01 1.83100e+03 1.00000e+01 1.99500e+03 1.18000e+02]\n",
      " [1.71000e+05 6.00000e+00 1.11800e+03 6.00000e+00 1.97700e+03 7.60000e+01]\n",
      " ...\n",
      " [2.66500e+05 7.00000e+00 1.18800e+03 9.00000e+00 1.94100e+03 6.60000e+01]\n",
      " [1.42125e+05 5.00000e+00 1.07800e+03 5.00000e+00 1.95000e+03 6.80000e+01]\n",
      " [1.47500e+05 5.00000e+00 1.25600e+03 6.00000e+00 1.96500e+03 7.50000e+01]]\n",
      "Tensor de rango 2\n",
      "Forma de la matriz (292, 6)\n",
      "Total de filas 292\n",
      "Total de columnas 6\n",
      "Primera fila [2.350e+05 6.000e+00 1.236e+03 7.000e+00 1.935e+03 1.200e+02]\n"
     ]
    }
   ],
   "source": [
    "## haciendo slicing al dataset \n",
    "datosvaliprue = datoscompletos [1168:,]\n",
    "\n",
    "print(datosvaliprue)\n",
    "print(\"Tensor de rango\", datosvaliprue.ndim) ## viendo el rango del tensor\n",
    "print(\"Forma de la matriz\", datosvaliprue.shape) ## revisando el total de filas y columnas \n",
    "print(\"Total de filas\", datosvaliprue.shape[0]) ## extrayendo el numero total de filas\n",
    "print(\"Total de columnas\", datosvaliprue.shape[1]) ## extrayendo el numero total de columnas\n",
    "print(\"Primera fila\",datosvaliprue[0])"
   ]
  },
  {
   "cell_type": "markdown",
   "metadata": {},
   "source": [
    "## Análisis exploratorio "
   ]
  },
  {
   "cell_type": "markdown",
   "metadata": {},
   "source": [
    "## Y y su estadistica descriptiva "
   ]
  },
  {
   "cell_type": "code",
   "execution_count": 177,
   "metadata": {},
   "outputs": [
    {
     "name": "stdout",
     "output_type": "stream",
     "text": [
      "Media de Y = 180590.27739726027\n",
      "Valor Máximo de Y = 755000.0\n",
      "Valor Mínimo de Y = 34900.0\n",
      "Rango de Y = 720100.0\n",
      "Desviación Estandar de Y = 78781.95108033362\n",
      "[208500. 181500. 223500. ... 233170. 245350. 173000.]\n"
     ]
    }
   ],
   "source": [
    "print(\"Media de Y =\", np.mean(datosentrenamiento[:,0]))\n",
    "print(\"Valor Máximo de Y =\", np.max(datosentrenamiento[:,0]))\n",
    "print(\"Valor Mínimo de Y =\", np.min(datosentrenamiento[:,0]))\n",
    "print(\"Rango de Y =\", np.max(datosentrenamiento[:,0])-np.min(datosentrenamiento[:,0])) \n",
    "print(\"Desviación Estandar de Y =\", np.std(datosentrenamiento[:,0]))\n",
    "\n",
    "print(datosentrenamiento[:,0])"
   ]
  },
  {
   "cell_type": "markdown",
   "metadata": {},
   "source": [
    "## X1 y su estadistica descriptiva "
   ]
  },
  {
   "cell_type": "code",
   "execution_count": 178,
   "metadata": {},
   "outputs": [
    {
     "name": "stdout",
     "output_type": "stream",
     "text": [
      "Media de X1 = 6.101027397260274\n",
      "Valor Máximo de X1 = 10.0\n",
      "Valor Mínimo de X1 = 1.0\n",
      "Rango de X1 = 9.0\n",
      "Desviación Estandar de X1 = 1.377435193240741\n"
     ]
    }
   ],
   "source": [
    "print(\"Media de X1 =\", np.mean(datosentrenamiento[:,1]))\n",
    "print(\"Valor Máximo de X1 =\", np.max(datosentrenamiento[:,1]))\n",
    "print(\"Valor Mínimo de X1 =\", np.min(datosentrenamiento[:,1]))\n",
    "print(\"Rango de X1 =\", np.max(datosentrenamiento[:,1])-np.min(datosentrenamiento[:,1])) \n",
    "print(\"Desviación Estandar de X1 =\", np.std(datosentrenamiento[:,1]))"
   ]
  },
  {
   "cell_type": "markdown",
   "metadata": {},
   "source": [
    "## X2 y su estadistica descriptiva "
   ]
  },
  {
   "cell_type": "code",
   "execution_count": 179,
   "metadata": {},
   "outputs": [
    {
     "name": "stdout",
     "output_type": "stream",
     "text": [
      "Media de X2 = 1156.3236301369864\n",
      "Valor Máximo de X2 = 3228.0\n",
      "Valor Mínimo de X2 = 334.0\n",
      "Rango de X2 = 2894.0\n",
      "Desviación Estandar de X2 = 373.620331503586\n"
     ]
    }
   ],
   "source": [
    "print(\"Media de X2 =\", np.mean(datosentrenamiento[:,2]))\n",
    "print(\"Valor Máximo de X2 =\", np.max(datosentrenamiento[:,2]))\n",
    "print(\"Valor Mínimo de X2 =\", np.min(datosentrenamiento[:,2]))\n",
    "print(\"Rango de X2 =\", np.max(datosentrenamiento[:,2])-np.min(datosentrenamiento[:,2])) \n",
    "print(\"Desviación Estandar de X2 =\", np.std(datosentrenamiento[:,2]))"
   ]
  },
  {
   "cell_type": "markdown",
   "metadata": {},
   "source": [
    "## X3 y su estadistica descriptiva "
   ]
  },
  {
   "cell_type": "code",
   "execution_count": 180,
   "metadata": {},
   "outputs": [
    {
     "name": "stdout",
     "output_type": "stream",
     "text": [
      "Media de X3 = 6.4854452054794525\n",
      "Valor Máximo de X3 = 14.0\n",
      "Valor Mínimo de X3 = 2.0\n",
      "Rango de X3 = 12.0\n",
      "Desviación Estandar de X3 = 1.6084517167387253\n"
     ]
    }
   ],
   "source": [
    "print(\"Media de X3 =\", np.mean(datosentrenamiento[:,3]))\n",
    "print(\"Valor Máximo de X3 =\", np.max(datosentrenamiento[:,3]))\n",
    "print(\"Valor Mínimo de X3 =\", np.min(datosentrenamiento[:,3]))\n",
    "print(\"Rango de X3 =\", np.max(datosentrenamiento[:,3])-np.min(datosentrenamiento[:,3])) \n",
    "print(\"Desviación Estandar de X3 =\", np.std(datosentrenamiento[:,3]))"
   ]
  },
  {
   "cell_type": "markdown",
   "metadata": {},
   "source": [
    "## X4 y su estadistica descriptiva "
   ]
  },
  {
   "cell_type": "code",
   "execution_count": 181,
   "metadata": {},
   "outputs": [
    {
     "name": "stdout",
     "output_type": "stream",
     "text": [
      "Media de X4 = 1971.451198630137\n",
      "Valor Máximo de X4 = 2010.0\n",
      "Valor Mínimo de X4 = 1875.0\n",
      "Rango de X4 = 135.0\n",
      "Desviación Estandar de X4 = 29.93888206867768\n"
     ]
    }
   ],
   "source": [
    "print(\"Media de X4 =\", np.mean(datosentrenamiento[:,4]))\n",
    "print(\"Valor Máximo de X4 =\", np.max(datosentrenamiento[:,4]))\n",
    "print(\"Valor Mínimo de X4 =\", np.min(datosentrenamiento[:,4]))\n",
    "print(\"Rango de X4 =\", np.max(datosentrenamiento[:,4])-np.min(datosentrenamiento[:,4])) \n",
    "print(\"Desviación Estandar de X4 =\", np.std(datosentrenamiento[:,4]))"
   ]
  },
  {
   "cell_type": "markdown",
   "metadata": {},
   "source": [
    "## X5 y su estadistica descriptiva "
   ]
  },
  {
   "cell_type": "code",
   "execution_count": 182,
   "metadata": {},
   "outputs": [
    {
     "name": "stdout",
     "output_type": "stream",
     "text": [
      "Media de X5 = 0.17636986301369864\n",
      "Valor Máximo de X5 = True\n",
      "Valor Mínimo de X5 = False\n",
      "Rango de X5 = True\n",
      "Desviación Estandar de X5 = 0.0\n"
     ]
    }
   ],
   "source": [
    "print(\"Media de X5 =\", np.mean(np.isnan(datosentrenamiento[:,5])))\n",
    "print(\"Valor Máximo de X5 =\", np.max(np.isnan(datosentrenamiento[:,5])))\n",
    "print(\"Valor Mínimo de X5 =\", np.min(np.isnan(datosentrenamiento[:,5])))\n",
    "print(\"Rango de X5 =\", np.isnan(np.max(datosentrenamiento[:,5])-np.min(datosentrenamiento[:,5]))) \n",
    "print(\"Desviación Estandar de X5 =\", np.std(np.isnan(datosentrenamiento[5])))"
   ]
  },
  {
   "cell_type": "markdown",
   "metadata": {},
   "source": [
    "## Histograma de cada variable \n"
   ]
  },
  {
   "cell_type": "code",
   "execution_count": 183,
   "metadata": {},
   "outputs": [
    {
     "name": "stderr",
     "output_type": "stream",
     "text": [
      "C:\\Users\\Johnatan\\Anaconda3\\lib\\site-packages\\matplotlib\\axes\\_axes.py:6521: MatplotlibDeprecationWarning: \n",
      "The 'normed' kwarg was deprecated in Matplotlib 2.1 and will be removed in 3.1. Use 'density' instead.\n",
      "  alternative=\"'density'\", removal=\"3.1\")\n"
     ]
    },
    {
     "data": {
      "text/plain": [
       "<matplotlib.axes._subplots.AxesSubplot at 0x2838b36c518>"
      ]
     },
     "execution_count": 183,
     "metadata": {},
     "output_type": "execute_result"
    },
    {
     "data": {
      "image/png": "[encoded data removed]",
      "text/plain": [
       "<Figure size 432x288 with 1 Axes>"
      ]
     },
     "metadata": {},
     "output_type": "display_data"
    }
   ],
   "source": [
    "sb.distplot(datosentrenamiento[:,0])\n"
   ]
  },
  {
   "cell_type": "code",
   "execution_count": 184,
   "metadata": {},
   "outputs": [
    {
     "name": "stderr",
     "output_type": "stream",
     "text": [
      "C:\\Users\\Johnatan\\Anaconda3\\lib\\site-packages\\matplotlib\\axes\\_axes.py:6521: MatplotlibDeprecationWarning: \n",
      "The 'normed' kwarg was deprecated in Matplotlib 2.1 and will be removed in 3.1. Use 'density' instead.\n",
      "  alternative=\"'density'\", removal=\"3.1\")\n"
     ]
    },
    {
     "data": {
      "text/plain": [
       "<matplotlib.axes._subplots.AxesSubplot at 0x2838cd149b0>"
      ]
     },
     "execution_count": 184,
     "metadata": {},
     "output_type": "execute_result"
    },
    {
     "data": {
      "image/png": "[encoded data removed]",
      "text/plain": [
       "<Figure size 432x288 with 1 Axes>"
      ]
     },
     "metadata": {},
     "output_type": "display_data"
    }
   ],
   "source": [
    "sb.distplot(datosentrenamiento[:,1])"
   ]
  },
  {
   "cell_type": "code",
   "execution_count": 185,
   "metadata": {},
   "outputs": [
    {
     "name": "stderr",
     "output_type": "stream",
     "text": [
      "C:\\Users\\Johnatan\\Anaconda3\\lib\\site-packages\\matplotlib\\axes\\_axes.py:6521: MatplotlibDeprecationWarning: \n",
      "The 'normed' kwarg was deprecated in Matplotlib 2.1 and will be removed in 3.1. Use 'density' instead.\n",
      "  alternative=\"'density'\", removal=\"3.1\")\n"
     ]
    },
    {
     "data": {
      "text/plain": [
       "<matplotlib.axes._subplots.AxesSubplot at 0x2838deea1d0>"
      ]
     },
     "execution_count": 185,
     "metadata": {},
     "output_type": "execute_result"
    },
    {
     "data": {
      "image/png": "[encoded data removed]",
      "text/plain": [
       "<Figure size 432x288 with 1 Axes>"
      ]
     },
     "metadata": {},
     "output_type": "display_data"
    }
   ],
   "source": [
    "sb.distplot(datosentrenamiento[:,2])"
   ]
  },
  {
   "cell_type": "code",
   "execution_count": 186,
   "metadata": {},
   "outputs": [
    {
     "name": "stderr",
     "output_type": "stream",
     "text": [
      "C:\\Users\\Johnatan\\Anaconda3\\lib\\site-packages\\matplotlib\\axes\\_axes.py:6521: MatplotlibDeprecationWarning: \n",
      "The 'normed' kwarg was deprecated in Matplotlib 2.1 and will be removed in 3.1. Use 'density' instead.\n",
      "  alternative=\"'density'\", removal=\"3.1\")\n"
     ]
    },
    {
     "data": {
      "text/plain": [
       "<matplotlib.axes._subplots.AxesSubplot at 0x2838c9cd198>"
      ]
     },
     "execution_count": 186,
     "metadata": {},
     "output_type": "execute_result"
    },
    {
     "data": {
      "image/png": "[encoded data removed]",
      "text/plain": [
       "<Figure size 432x288 with 1 Axes>"
      ]
     },
     "metadata": {},
     "output_type": "display_data"
    }
   ],
   "source": [
    "sb.distplot(datosentrenamiento[:,3])"
   ]
  },
  {
   "cell_type": "code",
   "execution_count": 187,
   "metadata": {},
   "outputs": [
    {
     "name": "stderr",
     "output_type": "stream",
     "text": [
      "C:\\Users\\Johnatan\\Anaconda3\\lib\\site-packages\\matplotlib\\axes\\_axes.py:6521: MatplotlibDeprecationWarning: \n",
      "The 'normed' kwarg was deprecated in Matplotlib 2.1 and will be removed in 3.1. Use 'density' instead.\n",
      "  alternative=\"'density'\", removal=\"3.1\")\n"
     ]
    },
    {
     "data": {
      "text/plain": [
       "<matplotlib.axes._subplots.AxesSubplot at 0x2838c93c710>"
      ]
     },
     "execution_count": 187,
     "metadata": {},
     "output_type": "execute_result"
    },
    {
     "data": {
      "image/png": "[encoded data removed]",
      "text/plain": [
       "<Figure size 432x288 with 1 Axes>"
      ]
     },
     "metadata": {},
     "output_type": "display_data"
    }
   ],
   "source": [
    "sb.distplot(datosentrenamiento[:,4])"
   ]
  },
  {
   "cell_type": "code",
   "execution_count": 188,
   "metadata": {},
   "outputs": [
    {
     "name": "stderr",
     "output_type": "stream",
     "text": [
      "C:\\Users\\Johnatan\\Anaconda3\\lib\\site-packages\\matplotlib\\axes\\_axes.py:6521: MatplotlibDeprecationWarning: \n",
      "The 'normed' kwarg was deprecated in Matplotlib 2.1 and will be removed in 3.1. Use 'density' instead.\n",
      "  alternative=\"'density'\", removal=\"3.1\")\n"
     ]
    },
    {
     "name": "stdout",
     "output_type": "stream",
     "text": [
      "[65. 80. 68. ... 79. 64. 58.]\n",
      "<class 'numpy.ndarray'>\n",
      "1\n"
     ]
    },
    {
     "data": {
      "image/png": "[encoded data removed]",
      "text/plain": [
       "<Figure size 432x288 with 1 Axes>"
      ]
     },
     "metadata": {},
     "output_type": "display_data"
    }
   ],
   "source": [
    "sb.distplot(np.isnan(datosentrenamiento[:,5]))\n",
    "print(datosentrenamiento[:,5])\n",
    "print(type(datosentrenamiento[:,5]))\n",
    "print(datosentrenamiento[:,5].ndim)"
   ]
  },
  {
   "cell_type": "markdown",
   "metadata": {},
   "source": [
    "## Gráfica Y versus X y su coeficiente de correlación "
   ]
  },
  {
   "cell_type": "code",
   "execution_count": 189,
   "metadata": {},
   "outputs": [
    {
     "name": "stderr",
     "output_type": "stream",
     "text": [
      "C:\\Users\\Johnatan\\Anaconda3\\lib\\site-packages\\matplotlib\\text.py:1191: FutureWarning: elementwise comparison failed; returning scalar instead, but in the future will perform elementwise comparison\n",
      "  if s != self._text:\n"
     ]
    },
    {
     "data": {
      "image/png": "[encoded data removed]",
      "text/plain": [
       "<Figure size 2160x2880 with 5 Axes>"
      ]
     },
     "metadata": {},
     "output_type": "display_data"
    }
   ],
   "source": [
    "%matplotlib inline\n",
    "fig  = plt.figure(figsize=(30,40))\n",
    "\n",
    "ax1 = fig.add_subplot(2,3,1)\n",
    "ax2 = fig.add_subplot(2,3,2)\n",
    "ax3 = fig.add_subplot(2,3,3)\n",
    "ax4 = fig.add_subplot(2,3,4)\n",
    "ax5 = fig.add_subplot(2,3,5)\n",
    "\n",
    "ax1.scatter(datosentrenamiento[:,1],datosentrenamiento[:,0],marker='*',color=\"r\")\n",
    "ax2.scatter(datosentrenamiento[:,2],datosentrenamiento[:,0],marker='*',color=\"y\")\n",
    "ax3.scatter(datosentrenamiento[:,3],datosentrenamiento[:,0],marker='*',color=\"b\")\n",
    "ax4.scatter(datosentrenamiento[:,4],datosentrenamiento[:,0],marker='*',color=\"g\")\n",
    "ax5.scatter(datosentrenamiento[:,5],datosentrenamiento[:,0],marker='*',color=\"r\")\n",
    "\n",
    "ax1.set_xlabel('x1')\n",
    "ax1.set_ylabel('y')\n",
    "ax1.set_title(np.corrcoef(datosentrenamiento[:,1],datosentrenamiento[:,0]))\n",
    "\n",
    "ax2.set_xlabel('x2')\n",
    "ax2.set_ylabel('y')\n",
    "ax2.set_title(np.corrcoef(datosentrenamiento[:,2],datosentrenamiento[:,0]))\n",
    "\n",
    "ax3.set_xlabel('x3')\n",
    "ax3.set_ylabel('y')\n",
    "ax3.set_title(np.corrcoef(datosentrenamiento[:,3],datosentrenamiento[:,0]))\n",
    "\n",
    "ax4.set_xlabel('x4')\n",
    "ax4.set_ylabel('y')\n",
    "ax4.set_title(np.corrcoef(datosentrenamiento[:,4],datosentrenamiento[:,0]))\n",
    "\n",
    "ax5.set_xlabel('x5')\n",
    "ax5.set_ylabel('y')\n",
    "ax5.set_title(np.corrcoef(np.isnan(datosentrenamiento[:,5]),datosentrenamiento[:,0]))\n",
    "\n",
    "#np.corrcoef(datosentrenamiento[:,1],datosentrenamiento[:,0])\n",
    "#np.corrcoef(datosentrenamiento[:,2],datosentrenamiento[:,0])\n",
    "#np.corrcoef(datosentrenamiento[:,3],datosentrenamiento[:,0])\n",
    "#np.corrcoef(datosentrenamiento[:,4],datosentrenamiento[:,0])\n",
    "#np.corrcoef(datosentrenamiento[:,5],datosentrenamiento[:,0])\n",
    "\n",
    "plt.show()"
   ]
  },
  {
   "cell_type": "markdown",
   "metadata": {},
   "source": [
    "## Elección de las 2 variables con más potencial predictivo\n",
    "\n",
    "### Se ecoge x1 con un coeficiente de correlación de 0.79 y\n",
    "\n",
    "\n",
    "### Se ecoge x2 con un coeficiente de correlación de 0.61"
   ]
  },
  {
   "cell_type": "code",
   "execution_count": 190,
   "metadata": {},
   "outputs": [
    {
     "name": "stdout",
     "output_type": "stream",
     "text": [
      "columnas de unos [[1.]\n",
      " [1.]\n",
      " [1.]\n",
      " ...\n",
      " [1.]\n",
      " [1.]\n",
      " [1.]]\n",
      "Rango de la Matriz de unos 2\n",
      "forma de la columnas de unos (1168, 1)\n",
      "Matriz de y [[208500.]\n",
      " [181500.]\n",
      " [223500.]\n",
      " ...\n",
      " [233170.]\n",
      " [245350.]\n",
      " [173000.]]\n",
      "Rango de la Matriz de y 2\n",
      "Dimension de la Matriz de y (1168, 1)\n",
      "Matriz de x1 [[7.]\n",
      " [6.]\n",
      " [7.]\n",
      " ...\n",
      " [7.]\n",
      " [8.]\n",
      " [6.]]\n",
      "Rango de la Matriz de x1 2\n",
      "Dimension de la Matriz de x1 (1168, 1)\n",
      "Matriz de x2 [[ 856.]\n",
      " [1262.]\n",
      " [ 920.]\n",
      " ...\n",
      " [1502.]\n",
      " [1694.]\n",
      " [ 959.]]\n",
      "Rango de la Matriz de x2 2\n",
      "Dimension de la Matriz de x2 (1168, 1)\n",
      "Matriz de x y unos [[7. 1.]\n",
      " [6. 1.]\n",
      " [7. 1.]\n",
      " ...\n",
      " [7. 1.]\n",
      " [8. 1.]\n",
      " [6. 1.]]\n",
      "Rango de la Matriz de x y unos 2\n",
      "Dimension de la Matriz de x y unos (1168, 2)\n",
      "Tipo de la matriz de x y unos <class 'numpy.ndarray'>\n"
     ]
    }
   ],
   "source": [
    "## area de pruebas \n",
    "yobs = datosentrenamiento[:,0] \n",
    "\n",
    "y1 = np.reshape(yobs,(1168,1)) ## conviertiendo el vector a matriz\n",
    "\n",
    "x1 = np.reshape(datosentrenamiento[:,1],(1168,1)) ## convirtiendo el vector a matriz de 1168 filas por una columna\n",
    "x2 = np.reshape(datosentrenamiento[:,2],(1168,1)) ## convirtiendo el vector a matriz de 1168 filas por una columna\n",
    "\n",
    "y2 = np.reshape(datosvaliprue[:,0],(292,1)) ## convirtiendo el vector a matriz de 292 filas por una columna\n",
    "x11 = np.reshape(datosvaliprue[:,1],(292,1)) ## convirtiendo el vector a matriz de 292 filas por una columna\n",
    "x22 = np.reshape(datosvaliprue[:,1],(292,1)) ## convirtiendo el vector a matriz de 292 filas por una columna\n",
    "\n",
    "unos = np.ones_like(x1) ## generando una columan de unos\n",
    "xyunos = np.hstack((x1,unos)) ## uniendo las columnas\n",
    "\n",
    "print (\"columnas de unos\", unos)\n",
    "print(\"Rango de la Matriz de unos\", unos.ndim)\n",
    "print (\"forma de la columnas de unos\",unos.shape)\n",
    "\n",
    "#solounos = xyunos.transpose() ## ya no hay necesidad de trasnponer pues al unir horizontalmente se pegaron las columnas verprint\n",
    "\n",
    "print(\"Matriz de y\", y1)\n",
    "print(\"Rango de la Matriz de y\", y1.ndim)\n",
    "print(\"Dimension de la Matriz de y\", y1.shape)\n",
    "\n",
    "print(\"Matriz de x1\", x1)\n",
    "print(\"Rango de la Matriz de x1\", x1.ndim)\n",
    "print(\"Dimension de la Matriz de x1\", x1.shape)\n",
    "\n",
    "print(\"Matriz de x2\", x2)\n",
    "print(\"Rango de la Matriz de x2\", x2.ndim)\n",
    "print(\"Dimension de la Matriz de x2\", x2.shape)\n",
    "\n",
    "print(\"Matriz de x y unos\", xyunos)\n",
    "print(\"Rango de la Matriz de x y unos\", xyunos.ndim)\n",
    "print(\"Dimension de la Matriz de x y unos\", xyunos.shape)\n",
    "print(\"Tipo de la matriz de x y unos\", type(xyunos))\n",
    "\n"
   ]
  },
  {
   "cell_type": "code",
   "execution_count": 191,
   "metadata": {},
   "outputs": [
    {
     "name": "stdout",
     "output_type": "stream",
     "text": [
      "[[0]\n",
      " [0]]\n",
      "Rango 2\n",
      "Dimension (2, 1)\n",
      "Dimension <class 'numpy.ndarray'>\n"
     ]
    }
   ],
   "source": [
    "## area de pruebas \n",
    "\n",
    "m = 0\n",
    "b = 0\n",
    "estimadores =  np.array([[m],\n",
    "                         [b]])\n",
    "\n",
    "print(estimadores)\n",
    "print(\"Rango\", estimadores.ndim)\n",
    "print(\"Dimension\", estimadores.shape)\n",
    "print(\"Dimension\", type(estimadores))"
   ]
  },
  {
   "cell_type": "code",
   "execution_count": 192,
   "metadata": {},
   "outputs": [
    {
     "name": "stdout",
     "output_type": "stream",
     "text": [
      "[[0.]\n",
      " [0.]\n",
      " [0.]\n",
      " ...\n",
      " [0.]\n",
      " [0.]\n",
      " [0.]]\n",
      "2\n",
      "(1168, 1)\n",
      "<class 'numpy.ndarray'>\n"
     ]
    }
   ],
   "source": [
    "## area de pruebas\n",
    "yjat = np.matmul(xyunos,estimadores)\n",
    "\n",
    "print(yjat)\n",
    "print(yjat.ndim)\n",
    "print(yjat.shape)\n",
    "print(type(yjat))\n"
   ]
  },
  {
   "cell_type": "code",
   "execution_count": 193,
   "metadata": {},
   "outputs": [
    {
     "name": "stdout",
     "output_type": "stream",
     "text": [
      "19409722053.22175\n",
      "<class 'numpy.float64'>\n"
     ]
    }
   ],
   "source": [
    "# area de pruebas \n",
    "error = (np.mean(np.power(y1-yjat,2)))*0.5 ## calculo del error\n",
    "        \n",
    "#vekerror = np.array([i,error]) ## vector de error\n",
    "\n",
    "print(error)\n",
    "print(type(error))"
   ]
  },
  {
   "cell_type": "code",
   "execution_count": 194,
   "metadata": {},
   "outputs": [
    {
     "name": "stdout",
     "output_type": "stream",
     "text": [
      "[[-208500.]\n",
      " [-181500.]\n",
      " [-223500.]\n",
      " ...\n",
      " [-233170.]\n",
      " [-245350.]\n",
      " [-173000.]]\n",
      "2\n",
      "(1168, 1)\n",
      "<class 'numpy.ndarray'>\n",
      "[[-208500. -208500.]\n",
      " [-181500. -181500.]\n",
      " [-223500. -223500.]\n",
      " ...\n",
      " [-233170. -233170.]\n",
      " [-245350. -245350.]\n",
      " [-173000. -173000.]]\n",
      "2\n",
      "(1168, 2)\n",
      "<class 'numpy.ndarray'>\n"
     ]
    }
   ],
   "source": [
    "# area de preubas\n",
    "resta = yjat - y1\n",
    "\n",
    "\n",
    "restaa = np.squeeze(np.asarray(np.hstack((resta,resta)))) \n",
    "\n",
    "#np.squeeze(np.asarray(M))\n",
    "\n",
    "print(resta)\n",
    "print(resta.ndim)\n",
    "print(resta.shape)\n",
    "print(type(resta)) \n",
    "\n",
    "print(restaa)\n",
    "print(restaa.ndim)\n",
    "print(restaa.shape)\n",
    "print(type(restaa))"
   ]
  },
  {
   "cell_type": "code",
   "execution_count": 195,
   "metadata": {},
   "outputs": [
    {
     "name": "stdout",
     "output_type": "stream",
     "text": [
      "1\n",
      "2\n",
      "3\n"
     ]
    }
   ],
   "source": [
    "# areas de pruebas \n",
    "for i in range(0,3):\n",
    "    print(i+1) "
   ]
  },
  {
   "cell_type": "code",
   "execution_count": 196,
   "metadata": {},
   "outputs": [
    {
     "name": "stdout",
     "output_type": "stream",
     "text": [
      "(2, 2)\n",
      "2\n",
      "<class 'numpy.ndarray'>\n",
      "multiplicacion [[12 18]\n",
      " [10 14]]\n",
      "media [11. 16.]\n"
     ]
    }
   ],
   "source": [
    "# area de preubas\n",
    "multi1 =  np.array([[3,3],\n",
    "                    [2,2]])\n",
    "\n",
    "multi2 =  np.array([[4,6],\n",
    "                    [5,7]])\n",
    "\n",
    "resultado = multi2 * multi1\n",
    "\n",
    "media = np.mean(resultado,axis=0)\n",
    "\n",
    "print(multi1.shape)\n",
    "print(multi1.ndim)\n",
    "print(type(multi1))\n",
    "\n",
    "print(\"multiplicacion\", resultado)\n",
    "\n",
    "print(\"media\", media)"
   ]
  },
  {
   "cell_type": "code",
   "execution_count": 197,
   "metadata": {},
   "outputs": [
    {
     "name": "stdout",
     "output_type": "stream",
     "text": [
      "[-1187947.67380137  -180590.27739726]\n",
      "(2,)\n",
      "1\n",
      "<class 'numpy.ndarray'>\n"
     ]
    }
   ],
   "source": [
    "## area de pruebas\n",
    "lara = np.mean(restaa * xyunos,axis=0) ## para poder hacer la multiplicacion hadamor una matrix debe tener la forma np.array\n",
    "## y la otra puede ser np.matrix \n",
    "\n",
    "\n",
    "\n",
    "print(lara)\n",
    "print(lara.shape) #observar la forma \n",
    "print(lara.ndim) #observar la dimnesion ahora es un vector \n",
    "print(type(lara)) #observar el tipo"
   ]
  },
  {
   "cell_type": "code",
   "execution_count": 198,
   "metadata": {},
   "outputs": [
    {
     "name": "stdout",
     "output_type": "stream",
     "text": [
      "[[-1187947.67380137]\n",
      " [ -180590.27739726]]\n",
      "(2, 1)\n",
      "2\n"
     ]
    }
   ],
   "source": [
    "## area de pruebas\n",
    "## cambiando la forma de lara\n",
    "\n",
    "newlara = np.reshape(lara,(2,1))\n",
    "print(newlara)\n",
    "print(newlara.shape) #observar la forma \n",
    "print(newlara.ndim) #observar la dimnesion ahora es un vector "
   ]
  },
  {
   "cell_type": "code",
   "execution_count": 199,
   "metadata": {},
   "outputs": [
    {
     "name": "stdout",
     "output_type": "stream",
     "text": [
      "2\n",
      "(2, 1)\n",
      "<class 'numpy.ndarray'>\n"
     ]
    }
   ],
   "source": [
    "## area de pruebas\n",
    "## se pouede poner como vector, sin embargo se dejara como escalar para provechar el broadcasting\n",
    "llrr =  np.array([[2],\n",
    "                  [2]])\n",
    "\n",
    "print(llrr.ndim)\n",
    "print(llrr.shape)\n",
    "print(type(llrr))"
   ]
  },
  {
   "cell_type": "code",
   "execution_count": 200,
   "metadata": {},
   "outputs": [
    {
     "name": "stdout",
     "output_type": "stream",
     "text": [
      "[[-2375895.34760274]\n",
      " [ -361180.55479452]]\n"
     ]
    }
   ],
   "source": [
    "## area de pruebas\n",
    "pasoa = llrr * newlara\n",
    "\n",
    "print(pasoa)"
   ]
  },
  {
   "cell_type": "code",
   "execution_count": 201,
   "metadata": {},
   "outputs": [
    {
     "name": "stdout",
     "output_type": "stream",
     "text": [
      "[[2375895.34760274]\n",
      " [ 361180.55479452]]\n",
      "2\n",
      "(2, 1)\n",
      "<class 'numpy.ndarray'>\n"
     ]
    }
   ],
   "source": [
    "## area de pruebas\n",
    "pasob = estimadores - pasoa\n",
    "\n",
    "print(pasob)\n",
    "print(pasob.ndim)\n",
    "print(pasob.shape)\n",
    "print(type(pasob))"
   ]
  },
  {
   "cell_type": "markdown",
   "metadata": {},
   "source": [
    "## Creando una función para entrenar un modelo de regresión lineal de una variable y = mx+b"
   ]
  },
  {
   "cell_type": "code",
   "execution_count": 202,
   "metadata": {},
   "outputs": [],
   "source": [
    "m = 0\n",
    "b = 0\n",
    "i = 1\n",
    "\n",
    "def reglineal(x,y,epochs,imprimir,lr):\n",
    "    unos = np.ones_like(x)\n",
    "    xyunos = np.hstack((x,unos))\n",
    "       \n",
    "    m = 0\n",
    "    b = 0\n",
    "       \n",
    "    estimadores =  np.array([[m],\n",
    "                             [b]])\n",
    "    \n",
    "    llrr = lr # se dejara como escalar para aprovechar el broadcasting \n",
    "    \n",
    "    listaerrores = [] \n",
    "    diccionarioparametros = {}\n",
    "    \n",
    "    for i in range(epochs):\n",
    "        yhat = np.matmul(xyunos,estimadores) ## calculo de yhat\n",
    "        \n",
    "        error = (np.mean(np.power(y-yhat,2)))*0.5 ## calculo del error\n",
    "        \n",
    "        vekerror = np.array([i,error]) ## vector de error\n",
    "        \n",
    "        resta = yhat - y ## para gradientes resta\n",
    "        \n",
    "        restaa = np.squeeze(np.asarray(np.hstack((resta,resta)))) ## para gradientes se unieron columnas y lo dejo de tipo np.array\n",
    "        \n",
    "        gradientes = np.reshape(np.mean(restaa * xyunos,axis=0),(2,1)) ## para gradientes multiplicacion hadamard y media de las columnas como es un escalar lo volvemos np.array de dos filas y una columna\n",
    "        \n",
    "        estimadores = estimadores - (llrr*gradientes) ##actualizacion de los parametros del modelo\n",
    "                \n",
    "        #modresultante = {i:estimadores} ## este es un diccionario que tien como llave la iteracion y como valor la lista de m y b\n",
    "        \n",
    "        listaerrores.append(error)\n",
    "        \n",
    "        diccionarioparametros[i] = estimadores\n",
    "        diccionarioparametros[0] = xyunos\n",
    "        \n",
    "        if i % imprimir == 0: print(\"Error\", i,error) \n",
    "            #print(\"Parametros\", modresultante)## imrpimiendo el vector de error\n",
    "            #print(type(vekerror))\n",
    "            #print(vekerror.ndim)\n",
    "    \n",
    "    return diccionarioparametros,listaerrores\n",
    "    #return diccionarioparametros\n",
    "    #return listaerrores"
   ]
  },
  {
   "cell_type": "markdown",
   "metadata": {},
   "source": [
    "## Aplicando función para entrenar X1"
   ]
  },
  {
   "cell_type": "code",
   "execution_count": 203,
   "metadata": {},
   "outputs": [
    {
     "name": "stdout",
     "output_type": "stream",
     "text": [
      "Error 0 19409722053.22175\n",
      "Error 2 3717770447.2485504\n",
      "Error 4 1693499585.3201838\n",
      "Error 6 1432013147.1072414\n",
      "Error 8 1397881894.3230963\n",
      "Error 10 1393074454.2065673\n",
      "Error 12 1392049808.2823179\n",
      "Error 14 1391513812.4658082\n",
      "Error 16 1391041604.393331\n",
      "Error 18 1390578386.165159\n",
      "{0: array([[7., 1.],\n",
      "       [6., 1.],\n",
      "       [7., 1.],\n",
      "       ...,\n",
      "       [7., 1.],\n",
      "       [8., 1.],\n",
      "       [6., 1.]]), 1: array([[19001.53982636],\n",
      "       [ 2868.97638977]]), 2: array([[23272.60317825],\n",
      "       [ 3486.90024914]]), 3: array([[25835.1326937 ],\n",
      "       [ 3838.06612466]]), 4: array([[27373.77944674],\n",
      "       [ 4029.37971362]]), 5: array([[28298.83760325],\n",
      "       [ 4124.90690675]]), 6: array([[28856.18613591],\n",
      "       [ 4163.04077637]]), 7: array([[29193.17412825],\n",
      "       [ 4166.78932062]]), 8: array([[29398.10417991],\n",
      "       [ 4149.9406497 ]]), 9: array([[29523.89381811],\n",
      "       [ 4120.75762688]]), 10: array([[29602.25518638],\n",
      "       [ 4084.191974  ]]), 11: array([[29652.19257522],\n",
      "       [ 4043.21112911]]), 12: array([[29685.09477854],\n",
      "       [ 3999.59339889]]), 13: array([[29707.78681465],\n",
      "       [ 3954.40447353]]), 14: array([[29724.35874605],\n",
      "       [ 3908.28299008]]), 15: array([[29737.26164492],\n",
      "       [ 3861.6116634 ]]), 16: array([[29747.96437785],\n",
      "       [ 3814.61984059]]), 17: array([[29757.34720031],\n",
      "       [ 3767.44495933]]), 18: array([[29765.93762791],\n",
      "       [ 3720.16937832]]), 19: array([[29774.05178814],\n",
      "       [ 3672.84244878]])} [19409722053.22175, 7864249914.497766, 3717770447.2485504, 2228493860.9273734, 1693499585.3201838, 1501217180.3691475, 1432013147.1072414, 1407010432.6858757, 1397881894.3230963, 1394454395.5238414, 1393074454.2065673, 1392429993.9828548, 1392049808.2823179, 1391764672.3966374, 1391513812.4658082, 1391275402.6197581, 1391041604.393331, 1390809602.6229498, 1390578386.165159, 1390347591.7549832]\n",
      "<class 'dict'>\n",
      "<class 'list'>\n"
     ]
    }
   ],
   "source": [
    "parametros,errores= reglineal(x1,y1,20,2,.01) ## dandelo uso a la funcion \n",
    "print(parametros,errores)\n",
    "print(type(parametros))\n",
    "print(type(errores))"
   ]
  },
  {
   "cell_type": "markdown",
   "metadata": {},
   "source": [
    "## Aplicando función para entrenar X2"
   ]
  },
  {
   "cell_type": "code",
   "execution_count": 204,
   "metadata": {},
   "outputs": [
    {
     "name": "stdout",
     "output_type": "stream",
     "text": [
      "Error 0 19409722053.22175\n",
      "Error 2 2868596297.1587853\n",
      "Error 4 2014585618.3584688\n",
      "Error 6 1970493426.8857822\n",
      "Error 8 1968216951.8711164\n",
      "Error 10 1968099402.9339027\n",
      "Error 12 1968093318.3503563\n",
      "Error 14 1968092988.619781\n",
      "Error 16 1968092956.009606\n",
      "Error 18 1968092938.739625\n",
      "{0: array([[8.560e+02, 1.000e+00],\n",
      "       [1.262e+03, 1.000e+00],\n",
      "       [9.200e+02, 1.000e+00],\n",
      "       ...,\n",
      "       [1.502e+03, 1.000e+00],\n",
      "       [1.694e+03, 1.000e+00],\n",
      "       [9.590e+02, 1.000e+00]]), 1: array([[1.18773807e+02],\n",
      "       [9.87400314e-02]]), 2: array([[1.70344183e+02],\n",
      "       [1.41989250e-01]]), 3: array([[1.45761747e+02],\n",
      "       [1.25606381e-01]]), 4: array([[1.57479635e+02],\n",
      "       [1.37648780e-01]]), 5: array([[1.51893980e+02],\n",
      "       [1.36141496e-01]]), 6: array([[1.54556532e+02],\n",
      "       [1.41093040e-01]]), 7: array([[1.53287350e+02],\n",
      "       [1.42965806e-01]]), 8: array([[1.53892337e+02],\n",
      "       [1.46306155e-01]]), 9: array([[1.5360395e+02],\n",
      "       [1.4894694e-01]]), 10: array([[1.53741415e+02],\n",
      "       [1.51921191e-01]]), 11: array([[153.6758852 ],\n",
      "       [  0.15473649]]), 12: array([[153.70711827],\n",
      "       [  0.15762755]]), 13: array([[153.69222686],\n",
      "       [  0.1604825 ]]), 14: array([[153.69932194],\n",
      "       [  0.16335466]]), 15: array([[153.69593656],\n",
      "       [  0.16621862]]), 16: array([[153.69754698],\n",
      "       [  0.16908648]]), 17: array([[153.69677602],\n",
      "       [  0.17195249]]), 18: array([[153.6971402 ],\n",
      "       [  0.17481938]]), 19: array([[153.69696329],\n",
      "       [  0.17768585]])} [19409722053.22175, 5931203368.090003, 2868596297.1587853, 2172706611.0459847, 2014585618.3584688, 1978657148.3115528, 1970493426.8857822, 1968638448.8211975, 1968216951.8711164, 1968121172.4194336, 1968099402.9339027, 1968094450.0919883, 1968093318.3503563, 1968093054.8442492, 1968092988.619781, 1968092967.2219129, 1968092956.009606, 1968092947.1116765, 1968092938.739625, 1968092930.4870648]\n",
      "<class 'dict'>\n",
      "<class 'list'>\n"
     ]
    },
    {
     "data": {
      "text/plain": [
       "int"
      ]
     },
     "execution_count": 204,
     "metadata": {},
     "output_type": "execute_result"
    }
   ],
   "source": [
    "parametros,errores= reglineal(x2,y1,20,2,.000001) ## dandelo uso a la funcion \n",
    "print(parametros,errores)\n",
    "print(type(parametros))\n",
    "print(type(errores))\n",
    "len(errores)\n",
    "type(len(errores))"
   ]
  },
  {
   "cell_type": "code",
   "execution_count": 205,
   "metadata": {},
   "outputs": [
    {
     "name": "stdout",
     "output_type": "stream",
     "text": [
      "20\n",
      "<class 'numpy.ndarray'>\n",
      "(20, 1)\n",
      "[[1.94097221e+10]\n",
      " [5.93120337e+09]\n",
      " [2.86859630e+09]\n",
      " [2.17270661e+09]\n",
      " [2.01458562e+09]\n",
      " [1.97865715e+09]\n",
      " [1.97049343e+09]\n",
      " [1.96863845e+09]\n",
      " [1.96821695e+09]\n",
      " [1.96812117e+09]\n",
      " [1.96809940e+09]\n",
      " [1.96809445e+09]\n",
      " [1.96809332e+09]\n",
      " [1.96809305e+09]\n",
      " [1.96809299e+09]\n",
      " [1.96809297e+09]\n",
      " [1.96809296e+09]\n",
      " [1.96809295e+09]\n",
      " [1.96809294e+09]\n",
      " [1.96809293e+09]]\n",
      "20\n",
      "<class 'numpy.ndarray'>\n",
      "(20, 1)\n",
      "[[ 1]\n",
      " [ 2]\n",
      " [ 3]\n",
      " [ 4]\n",
      " [ 5]\n",
      " [ 6]\n",
      " [ 7]\n",
      " [ 8]\n",
      " [ 9]\n",
      " [10]\n",
      " [11]\n",
      " [12]\n",
      " [13]\n",
      " [14]\n",
      " [15]\n",
      " [16]\n",
      " [17]\n",
      " [18]\n",
      " [19]\n",
      " [20]]\n",
      "20\n",
      "<class 'numpy.ndarray'>\n",
      "(20, 2)\n",
      "[[1.00000000e+00 1.94097221e+10]\n",
      " [2.00000000e+00 5.93120337e+09]\n",
      " [3.00000000e+00 2.86859630e+09]\n",
      " [4.00000000e+00 2.17270661e+09]\n",
      " [5.00000000e+00 2.01458562e+09]\n",
      " [6.00000000e+00 1.97865715e+09]\n",
      " [7.00000000e+00 1.97049343e+09]\n",
      " [8.00000000e+00 1.96863845e+09]\n",
      " [9.00000000e+00 1.96821695e+09]\n",
      " [1.00000000e+01 1.96812117e+09]\n",
      " [1.10000000e+01 1.96809940e+09]\n",
      " [1.20000000e+01 1.96809445e+09]\n",
      " [1.30000000e+01 1.96809332e+09]\n",
      " [1.40000000e+01 1.96809305e+09]\n",
      " [1.50000000e+01 1.96809299e+09]\n",
      " [1.60000000e+01 1.96809297e+09]\n",
      " [1.70000000e+01 1.96809296e+09]\n",
      " [1.80000000e+01 1.96809295e+09]\n",
      " [1.90000000e+01 1.96809294e+09]\n",
      " [2.00000000e+01 1.96809293e+09]]\n",
      "[1.00000000e+01 1.96812117e+09]\n"
     ]
    }
   ],
   "source": [
    "## area de pruebas \n",
    "erroresnuevos = np.reshape(np.array(errores),(len(errores),1))\n",
    "\n",
    "print(len(erroresnuevos))\n",
    "print(type(erroresnuevos))\n",
    "print(erroresnuevos.shape)\n",
    "print(erroresnuevos)\n",
    "\n",
    "iteraciones = np.reshape(np.arange(1,len(erroresnuevos)+1),(len(errores),1))\n",
    "\n",
    "print(len(iteraciones))\n",
    "print(type(iteraciones))\n",
    "print(iteraciones.shape)\n",
    "print(iteraciones)\n",
    "\n",
    "itererro = np.hstack((iteraciones,erroresnuevos))\n",
    "\n",
    "print(len(itererro))\n",
    "print(type(itererro))\n",
    "print(itererro.shape)\n",
    "print(itererro)\n",
    "\n",
    "print(itererro[9])\n"
   ]
  },
  {
   "cell_type": "code",
   "execution_count": 206,
   "metadata": {},
   "outputs": [
    {
     "data": {
      "image/png": "[encoded data removed]",
      "text/plain": [
       "<Figure size 432x288 with 1 Axes>"
      ]
     },
     "metadata": {},
     "output_type": "display_data"
    }
   ],
   "source": [
    "## area de pruebas de la funcion dos \n",
    "fig = plt.figure()\n",
    "ax6 = fig.add_subplot(1,1,1) #creamos un canvas con  1 fila, 1 columna y devolvemos una referencia a la primera grafica\n",
    "#ax = fig.add_subplot(111) \n",
    "\n",
    "ax6.plot(iteraciones, erroresnuevos, color=\"g\") # tambien se pudo usar \"green\" en lugar de el abreviado \"g\"\n",
    "\n",
    "ax6.set_xlabel('iteración')\n",
    "ax6.set_ylabel('error')\n",
    "ax6.set_title('Grafica de error')\n",
    "\n",
    "plt.show()"
   ]
  },
  {
   "cell_type": "code",
   "execution_count": 207,
   "metadata": {},
   "outputs": [
    {
     "name": "stdout",
     "output_type": "stream",
     "text": [
      "(1168, 2)\n",
      "2\n",
      "[[8.560e+02 1.000e+00]\n",
      " [1.262e+03 1.000e+00]\n",
      " [9.200e+02 1.000e+00]\n",
      " ...\n",
      " [1.502e+03 1.000e+00]\n",
      " [1.694e+03 1.000e+00]\n",
      " [9.590e+02 1.000e+00]]\n",
      "(2, 1)\n",
      "2\n",
      "[[153.69696329]\n",
      " [  0.17768585]]\n"
     ]
    }
   ],
   "source": [
    "## area de pruebas\n",
    "diccionario = parametros\n",
    "#print(len(diccionario))\n",
    "#print(type(diccionario))\n",
    "#print(diccionario)\n",
    "\n",
    "elementos1 = diccionario[0]\n",
    "print(elementos1.shape)\n",
    "print(elementos1.ndim)\n",
    "print(elementos1)\n",
    "\n",
    "elementos2 = diccionario[19]\n",
    "print(elementos2.shape)\n",
    "print(elementos2.ndim)\n",
    "print(elementos2)"
   ]
  },
  {
   "cell_type": "code",
   "execution_count": 208,
   "metadata": {},
   "outputs": [
    {
     "data": {
      "image/png": "[encoded data removed]",
      "text/plain": [
       "<Figure size 432x288 with 1 Axes>"
      ]
     },
     "metadata": {},
     "output_type": "display_data"
    }
   ],
   "source": [
    "## area de pruebas\n",
    "ejex = elementos1[:,0] \n",
    "ejey = np.matmul(elementos1,elementos2) \n",
    "\n",
    "fig = plt.figure()\n",
    "ax7 = fig.add_subplot(1,1,1) #creamos un canvas con  1 fila, 1 columna y devolvemos una referencia a la primera grafica\n",
    "\n",
    "ax7.plot(ejex,ejey, color=\"g\") # tambien se pudo usar \"green\" en lugar de el abreviado \"g\"\n",
    "\n",
    "ax7.set_xlabel('x')\n",
    "ax7.set_ylabel('y')\n",
    "ax7.set_title('Grafica X-Y')\n",
    "\n",
    "plt.show()"
   ]
  },
  {
   "cell_type": "code",
   "execution_count": 209,
   "metadata": {},
   "outputs": [],
   "source": [
    "#iteraciones = np.array(parametros.keys(),(10,1))\n",
    "#print(type(iteraciones))\n",
    "#print(iteraciones)"
   ]
  },
  {
   "cell_type": "markdown",
   "metadata": {},
   "source": [
    "## Crando una función para gráficar los errores y la iteración "
   ]
  },
  {
   "cell_type": "code",
   "execution_count": 210,
   "metadata": {},
   "outputs": [],
   "source": [
    "def grafica1(reglineal):\n",
    "    parametros,errores = reglineal ## dandelo uso a la funcion\n",
    "    erroresnuevos = np.reshape(np.array(errores),(len(errores),1))\n",
    "    iteraciones = np.reshape(np.arange(1,len(erroresnuevos)+1),(len(errores),1))\n",
    "    fig = plt.figure(figsize=(15,15))\n",
    "    ax6 = fig.add_subplot(1,1,1) #creamos un canvas con  1 fila, 1 columna y devolvemos una referencia a la primera grafica\n",
    "    \n",
    "    ax6.plot(iteraciones, erroresnuevos, color=\"r\") # tambien se pudo usar \"green\" en lugar de el abreviado \"g\"\n",
    "\n",
    "    ax6.set_xlabel('iteración')\n",
    "    ax6.set_ylabel('error')\n",
    "    ax6.set_title('Gráfica de error')\n",
    "\n",
    "    plt.show()\n",
    "     "
   ]
  },
  {
   "cell_type": "markdown",
   "metadata": {},
   "source": [
    "## Aplicando función Graficar Errores de X1"
   ]
  },
  {
   "cell_type": "code",
   "execution_count": 211,
   "metadata": {},
   "outputs": [
    {
     "name": "stdout",
     "output_type": "stream",
     "text": [
      "Error 0 19409722053.22175\n",
      "Error 2 3717770447.2485504\n",
      "Error 4 1693499585.3201838\n",
      "Error 6 1432013147.1072414\n",
      "Error 8 1397881894.3230963\n",
      "Error 10 1393074454.2065673\n",
      "Error 12 1392049808.2823179\n",
      "Error 14 1391513812.4658082\n",
      "Error 16 1391041604.393331\n",
      "Error 18 1390578386.165159\n"
     ]
    },
    {
     "data": {
      "image/png": "[encoded data removed]",
      "text/plain": [
       "<Figure size 1080x1080 with 1 Axes>"
      ]
     },
     "metadata": {},
     "output_type": "display_data"
    }
   ],
   "source": [
    "grafica1(reglineal(x1,y1,20,2,0.01))"
   ]
  },
  {
   "cell_type": "markdown",
   "metadata": {},
   "source": [
    "## Aplicando función para Graficar Errores de X2"
   ]
  },
  {
   "cell_type": "code",
   "execution_count": 212,
   "metadata": {},
   "outputs": [
    {
     "name": "stdout",
     "output_type": "stream",
     "text": [
      "Error 0 19409722053.22175\n",
      "Error 2 2868596297.1587853\n",
      "Error 4 2014585618.3584688\n",
      "Error 6 1970493426.8857822\n",
      "Error 8 1968216951.8711164\n",
      "Error 10 1968099402.9339027\n",
      "Error 12 1968093318.3503563\n",
      "Error 14 1968092988.619781\n",
      "Error 16 1968092956.009606\n",
      "Error 18 1968092938.739625\n"
     ]
    },
    {
     "data": {
      "image/png": "[encoded data removed]",
      "text/plain": [
       "<Figure size 1080x1080 with 1 Axes>"
      ]
     },
     "metadata": {},
     "output_type": "display_data"
    }
   ],
   "source": [
    "grafica1(reglineal(x2,y1,20,2,.000001))"
   ]
  },
  {
   "cell_type": "markdown",
   "metadata": {},
   "source": [
    "## Creando una función para graficar rectas "
   ]
  },
  {
   "cell_type": "markdown",
   "metadata": {},
   "source": [
    "## Aplicando función para Graficar rectas de X1"
   ]
  },
  {
   "cell_type": "code",
   "execution_count": 213,
   "metadata": {},
   "outputs": [],
   "source": [
    "def grafica2(reglineal,n):\n",
    "    parametros,errores = reglineal## dandelo uso a la funcion\n",
    "    tope = len(errores)\n",
    "    diccionario = parametros\n",
    "    elementos1 = diccionario[0] ## sacando la matriz de x y unos del diccionario, es en cero por que ahi esta la data\n",
    "    ejex = elementos1[:,0] ## sacando el vector de x de la matrix de x y unos\n",
    "        \n",
    "    for i in range(1,tope):\n",
    "        \n",
    "        elementos2 = diccionario[i] ## sacando los parametro m y b del diccionario, se empieza en uno por que a partir de ahi estan las m y b\n",
    "        ejey = np.matmul(elementos1,elementos2) ## calculo de la yhat\n",
    "        \n",
    "        fig = plt.figure(figsize=(15,10))\n",
    "        ax7 = fig.add_subplot(4,5,i) #creamos un canvas con  1 fila, 1 columna y devolvemos una referencia a la primera grafica\n",
    "\n",
    "        ax7.plot(ejex, ejey, color=\"y\") # tambien se pudo usar \"green\" en lugar de el abreviado \"g\"\n",
    "\n",
    "        ax7.set_xlabel('x'+str(i))\n",
    "        ax7.set_ylabel('y')\n",
    "        ax7.set_title('Grafica X-Y')\n",
    "    plt.tight_layout()"
   ]
  },
  {
   "cell_type": "code",
   "execution_count": 214,
   "metadata": {},
   "outputs": [
    {
     "name": "stdout",
     "output_type": "stream",
     "text": [
      "Error 0 19409722053.22175\n",
      "Error 2 3717770447.2485504\n",
      "Error 4 1693499585.3201838\n",
      "Error 6 1432013147.1072414\n",
      "Error 8 1397881894.3230963\n",
      "Error 10 1393074454.2065673\n",
      "Error 12 1392049808.2823179\n",
      "Error 14 1391513812.4658082\n",
      "Error 16 1391041604.393331\n",
      "Error 18 1390578386.165159\n"
     ]
    },
    {
     "data": {
      "image/png": "[encoded data removed]",
      "text/plain": [
       "<Figure size 1080x720 with 1 Axes>"
      ]
     },
     "metadata": {},
     "output_type": "display_data"
    },
    {
     "data": {
      "image/png": "[encoded data removed]",
      "text/plain": [
       "<Figure size 1080x720 with 1 Axes>"
      ]
     },
     "metadata": {},
     "output_type": "display_data"
    },
    {
     "data": {
      "image/png": "[encoded data removed]",
      "text/plain": [
       "<Figure size 1080x720 with 1 Axes>"
      ]
     },
     "metadata": {},
     "output_type": "display_data"
    },
    {
     "data": {
      "image/png": "[encoded data removed]",
      "text/plain": [
       "<Figure size 1080x720 with 1 Axes>"
      ]
     },
     "metadata": {},
     "output_type": "display_data"
    },
    {
     "data": {
      "image/png": "[encoded data removed]",
      "text/plain": [
       "<Figure size 1080x720 with 1 Axes>"
      ]
     },
     "metadata": {},
     "output_type": "display_data"
    },
    {
     "data": {
      "image/png": "[encoded data removed]",
      "text/plain": [
       "<Figure size 1080x720 with 1 Axes>"
      ]
     },
     "metadata": {},
     "output_type": "display_data"
    },
    {
     "data": {
      "image/png": "[encoded data removed]",
      "text/plain": [
       "<Figure size 1080x720 with 1 Axes>"
      ]
     },
     "metadata": {},
     "output_type": "display_data"
    },
    {
     "data": {
      "image/png": "[encoded data removed]",
      "text/plain": [
       "<Figure size 1080x720 with 1 Axes>"
      ]
     },
     "metadata": {},
     "output_type": "display_data"
    },
    {
     "data": {
      "image/png": "[encoded data removed]",
      "text/plain": [
       "<Figure size 1080x720 with 1 Axes>"
      ]
     },
     "metadata": {},
     "output_type": "display_data"
    },
    {
     "data": {
      "image/png": "[encoded data removed]",
      "text/plain": [
       "<Figure size 1080x720 with 1 Axes>"
      ]
     },
     "metadata": {},
     "output_type": "display_data"
    },
    {
     "data": {
      "image/png": "[encoded data removed]",
      "text/plain": [
       "<Figure size 1080x720 with 1 Axes>"
      ]
     },
     "metadata": {},
     "output_type": "display_data"
    },
    {
     "data": {
      "image/png": "[encoded data removed]",
      "text/plain": [
       "<Figure size 1080x720 with 1 Axes>"
      ]
     },
     "metadata": {},
     "output_type": "display_data"
    },
    {
     "data": {
      "image/png": "[encoded data removed]",
      "text/plain": [
       "<Figure size 1080x720 with 1 Axes>"
      ]
     },
     "metadata": {},
     "output_type": "display_data"
    },
    {
     "data": {
      "image/png": "[encoded data removed]",
      "text/plain": [
       "<Figure size 1080x720 with 1 Axes>"
      ]
     },
     "metadata": {},
     "output_type": "display_data"
    },
    {
     "data": {
      "image/png": "[encoded data removed]",
      "text/plain": [
       "<Figure size 1080x720 with 1 Axes>"
      ]
     },
     "metadata": {},
     "output_type": "display_data"
    },
    {
     "data": {
      "image/png": "[encoded data removed]",
      "text/plain": [
       "<Figure size 1080x720 with 1 Axes>"
      ]
     },
     "metadata": {},
     "output_type": "display_data"
    },
    {
     "data": {
      "image/png": "[encoded data removed]",
      "text/plain": [
       "<Figure size 1080x720 with 1 Axes>"
      ]
     },
     "metadata": {},
     "output_type": "display_data"
    },
    {
     "data": {
      "image/png": "[encoded data removed]",
      "text/plain": [
       "<Figure size 1080x720 with 1 Axes>"
      ]
     },
     "metadata": {},
     "output_type": "display_data"
    },
    {
     "data": {
      "image/png": "[encoded data removed]",
      "text/plain": [
       "<Figure size 1080x720 with 1 Axes>"
      ]
     },
     "metadata": {},
     "output_type": "display_data"
    }
   ],
   "source": [
    "grafica2(reglineal(x1,y1,20,2,0.01),5)"
   ]
  },
  {
   "cell_type": "markdown",
   "metadata": {},
   "source": [
    "## Aplicando función para Graficar rectas de X2"
   ]
  },
  {
   "cell_type": "code",
   "execution_count": 215,
   "metadata": {},
   "outputs": [
    {
     "name": "stdout",
     "output_type": "stream",
     "text": [
      "Error 0 19409722053.22175\n",
      "Error 2 2868596297.1587853\n",
      "Error 4 2014585618.3584688\n",
      "Error 6 1970493426.8857822\n",
      "Error 8 1968216951.8711164\n",
      "Error 10 1968099402.9339027\n",
      "Error 12 1968093318.3503563\n",
      "Error 14 1968092988.619781\n",
      "Error 16 1968092956.009606\n",
      "Error 18 1968092938.739625\n"
     ]
    },
    {
     "data": {
      "image/png": "[encoded data removed]",
      "text/plain": [
       "<Figure size 1080x720 with 1 Axes>"
      ]
     },
     "metadata": {},
     "output_type": "display_data"
    },
    {
     "data": {
      "image/png": "[encoded data removed]",
      "text/plain": [
       "<Figure size 1080x720 with 1 Axes>"
      ]
     },
     "metadata": {},
     "output_type": "display_data"
    },
    {
     "data": {
      "image/png": "[encoded data removed]",
      "text/plain": [
       "<Figure size 1080x720 with 1 Axes>"
      ]
     },
     "metadata": {},
     "output_type": "display_data"
    },
    {
     "data": {
      "image/png": "[encoded data removed]",
      "text/plain": [
       "<Figure size 1080x720 with 1 Axes>"
      ]
     },
     "metadata": {},
     "output_type": "display_data"
    },
    {
     "data": {
      "image/png": "[encoded data removed]",
      "text/plain": [
       "<Figure size 1080x720 with 1 Axes>"
      ]
     },
     "metadata": {},
     "output_type": "display_data"
    },
    {
     "data": {
      "image/png": "[encoded data removed]",
      "text/plain": [
       "<Figure size 1080x720 with 1 Axes>"
      ]
     },
     "metadata": {},
     "output_type": "display_data"
    },
    {
     "data": {
      "image/png": "[encoded data removed]",
      "text/plain": [
       "<Figure size 1080x720 with 1 Axes>"
      ]
     },
     "metadata": {},
     "output_type": "display_data"
    },
    {
     "data": {
      "image/png": "[encoded data removed]",
      "text/plain": [
       "<Figure size 1080x720 with 1 Axes>"
      ]
     },
     "metadata": {},
     "output_type": "display_data"
    },
    {
     "data": {
      "image/png": "[encoded data removed]",
      "text/plain": [
       "<Figure size 1080x720 with 1 Axes>"
      ]
     },
     "metadata": {},
     "output_type": "display_data"
    },
    {
     "data": {
      "image/png": "[encoded data removed]",
      "text/plain": [
       "<Figure size 1080x720 with 1 Axes>"
      ]
     },
     "metadata": {},
     "output_type": "display_data"
    },
    {
     "data": {
      "image/png": "[encoded data removed]",
      "text/plain": [
       "<Figure size 1080x720 with 1 Axes>"
      ]
     },
     "metadata": {},
     "output_type": "display_data"
    },
    {
     "data": {
      "image/png": "[encoded data removed]",
      "text/plain": [
       "<Figure size 1080x720 with 1 Axes>"
      ]
     },
     "metadata": {},
     "output_type": "display_data"
    },
    {
     "data": {
      "image/png": "[encoded data removed]",
      "text/plain": [
       "<Figure size 1080x720 with 1 Axes>"
      ]
     },
     "metadata": {},
     "output_type": "display_data"
    },
    {
     "data": {
      "image/png": "[encoded data removed]",
      "text/plain": [
       "<Figure size 1080x720 with 1 Axes>"
      ]
     },
     "metadata": {},
     "output_type": "display_data"
    },
    {
     "data": {
      "image/png": "[encoded data removed]",
      "text/plain": [
       "<Figure size 1080x720 with 1 Axes>"
      ]
     },
     "metadata": {},
     "output_type": "display_data"
    },
    {
     "data": {
      "image/png": "[encoded data removed]",
      "text/plain": [
       "<Figure size 1080x720 with 1 Axes>"
      ]
     },
     "metadata": {},
     "output_type": "display_data"
    },
    {
     "data": {
      "image/png": "[encoded data removed]",
      "text/plain": [
       "<Figure size 1080x720 with 1 Axes>"
      ]
     },
     "metadata": {},
     "output_type": "display_data"
    },
    {
     "data": {
      "image/png": "[encoded data removed]",
      "text/plain": [
       "<Figure size 1080x720 with 1 Axes>"
      ]
     },
     "metadata": {},
     "output_type": "display_data"
    },
    {
     "data": {
      "image/png": "[encoded data removed]",
      "text/plain": [
       "<Figure size 1080x720 with 1 Axes>"
      ]
     },
     "metadata": {},
     "output_type": "display_data"
    }
   ],
   "source": [
    "grafica2(reglineal(x2,y1,20,2,.000001),5)"
   ]
  },
  {
   "cell_type": "markdown",
   "metadata": {},
   "source": [
    "## Usando Scikit-learn para entrenar un modelo de regresión lineal "
   ]
  },
  {
   "cell_type": "code",
   "execution_count": 216,
   "metadata": {},
   "outputs": [],
   "source": [
    "from sklearn.linear_model import LinearRegression"
   ]
  },
  {
   "cell_type": "markdown",
   "metadata": {},
   "source": [
    "## Y versus X1"
   ]
  },
  {
   "cell_type": "code",
   "execution_count": 217,
   "metadata": {},
   "outputs": [],
   "source": [
    "reg1 = LinearRegression().fit(x1, y1)"
   ]
  },
  {
   "cell_type": "code",
   "execution_count": 218,
   "metadata": {},
   "outputs": [
    {
     "data": {
      "text/plain": [
       "0.6304202002336672"
      ]
     },
     "execution_count": 218,
     "metadata": {},
     "output_type": "execute_result"
    }
   ],
   "source": [
    "reg1.score(x1, y1)"
   ]
  },
  {
   "cell_type": "code",
   "execution_count": 219,
   "metadata": {},
   "outputs": [
    {
     "name": "stdout",
     "output_type": "stream",
     "text": [
      "45411.998779159156\n",
      "<class 'numpy.float64'>\n",
      "()\n",
      "0\n"
     ]
    }
   ],
   "source": [
    "coef1 = reg1.coef_\n",
    "\n",
    "coef1 = coef1[0,0]\n",
    "\n",
    "print(coef1)\n",
    "print(type(coef1))\n",
    "print(coef1.shape)\n",
    "print(coef1.ndim)\n"
   ]
  },
  {
   "cell_type": "code",
   "execution_count": 220,
   "metadata": {},
   "outputs": [
    {
     "name": "stdout",
     "output_type": "stream",
     "text": [
      "-96469.57131873982\n",
      "<class 'numpy.float64'>\n",
      "()\n",
      "0\n"
     ]
    }
   ],
   "source": [
    "inter1 = reg1.intercept_ \n",
    "\n",
    "inter1 =inter1[0]\n",
    "\n",
    "print(inter1)\n",
    "print(type(inter1))\n",
    "print(inter1.shape)\n",
    "print(inter1.ndim)"
   ]
  },
  {
   "cell_type": "code",
   "execution_count": 221,
   "metadata": {},
   "outputs": [
    {
     "name": "stdout",
     "output_type": "stream",
     "text": [
      "[[176002.42135622]\n",
      " [357650.41647285]\n",
      " [176002.42135622]\n",
      " [176002.42135622]\n",
      " [221414.42013537]\n",
      " [130590.42257706]\n",
      " [176002.42135622]\n",
      " [266826.41891453]\n",
      " [130590.42257706]\n",
      " [176002.42135622]\n",
      " [130590.42257706]\n",
      " [130590.42257706]\n",
      " [221414.42013537]\n",
      " [266826.41891453]\n",
      " [357650.41647285]\n",
      " [130590.42257706]\n",
      " [130590.42257706]\n",
      " [130590.42257706]\n",
      " [ 39766.42501874]\n",
      " [266826.41891453]\n",
      " [221414.42013537]\n",
      " [221414.42013537]\n",
      " [ 85178.4237979 ]\n",
      " [266826.41891453]\n",
      " [130590.42257706]\n",
      " [176002.42135622]\n",
      " [176002.42135622]\n",
      " [176002.42135622]\n",
      " [221414.42013537]\n",
      " [221414.42013537]\n",
      " [221414.42013537]\n",
      " [ 85178.4237979 ]\n",
      " [ 85178.4237979 ]\n",
      " [221414.42013537]\n",
      " [130590.42257706]\n",
      " [221414.42013537]\n",
      " [130590.42257706]\n",
      " [221414.42013537]\n",
      " [ 85178.4237979 ]\n",
      " [176002.42135622]\n",
      " [130590.42257706]\n",
      " [266826.41891453]\n",
      " [176002.42135622]\n",
      " [266826.41891453]\n",
      " [ 85178.4237979 ]\n",
      " [ 85178.4237979 ]\n",
      " [130590.42257706]\n",
      " [130590.42257706]\n",
      " [176002.42135622]\n",
      " [266826.41891453]\n",
      " [ 85178.4237979 ]\n",
      " [176002.42135622]\n",
      " [130590.42257706]\n",
      " [130590.42257706]\n",
      " [176002.42135622]\n",
      " [130590.42257706]\n",
      " [221414.42013537]\n",
      " [176002.42135622]\n",
      " [176002.42135622]\n",
      " [130590.42257706]\n",
      " [312238.41769369]\n",
      " [130590.42257706]\n",
      " [130590.42257706]\n",
      " [130590.42257706]\n",
      " [ 85178.4237979 ]\n",
      " [130590.42257706]\n",
      " [130590.42257706]\n",
      " [130590.42257706]\n",
      " [221414.42013537]\n",
      " [221414.42013537]\n",
      " [176002.42135622]\n",
      " [266826.41891453]\n",
      " [221414.42013537]\n",
      " [221414.42013537]\n",
      " [221414.42013537]\n",
      " [357650.41647285]\n",
      " [266826.41891453]\n",
      " [176002.42135622]\n",
      " [221414.42013537]\n",
      " [176002.42135622]\n",
      " [176002.42135622]\n",
      " [130590.42257706]\n",
      " [221414.42013537]\n",
      " [221414.42013537]\n",
      " [130590.42257706]\n",
      " [221414.42013537]\n",
      " [221414.42013537]\n",
      " [176002.42135622]\n",
      " [266826.41891453]\n",
      " [130590.42257706]\n",
      " [221414.42013537]\n",
      " [176002.42135622]\n",
      " [176002.42135622]\n",
      " [130590.42257706]\n",
      " [ 85178.4237979 ]\n",
      " [176002.42135622]\n",
      " [176002.42135622]\n",
      " [221414.42013537]\n",
      " [221414.42013537]\n",
      " [312238.41769369]\n",
      " [266826.41891453]\n",
      " [130590.42257706]\n",
      " [221414.42013537]\n",
      " [176002.42135622]\n",
      " [130590.42257706]\n",
      " [176002.42135622]\n",
      " [130590.42257706]\n",
      " [130590.42257706]\n",
      " [176002.42135622]\n",
      " [176002.42135622]\n",
      " [266826.41891453]\n",
      " [ 85178.4237979 ]\n",
      " [221414.42013537]\n",
      " [221414.42013537]\n",
      " [130590.42257706]\n",
      " [176002.42135622]\n",
      " [176002.42135622]\n",
      " [176002.42135622]\n",
      " [176002.42135622]\n",
      " [130590.42257706]\n",
      " [266826.41891453]\n",
      " [266826.41891453]\n",
      " [130590.42257706]\n",
      " [130590.42257706]\n",
      " [130590.42257706]\n",
      " [221414.42013537]\n",
      " [130590.42257706]\n",
      " [130590.42257706]\n",
      " [130590.42257706]\n",
      " [176002.42135622]\n",
      " [357650.41647285]\n",
      " [130590.42257706]\n",
      " [221414.42013537]\n",
      " [176002.42135622]\n",
      " [266826.41891453]\n",
      " [221414.42013537]\n",
      " [221414.42013537]\n",
      " [312238.41769369]\n",
      " [221414.42013537]\n",
      " [130590.42257706]\n",
      " [130590.42257706]\n",
      " [176002.42135622]\n",
      " [221414.42013537]\n",
      " [221414.42013537]\n",
      " [266826.41891453]\n",
      " [312238.41769369]\n",
      " [ 85178.4237979 ]\n",
      " [176002.42135622]\n",
      " [266826.41891453]\n",
      " [221414.42013537]\n",
      " [266826.41891453]\n",
      " [ 85178.4237979 ]\n",
      " [176002.42135622]\n",
      " [ 39766.42501874]\n",
      " [221414.42013537]\n",
      " [ 85178.4237979 ]\n",
      " [266826.41891453]\n",
      " [ 85178.4237979 ]\n",
      " [ 39766.42501874]\n",
      " [130590.42257706]\n",
      " [176002.42135622]\n",
      " [221414.42013537]\n",
      " [266826.41891453]\n",
      " [130590.42257706]\n",
      " [ 85178.4237979 ]\n",
      " [130590.42257706]\n",
      " [130590.42257706]\n",
      " [176002.42135622]\n",
      " [130590.42257706]\n",
      " [ 85178.4237979 ]\n",
      " [221414.42013537]\n",
      " [130590.42257706]\n",
      " [ 85178.4237979 ]\n",
      " [176002.42135622]\n",
      " [266826.41891453]\n",
      " [176002.42135622]\n",
      " [221414.42013537]\n",
      " [ 85178.4237979 ]\n",
      " [221414.42013537]\n",
      " [266826.41891453]\n",
      " [221414.42013537]\n",
      " [266826.41891453]\n",
      " [130590.42257706]\n",
      " [176002.42135622]\n",
      " [176002.42135622]\n",
      " [266826.41891453]\n",
      " [221414.42013537]\n",
      " [221414.42013537]\n",
      " [130590.42257706]\n",
      " [130590.42257706]\n",
      " [176002.42135622]\n",
      " [312238.41769369]\n",
      " [130590.42257706]\n",
      " [221414.42013537]\n",
      " [ 85178.4237979 ]\n",
      " [176002.42135622]\n",
      " [221414.42013537]\n",
      " [221414.42013537]\n",
      " [221414.42013537]\n",
      " [130590.42257706]\n",
      " [176002.42135622]\n",
      " [266826.41891453]\n",
      " [ 85178.4237979 ]\n",
      " [176002.42135622]\n",
      " [221414.42013537]\n",
      " [357650.41647285]\n",
      " [221414.42013537]\n",
      " [266826.41891453]\n",
      " [176002.42135622]\n",
      " [130590.42257706]\n",
      " [176002.42135622]\n",
      " [130590.42257706]\n",
      " [ 39766.42501874]\n",
      " [176002.42135622]\n",
      " [221414.42013537]\n",
      " [130590.42257706]\n",
      " [176002.42135622]\n",
      " [ 85178.4237979 ]\n",
      " [221414.42013537]\n",
      " [176002.42135622]\n",
      " [312238.41769369]\n",
      " [176002.42135622]\n",
      " [221414.42013537]\n",
      " [130590.42257706]\n",
      " [130590.42257706]\n",
      " [176002.42135622]\n",
      " [221414.42013537]\n",
      " [266826.41891453]\n",
      " [130590.42257706]\n",
      " [130590.42257706]\n",
      " [130590.42257706]\n",
      " [176002.42135622]\n",
      " [176002.42135622]\n",
      " [176002.42135622]\n",
      " [221414.42013537]\n",
      " [266826.41891453]\n",
      " [ 39766.42501874]\n",
      " [266826.41891453]\n",
      " [130590.42257706]\n",
      " [130590.42257706]\n",
      " [ 85178.4237979 ]\n",
      " [221414.42013537]\n",
      " [221414.42013537]\n",
      " [176002.42135622]\n",
      " [ 85178.4237979 ]\n",
      " [266826.41891453]\n",
      " [176002.42135622]\n",
      " [221414.42013537]\n",
      " [ 85178.4237979 ]\n",
      " [266826.41891453]\n",
      " [130590.42257706]\n",
      " [176002.42135622]\n",
      " [176002.42135622]\n",
      " [176002.42135622]\n",
      " [176002.42135622]\n",
      " [176002.42135622]\n",
      " [130590.42257706]\n",
      " [176002.42135622]\n",
      " [221414.42013537]\n",
      " [130590.42257706]\n",
      " [130590.42257706]\n",
      " [176002.42135622]\n",
      " [130590.42257706]\n",
      " [176002.42135622]\n",
      " [ 85178.4237979 ]\n",
      " [176002.42135622]\n",
      " [130590.42257706]\n",
      " [176002.42135622]\n",
      " [ 85178.4237979 ]\n",
      " [266826.41891453]\n",
      " [176002.42135622]\n",
      " [221414.42013537]\n",
      " [176002.42135622]\n",
      " [176002.42135622]\n",
      " [357650.41647285]\n",
      " [176002.42135622]\n",
      " [221414.42013537]\n",
      " [176002.42135622]\n",
      " [130590.42257706]\n",
      " [266826.41891453]\n",
      " [ 85178.4237979 ]\n",
      " [130590.42257706]\n",
      " [130590.42257706]\n",
      " [266826.41891453]\n",
      " [130590.42257706]\n",
      " [130590.42257706]\n",
      " [221414.42013537]\n",
      " [176002.42135622]\n",
      " [176002.42135622]\n",
      " [221414.42013537]\n",
      " [130590.42257706]\n",
      " [130590.42257706]]\n",
      "<class 'numpy.ndarray'>\n",
      "(292, 1)\n",
      "2\n"
     ]
    }
   ],
   "source": [
    "y11train = reg1.predict(x11) ##esta dando error\n",
    "\n",
    "print(y11train)\n",
    "print(type(y11train))\n",
    "print(y11train.shape)\n",
    "print(y11train.ndim)"
   ]
  },
  {
   "cell_type": "markdown",
   "metadata": {},
   "source": [
    "## Y versus X2"
   ]
  },
  {
   "cell_type": "code",
   "execution_count": 222,
   "metadata": {},
   "outputs": [],
   "source": [
    "reg2 = LinearRegression().fit(x2, y1)"
   ]
  },
  {
   "cell_type": "code",
   "execution_count": 223,
   "metadata": {},
   "outputs": [
    {
     "data": {
      "text/plain": [
       "0.37981176187078936"
      ]
     },
     "execution_count": 223,
     "metadata": {},
     "output_type": "execute_result"
    }
   ],
   "source": [
    "reg2.score(x2, y1)"
   ]
  },
  {
   "cell_type": "code",
   "execution_count": 224,
   "metadata": {},
   "outputs": [
    {
     "name": "stdout",
     "output_type": "stream",
     "text": [
      "129.95124228715716\n",
      "<class 'numpy.float64'>\n",
      "()\n",
      "0\n"
     ]
    }
   ],
   "source": [
    "coef2 = reg2.coef_\n",
    "\n",
    "coef2 = coef2[0,0]\n",
    "\n",
    "print(coef2)\n",
    "print(type(coef2))\n",
    "print(coef2.shape)\n",
    "print(coef2.ndim)"
   ]
  },
  {
   "cell_type": "code",
   "execution_count": 225,
   "metadata": {},
   "outputs": [
    {
     "name": "stdout",
     "output_type": "stream",
     "text": [
      "30324.585174963664\n",
      "<class 'numpy.float64'>\n",
      "()\n",
      "0\n"
     ]
    }
   ],
   "source": [
    "inter2 = reg2.intercept_ \n",
    "\n",
    "inter2 =inter2[0]\n",
    "\n",
    "print(inter2)\n",
    "print(type(inter2))\n",
    "print(inter2.shape)\n",
    "print(inter2.ndim)"
   ]
  },
  {
   "cell_type": "code",
   "execution_count": 226,
   "metadata": {},
   "outputs": [
    {
     "name": "stdout",
     "output_type": "stream",
     "text": [
      "[[176002.42135622]\n",
      " [357650.41647285]\n",
      " [176002.42135622]\n",
      " [176002.42135622]\n",
      " [221414.42013537]\n",
      " [130590.42257706]\n",
      " [176002.42135622]\n",
      " [266826.41891453]\n",
      " [130590.42257706]\n",
      " [176002.42135622]\n",
      " [130590.42257706]\n",
      " [130590.42257706]\n",
      " [221414.42013537]\n",
      " [266826.41891453]\n",
      " [357650.41647285]\n",
      " [130590.42257706]\n",
      " [130590.42257706]\n",
      " [130590.42257706]\n",
      " [ 39766.42501874]\n",
      " [266826.41891453]\n",
      " [221414.42013537]\n",
      " [221414.42013537]\n",
      " [ 85178.4237979 ]\n",
      " [266826.41891453]\n",
      " [130590.42257706]\n",
      " [176002.42135622]\n",
      " [176002.42135622]\n",
      " [176002.42135622]\n",
      " [221414.42013537]\n",
      " [221414.42013537]\n",
      " [221414.42013537]\n",
      " [ 85178.4237979 ]\n",
      " [ 85178.4237979 ]\n",
      " [221414.42013537]\n",
      " [130590.42257706]\n",
      " [221414.42013537]\n",
      " [130590.42257706]\n",
      " [221414.42013537]\n",
      " [ 85178.4237979 ]\n",
      " [176002.42135622]\n",
      " [130590.42257706]\n",
      " [266826.41891453]\n",
      " [176002.42135622]\n",
      " [266826.41891453]\n",
      " [ 85178.4237979 ]\n",
      " [ 85178.4237979 ]\n",
      " [130590.42257706]\n",
      " [130590.42257706]\n",
      " [176002.42135622]\n",
      " [266826.41891453]\n",
      " [ 85178.4237979 ]\n",
      " [176002.42135622]\n",
      " [130590.42257706]\n",
      " [130590.42257706]\n",
      " [176002.42135622]\n",
      " [130590.42257706]\n",
      " [221414.42013537]\n",
      " [176002.42135622]\n",
      " [176002.42135622]\n",
      " [130590.42257706]\n",
      " [312238.41769369]\n",
      " [130590.42257706]\n",
      " [130590.42257706]\n",
      " [130590.42257706]\n",
      " [ 85178.4237979 ]\n",
      " [130590.42257706]\n",
      " [130590.42257706]\n",
      " [130590.42257706]\n",
      " [221414.42013537]\n",
      " [221414.42013537]\n",
      " [176002.42135622]\n",
      " [266826.41891453]\n",
      " [221414.42013537]\n",
      " [221414.42013537]\n",
      " [221414.42013537]\n",
      " [357650.41647285]\n",
      " [266826.41891453]\n",
      " [176002.42135622]\n",
      " [221414.42013537]\n",
      " [176002.42135622]\n",
      " [176002.42135622]\n",
      " [130590.42257706]\n",
      " [221414.42013537]\n",
      " [221414.42013537]\n",
      " [130590.42257706]\n",
      " [221414.42013537]\n",
      " [221414.42013537]\n",
      " [176002.42135622]\n",
      " [266826.41891453]\n",
      " [130590.42257706]\n",
      " [221414.42013537]\n",
      " [176002.42135622]\n",
      " [176002.42135622]\n",
      " [130590.42257706]\n",
      " [ 85178.4237979 ]\n",
      " [176002.42135622]\n",
      " [176002.42135622]\n",
      " [221414.42013537]\n",
      " [221414.42013537]\n",
      " [312238.41769369]\n",
      " [266826.41891453]\n",
      " [130590.42257706]\n",
      " [221414.42013537]\n",
      " [176002.42135622]\n",
      " [130590.42257706]\n",
      " [176002.42135622]\n",
      " [130590.42257706]\n",
      " [130590.42257706]\n",
      " [176002.42135622]\n",
      " [176002.42135622]\n",
      " [266826.41891453]\n",
      " [ 85178.4237979 ]\n",
      " [221414.42013537]\n",
      " [221414.42013537]\n",
      " [130590.42257706]\n",
      " [176002.42135622]\n",
      " [176002.42135622]\n",
      " [176002.42135622]\n",
      " [176002.42135622]\n",
      " [130590.42257706]\n",
      " [266826.41891453]\n",
      " [266826.41891453]\n",
      " [130590.42257706]\n",
      " [130590.42257706]\n",
      " [130590.42257706]\n",
      " [221414.42013537]\n",
      " [130590.42257706]\n",
      " [130590.42257706]\n",
      " [130590.42257706]\n",
      " [176002.42135622]\n",
      " [357650.41647285]\n",
      " [130590.42257706]\n",
      " [221414.42013537]\n",
      " [176002.42135622]\n",
      " [266826.41891453]\n",
      " [221414.42013537]\n",
      " [221414.42013537]\n",
      " [312238.41769369]\n",
      " [221414.42013537]\n",
      " [130590.42257706]\n",
      " [130590.42257706]\n",
      " [176002.42135622]\n",
      " [221414.42013537]\n",
      " [221414.42013537]\n",
      " [266826.41891453]\n",
      " [312238.41769369]\n",
      " [ 85178.4237979 ]\n",
      " [176002.42135622]\n",
      " [266826.41891453]\n",
      " [221414.42013537]\n",
      " [266826.41891453]\n",
      " [ 85178.4237979 ]\n",
      " [176002.42135622]\n",
      " [ 39766.42501874]\n",
      " [221414.42013537]\n",
      " [ 85178.4237979 ]\n",
      " [266826.41891453]\n",
      " [ 85178.4237979 ]\n",
      " [ 39766.42501874]\n",
      " [130590.42257706]\n",
      " [176002.42135622]\n",
      " [221414.42013537]\n",
      " [266826.41891453]\n",
      " [130590.42257706]\n",
      " [ 85178.4237979 ]\n",
      " [130590.42257706]\n",
      " [130590.42257706]\n",
      " [176002.42135622]\n",
      " [130590.42257706]\n",
      " [ 85178.4237979 ]\n",
      " [221414.42013537]\n",
      " [130590.42257706]\n",
      " [ 85178.4237979 ]\n",
      " [176002.42135622]\n",
      " [266826.41891453]\n",
      " [176002.42135622]\n",
      " [221414.42013537]\n",
      " [ 85178.4237979 ]\n",
      " [221414.42013537]\n",
      " [266826.41891453]\n",
      " [221414.42013537]\n",
      " [266826.41891453]\n",
      " [130590.42257706]\n",
      " [176002.42135622]\n",
      " [176002.42135622]\n",
      " [266826.41891453]\n",
      " [221414.42013537]\n",
      " [221414.42013537]\n",
      " [130590.42257706]\n",
      " [130590.42257706]\n",
      " [176002.42135622]\n",
      " [312238.41769369]\n",
      " [130590.42257706]\n",
      " [221414.42013537]\n",
      " [ 85178.4237979 ]\n",
      " [176002.42135622]\n",
      " [221414.42013537]\n",
      " [221414.42013537]\n",
      " [221414.42013537]\n",
      " [130590.42257706]\n",
      " [176002.42135622]\n",
      " [266826.41891453]\n",
      " [ 85178.4237979 ]\n",
      " [176002.42135622]\n",
      " [221414.42013537]\n",
      " [357650.41647285]\n",
      " [221414.42013537]\n",
      " [266826.41891453]\n",
      " [176002.42135622]\n",
      " [130590.42257706]\n",
      " [176002.42135622]\n",
      " [130590.42257706]\n",
      " [ 39766.42501874]\n",
      " [176002.42135622]\n",
      " [221414.42013537]\n",
      " [130590.42257706]\n",
      " [176002.42135622]\n",
      " [ 85178.4237979 ]\n",
      " [221414.42013537]\n",
      " [176002.42135622]\n",
      " [312238.41769369]\n",
      " [176002.42135622]\n",
      " [221414.42013537]\n",
      " [130590.42257706]\n",
      " [130590.42257706]\n",
      " [176002.42135622]\n",
      " [221414.42013537]\n",
      " [266826.41891453]\n",
      " [130590.42257706]\n",
      " [130590.42257706]\n",
      " [130590.42257706]\n",
      " [176002.42135622]\n",
      " [176002.42135622]\n",
      " [176002.42135622]\n",
      " [221414.42013537]\n",
      " [266826.41891453]\n",
      " [ 39766.42501874]\n",
      " [266826.41891453]\n",
      " [130590.42257706]\n",
      " [130590.42257706]\n",
      " [ 85178.4237979 ]\n",
      " [221414.42013537]\n",
      " [221414.42013537]\n",
      " [176002.42135622]\n",
      " [ 85178.4237979 ]\n",
      " [266826.41891453]\n",
      " [176002.42135622]\n",
      " [221414.42013537]\n",
      " [ 85178.4237979 ]\n",
      " [266826.41891453]\n",
      " [130590.42257706]\n",
      " [176002.42135622]\n",
      " [176002.42135622]\n",
      " [176002.42135622]\n",
      " [176002.42135622]\n",
      " [176002.42135622]\n",
      " [130590.42257706]\n",
      " [176002.42135622]\n",
      " [221414.42013537]\n",
      " [130590.42257706]\n",
      " [130590.42257706]\n",
      " [176002.42135622]\n",
      " [130590.42257706]\n",
      " [176002.42135622]\n",
      " [ 85178.4237979 ]\n",
      " [176002.42135622]\n",
      " [130590.42257706]\n",
      " [176002.42135622]\n",
      " [ 85178.4237979 ]\n",
      " [266826.41891453]\n",
      " [176002.42135622]\n",
      " [221414.42013537]\n",
      " [176002.42135622]\n",
      " [176002.42135622]\n",
      " [357650.41647285]\n",
      " [176002.42135622]\n",
      " [221414.42013537]\n",
      " [176002.42135622]\n",
      " [130590.42257706]\n",
      " [266826.41891453]\n",
      " [ 85178.4237979 ]\n",
      " [130590.42257706]\n",
      " [130590.42257706]\n",
      " [266826.41891453]\n",
      " [130590.42257706]\n",
      " [130590.42257706]\n",
      " [221414.42013537]\n",
      " [176002.42135622]\n",
      " [176002.42135622]\n",
      " [221414.42013537]\n",
      " [130590.42257706]\n",
      " [130590.42257706]]\n",
      "<class 'numpy.ndarray'>\n",
      "(292, 1)\n",
      "2\n"
     ]
    }
   ],
   "source": [
    "y22train = reg2.predict(x22) ##esta dando error\n",
    "print(y11train)\n",
    "print(type(y11train))\n",
    "print(y11train.shape)\n",
    "print(y11train.ndim)"
   ]
  },
  {
   "cell_type": "markdown",
   "metadata": {},
   "source": [
    "## Función que reune todos los modelos "
   ]
  },
  {
   "cell_type": "code",
   "execution_count": 227,
   "metadata": {},
   "outputs": [],
   "source": [
    "def todos(reglineal,m2,b2,x):\n",
    "    parametros,errores = reglineal## dandelo uso a la funcion\n",
    "    tope = len(errores)\n",
    "    diccionario = parametros\n",
    "    \n",
    "    unos = np.ones_like(x) ## creando vector de unos para las x del 20% de los datos\n",
    "    xyunos = np.hstack((x,unos)) ## uniendo las x del 20% de los datos y los unos\n",
    "    estimadores_manual =  diccionario[tope-1] ## se toma el ultimo espacio del diccionario ya que ahi es donde ocurrio el error mas bajo\n",
    "    estimadores_scikit = np.array([[m2],\n",
    "                                   [b2]])\n",
    "    yhat_manual = np.matmul(xyunos,estimadores_manual)\n",
    "    yhat_scikit = np.matmul(xyunos,estimadores_scikit)\n",
    "    yhat_promedio =  (yhat_manual +  yhat_scikit)*.5\n",
    "    \n",
    "    return yhat_manual, yhat_scikit, yhat_promedio"
   ]
  },
  {
   "cell_type": "markdown",
   "metadata": {},
   "source": [
    "## Aplicando 3 modelos predictivos estimamos Y para X11, con el 20% de datos para pruebas"
   ]
  },
  {
   "cell_type": "code",
   "execution_count": 228,
   "metadata": {},
   "outputs": [
    {
     "name": "stdout",
     "output_type": "stream",
     "text": [
      "Error 0 19409722053.22175\n",
      "Error 2 3717770447.2485504\n",
      "Error 4 1693499585.3201838\n",
      "Error 6 1432013147.1072414\n",
      "Error 8 1397881894.3230963\n",
      "Error 10 1393074454.2065673\n",
      "Error 12 1392049808.2823179\n",
      "Error 14 1391513812.4658082\n",
      "Error 16 1391041604.393331\n",
      "Error 18 1390578386.165159\n",
      "Predicción de Y, con modelo Manaual [[182317.15317765]\n",
      " [301413.36033023]\n",
      " [182317.15317765]\n",
      " [182317.15317765]\n",
      " [212091.2049658 ]\n",
      " [152543.10138951]\n",
      " [182317.15317765]\n",
      " [241865.25675394]\n",
      " [152543.10138951]\n",
      " [182317.15317765]\n",
      " [152543.10138951]\n",
      " [152543.10138951]\n",
      " [212091.2049658 ]\n",
      " [241865.25675394]\n",
      " [301413.36033023]\n",
      " [152543.10138951]\n",
      " [152543.10138951]\n",
      " [152543.10138951]\n",
      " [ 92994.99781322]\n",
      " [241865.25675394]\n",
      " [212091.2049658 ]\n",
      " [212091.2049658 ]\n",
      " [122769.04960136]\n",
      " [241865.25675394]\n",
      " [152543.10138951]\n",
      " [182317.15317765]\n",
      " [182317.15317765]\n",
      " [182317.15317765]\n",
      " [212091.2049658 ]\n",
      " [212091.2049658 ]\n",
      " [212091.2049658 ]\n",
      " [122769.04960136]\n",
      " [122769.04960136]\n",
      " [212091.2049658 ]\n",
      " [152543.10138951]\n",
      " [212091.2049658 ]\n",
      " [152543.10138951]\n",
      " [212091.2049658 ]\n",
      " [122769.04960136]\n",
      " [182317.15317765]\n",
      " [152543.10138951]\n",
      " [241865.25675394]\n",
      " [182317.15317765]\n",
      " [241865.25675394]\n",
      " [122769.04960136]\n",
      " [122769.04960136]\n",
      " [152543.10138951]\n",
      " [152543.10138951]\n",
      " [182317.15317765]\n",
      " [241865.25675394]\n",
      " [122769.04960136]\n",
      " [182317.15317765]\n",
      " [152543.10138951]\n",
      " [152543.10138951]\n",
      " [182317.15317765]\n",
      " [152543.10138951]\n",
      " [212091.2049658 ]\n",
      " [182317.15317765]\n",
      " [182317.15317765]\n",
      " [152543.10138951]\n",
      " [271639.30854209]\n",
      " [152543.10138951]\n",
      " [152543.10138951]\n",
      " [152543.10138951]\n",
      " [122769.04960136]\n",
      " [152543.10138951]\n",
      " [152543.10138951]\n",
      " [152543.10138951]\n",
      " [212091.2049658 ]\n",
      " [212091.2049658 ]\n",
      " [182317.15317765]\n",
      " [241865.25675394]\n",
      " [212091.2049658 ]\n",
      " [212091.2049658 ]\n",
      " [212091.2049658 ]\n",
      " [301413.36033023]\n",
      " [241865.25675394]\n",
      " [182317.15317765]\n",
      " [212091.2049658 ]\n",
      " [182317.15317765]\n",
      " [182317.15317765]\n",
      " [152543.10138951]\n",
      " [212091.2049658 ]\n",
      " [212091.2049658 ]\n",
      " [152543.10138951]\n",
      " [212091.2049658 ]\n",
      " [212091.2049658 ]\n",
      " [182317.15317765]\n",
      " [241865.25675394]\n",
      " [152543.10138951]\n",
      " [212091.2049658 ]\n",
      " [182317.15317765]\n",
      " [182317.15317765]\n",
      " [152543.10138951]\n",
      " [122769.04960136]\n",
      " [182317.15317765]\n",
      " [182317.15317765]\n",
      " [212091.2049658 ]\n",
      " [212091.2049658 ]\n",
      " [271639.30854209]\n",
      " [241865.25675394]\n",
      " [152543.10138951]\n",
      " [212091.2049658 ]\n",
      " [182317.15317765]\n",
      " [152543.10138951]\n",
      " [182317.15317765]\n",
      " [152543.10138951]\n",
      " [152543.10138951]\n",
      " [182317.15317765]\n",
      " [182317.15317765]\n",
      " [241865.25675394]\n",
      " [122769.04960136]\n",
      " [212091.2049658 ]\n",
      " [212091.2049658 ]\n",
      " [152543.10138951]\n",
      " [182317.15317765]\n",
      " [182317.15317765]\n",
      " [182317.15317765]\n",
      " [182317.15317765]\n",
      " [152543.10138951]\n",
      " [241865.25675394]\n",
      " [241865.25675394]\n",
      " [152543.10138951]\n",
      " [152543.10138951]\n",
      " [152543.10138951]\n",
      " [212091.2049658 ]\n",
      " [152543.10138951]\n",
      " [152543.10138951]\n",
      " [152543.10138951]\n",
      " [182317.15317765]\n",
      " [301413.36033023]\n",
      " [152543.10138951]\n",
      " [212091.2049658 ]\n",
      " [182317.15317765]\n",
      " [241865.25675394]\n",
      " [212091.2049658 ]\n",
      " [212091.2049658 ]\n",
      " [271639.30854209]\n",
      " [212091.2049658 ]\n",
      " [152543.10138951]\n",
      " [152543.10138951]\n",
      " [182317.15317765]\n",
      " [212091.2049658 ]\n",
      " [212091.2049658 ]\n",
      " [241865.25675394]\n",
      " [271639.30854209]\n",
      " [122769.04960136]\n",
      " [182317.15317765]\n",
      " [241865.25675394]\n",
      " [212091.2049658 ]\n",
      " [241865.25675394]\n",
      " [122769.04960136]\n",
      " [182317.15317765]\n",
      " [ 92994.99781322]\n",
      " [212091.2049658 ]\n",
      " [122769.04960136]\n",
      " [241865.25675394]\n",
      " [122769.04960136]\n",
      " [ 92994.99781322]\n",
      " [152543.10138951]\n",
      " [182317.15317765]\n",
      " [212091.2049658 ]\n",
      " [241865.25675394]\n",
      " [152543.10138951]\n",
      " [122769.04960136]\n",
      " [152543.10138951]\n",
      " [152543.10138951]\n",
      " [182317.15317765]\n",
      " [152543.10138951]\n",
      " [122769.04960136]\n",
      " [212091.2049658 ]\n",
      " [152543.10138951]\n",
      " [122769.04960136]\n",
      " [182317.15317765]\n",
      " [241865.25675394]\n",
      " [182317.15317765]\n",
      " [212091.2049658 ]\n",
      " [122769.04960136]\n",
      " [212091.2049658 ]\n",
      " [241865.25675394]\n",
      " [212091.2049658 ]\n",
      " [241865.25675394]\n",
      " [152543.10138951]\n",
      " [182317.15317765]\n",
      " [182317.15317765]\n",
      " [241865.25675394]\n",
      " [212091.2049658 ]\n",
      " [212091.2049658 ]\n",
      " [152543.10138951]\n",
      " [152543.10138951]\n",
      " [182317.15317765]\n",
      " [271639.30854209]\n",
      " [152543.10138951]\n",
      " [212091.2049658 ]\n",
      " [122769.04960136]\n",
      " [182317.15317765]\n",
      " [212091.2049658 ]\n",
      " [212091.2049658 ]\n",
      " [212091.2049658 ]\n",
      " [152543.10138951]\n",
      " [182317.15317765]\n",
      " [241865.25675394]\n",
      " [122769.04960136]\n",
      " [182317.15317765]\n",
      " [212091.2049658 ]\n",
      " [301413.36033023]\n",
      " [212091.2049658 ]\n",
      " [241865.25675394]\n",
      " [182317.15317765]\n",
      " [152543.10138951]\n",
      " [182317.15317765]\n",
      " [152543.10138951]\n",
      " [ 92994.99781322]\n",
      " [182317.15317765]\n",
      " [212091.2049658 ]\n",
      " [152543.10138951]\n",
      " [182317.15317765]\n",
      " [122769.04960136]\n",
      " [212091.2049658 ]\n",
      " [182317.15317765]\n",
      " [271639.30854209]\n",
      " [182317.15317765]\n",
      " [212091.2049658 ]\n",
      " [152543.10138951]\n",
      " [152543.10138951]\n",
      " [182317.15317765]\n",
      " [212091.2049658 ]\n",
      " [241865.25675394]\n",
      " [152543.10138951]\n",
      " [152543.10138951]\n",
      " [152543.10138951]\n",
      " [182317.15317765]\n",
      " [182317.15317765]\n",
      " [182317.15317765]\n",
      " [212091.2049658 ]\n",
      " [241865.25675394]\n",
      " [ 92994.99781322]\n",
      " [241865.25675394]\n",
      " [152543.10138951]\n",
      " [152543.10138951]\n",
      " [122769.04960136]\n",
      " [212091.2049658 ]\n",
      " [212091.2049658 ]\n",
      " [182317.15317765]\n",
      " [122769.04960136]\n",
      " [241865.25675394]\n",
      " [182317.15317765]\n",
      " [212091.2049658 ]\n",
      " [122769.04960136]\n",
      " [241865.25675394]\n",
      " [152543.10138951]\n",
      " [182317.15317765]\n",
      " [182317.15317765]\n",
      " [182317.15317765]\n",
      " [182317.15317765]\n",
      " [182317.15317765]\n",
      " [152543.10138951]\n",
      " [182317.15317765]\n",
      " [212091.2049658 ]\n",
      " [152543.10138951]\n",
      " [152543.10138951]\n",
      " [182317.15317765]\n",
      " [152543.10138951]\n",
      " [182317.15317765]\n",
      " [122769.04960136]\n",
      " [182317.15317765]\n",
      " [152543.10138951]\n",
      " [182317.15317765]\n",
      " [122769.04960136]\n",
      " [241865.25675394]\n",
      " [182317.15317765]\n",
      " [212091.2049658 ]\n",
      " [182317.15317765]\n",
      " [182317.15317765]\n",
      " [301413.36033023]\n",
      " [182317.15317765]\n",
      " [212091.2049658 ]\n",
      " [182317.15317765]\n",
      " [152543.10138951]\n",
      " [241865.25675394]\n",
      " [122769.04960136]\n",
      " [152543.10138951]\n",
      " [152543.10138951]\n",
      " [241865.25675394]\n",
      " [152543.10138951]\n",
      " [152543.10138951]\n",
      " [212091.2049658 ]\n",
      " [182317.15317765]\n",
      " [182317.15317765]\n",
      " [212091.2049658 ]\n",
      " [152543.10138951]\n",
      " [152543.10138951]]\n",
      "Predicción de Y, con modelo Scikitlearn [[176002.42135622]\n",
      " [357650.41647285]\n",
      " [176002.42135622]\n",
      " [176002.42135622]\n",
      " [221414.42013537]\n",
      " [130590.42257706]\n",
      " [176002.42135622]\n",
      " [266826.41891453]\n",
      " [130590.42257706]\n",
      " [176002.42135622]\n",
      " [130590.42257706]\n",
      " [130590.42257706]\n",
      " [221414.42013537]\n",
      " [266826.41891453]\n",
      " [357650.41647285]\n",
      " [130590.42257706]\n",
      " [130590.42257706]\n",
      " [130590.42257706]\n",
      " [ 39766.42501874]\n",
      " [266826.41891453]\n",
      " [221414.42013537]\n",
      " [221414.42013537]\n",
      " [ 85178.4237979 ]\n",
      " [266826.41891453]\n",
      " [130590.42257706]\n",
      " [176002.42135622]\n",
      " [176002.42135622]\n",
      " [176002.42135622]\n",
      " [221414.42013537]\n",
      " [221414.42013537]\n",
      " [221414.42013537]\n",
      " [ 85178.4237979 ]\n",
      " [ 85178.4237979 ]\n",
      " [221414.42013537]\n",
      " [130590.42257706]\n",
      " [221414.42013537]\n",
      " [130590.42257706]\n",
      " [221414.42013537]\n",
      " [ 85178.4237979 ]\n",
      " [176002.42135622]\n",
      " [130590.42257706]\n",
      " [266826.41891453]\n",
      " [176002.42135622]\n",
      " [266826.41891453]\n",
      " [ 85178.4237979 ]\n",
      " [ 85178.4237979 ]\n",
      " [130590.42257706]\n",
      " [130590.42257706]\n",
      " [176002.42135622]\n",
      " [266826.41891453]\n",
      " [ 85178.4237979 ]\n",
      " [176002.42135622]\n",
      " [130590.42257706]\n",
      " [130590.42257706]\n",
      " [176002.42135622]\n",
      " [130590.42257706]\n",
      " [221414.42013537]\n",
      " [176002.42135622]\n",
      " [176002.42135622]\n",
      " [130590.42257706]\n",
      " [312238.41769369]\n",
      " [130590.42257706]\n",
      " [130590.42257706]\n",
      " [130590.42257706]\n",
      " [ 85178.4237979 ]\n",
      " [130590.42257706]\n",
      " [130590.42257706]\n",
      " [130590.42257706]\n",
      " [221414.42013537]\n",
      " [221414.42013537]\n",
      " [176002.42135622]\n",
      " [266826.41891453]\n",
      " [221414.42013537]\n",
      " [221414.42013537]\n",
      " [221414.42013537]\n",
      " [357650.41647285]\n",
      " [266826.41891453]\n",
      " [176002.42135622]\n",
      " [221414.42013537]\n",
      " [176002.42135622]\n",
      " [176002.42135622]\n",
      " [130590.42257706]\n",
      " [221414.42013537]\n",
      " [221414.42013537]\n",
      " [130590.42257706]\n",
      " [221414.42013537]\n",
      " [221414.42013537]\n",
      " [176002.42135622]\n",
      " [266826.41891453]\n",
      " [130590.42257706]\n",
      " [221414.42013537]\n",
      " [176002.42135622]\n",
      " [176002.42135622]\n",
      " [130590.42257706]\n",
      " [ 85178.4237979 ]\n",
      " [176002.42135622]\n",
      " [176002.42135622]\n",
      " [221414.42013537]\n",
      " [221414.42013537]\n",
      " [312238.41769369]\n",
      " [266826.41891453]\n",
      " [130590.42257706]\n",
      " [221414.42013537]\n",
      " [176002.42135622]\n",
      " [130590.42257706]\n",
      " [176002.42135622]\n",
      " [130590.42257706]\n",
      " [130590.42257706]\n",
      " [176002.42135622]\n",
      " [176002.42135622]\n",
      " [266826.41891453]\n",
      " [ 85178.4237979 ]\n",
      " [221414.42013537]\n",
      " [221414.42013537]\n",
      " [130590.42257706]\n",
      " [176002.42135622]\n",
      " [176002.42135622]\n",
      " [176002.42135622]\n",
      " [176002.42135622]\n",
      " [130590.42257706]\n",
      " [266826.41891453]\n",
      " [266826.41891453]\n",
      " [130590.42257706]\n",
      " [130590.42257706]\n",
      " [130590.42257706]\n",
      " [221414.42013537]\n",
      " [130590.42257706]\n",
      " [130590.42257706]\n",
      " [130590.42257706]\n",
      " [176002.42135622]\n",
      " [357650.41647285]\n",
      " [130590.42257706]\n",
      " [221414.42013537]\n",
      " [176002.42135622]\n",
      " [266826.41891453]\n",
      " [221414.42013537]\n",
      " [221414.42013537]\n",
      " [312238.41769369]\n",
      " [221414.42013537]\n",
      " [130590.42257706]\n",
      " [130590.42257706]\n",
      " [176002.42135622]\n",
      " [221414.42013537]\n",
      " [221414.42013537]\n",
      " [266826.41891453]\n",
      " [312238.41769369]\n",
      " [ 85178.4237979 ]\n",
      " [176002.42135622]\n",
      " [266826.41891453]\n",
      " [221414.42013537]\n",
      " [266826.41891453]\n",
      " [ 85178.4237979 ]\n",
      " [176002.42135622]\n",
      " [ 39766.42501874]\n",
      " [221414.42013537]\n",
      " [ 85178.4237979 ]\n",
      " [266826.41891453]\n",
      " [ 85178.4237979 ]\n",
      " [ 39766.42501874]\n",
      " [130590.42257706]\n",
      " [176002.42135622]\n",
      " [221414.42013537]\n",
      " [266826.41891453]\n",
      " [130590.42257706]\n",
      " [ 85178.4237979 ]\n",
      " [130590.42257706]\n",
      " [130590.42257706]\n",
      " [176002.42135622]\n",
      " [130590.42257706]\n",
      " [ 85178.4237979 ]\n",
      " [221414.42013537]\n",
      " [130590.42257706]\n",
      " [ 85178.4237979 ]\n",
      " [176002.42135622]\n",
      " [266826.41891453]\n",
      " [176002.42135622]\n",
      " [221414.42013537]\n",
      " [ 85178.4237979 ]\n",
      " [221414.42013537]\n",
      " [266826.41891453]\n",
      " [221414.42013537]\n",
      " [266826.41891453]\n",
      " [130590.42257706]\n",
      " [176002.42135622]\n",
      " [176002.42135622]\n",
      " [266826.41891453]\n",
      " [221414.42013537]\n",
      " [221414.42013537]\n",
      " [130590.42257706]\n",
      " [130590.42257706]\n",
      " [176002.42135622]\n",
      " [312238.41769369]\n",
      " [130590.42257706]\n",
      " [221414.42013537]\n",
      " [ 85178.4237979 ]\n",
      " [176002.42135622]\n",
      " [221414.42013537]\n",
      " [221414.42013537]\n",
      " [221414.42013537]\n",
      " [130590.42257706]\n",
      " [176002.42135622]\n",
      " [266826.41891453]\n",
      " [ 85178.4237979 ]\n",
      " [176002.42135622]\n",
      " [221414.42013537]\n",
      " [357650.41647285]\n",
      " [221414.42013537]\n",
      " [266826.41891453]\n",
      " [176002.42135622]\n",
      " [130590.42257706]\n",
      " [176002.42135622]\n",
      " [130590.42257706]\n",
      " [ 39766.42501874]\n",
      " [176002.42135622]\n",
      " [221414.42013537]\n",
      " [130590.42257706]\n",
      " [176002.42135622]\n",
      " [ 85178.4237979 ]\n",
      " [221414.42013537]\n",
      " [176002.42135622]\n",
      " [312238.41769369]\n",
      " [176002.42135622]\n",
      " [221414.42013537]\n",
      " [130590.42257706]\n",
      " [130590.42257706]\n",
      " [176002.42135622]\n",
      " [221414.42013537]\n",
      " [266826.41891453]\n",
      " [130590.42257706]\n",
      " [130590.42257706]\n",
      " [130590.42257706]\n",
      " [176002.42135622]\n",
      " [176002.42135622]\n",
      " [176002.42135622]\n",
      " [221414.42013537]\n",
      " [266826.41891453]\n",
      " [ 39766.42501874]\n",
      " [266826.41891453]\n",
      " [130590.42257706]\n",
      " [130590.42257706]\n",
      " [ 85178.4237979 ]\n",
      " [221414.42013537]\n",
      " [221414.42013537]\n",
      " [176002.42135622]\n",
      " [ 85178.4237979 ]\n",
      " [266826.41891453]\n",
      " [176002.42135622]\n",
      " [221414.42013537]\n",
      " [ 85178.4237979 ]\n",
      " [266826.41891453]\n",
      " [130590.42257706]\n",
      " [176002.42135622]\n",
      " [176002.42135622]\n",
      " [176002.42135622]\n",
      " [176002.42135622]\n",
      " [176002.42135622]\n",
      " [130590.42257706]\n",
      " [176002.42135622]\n",
      " [221414.42013537]\n",
      " [130590.42257706]\n",
      " [130590.42257706]\n",
      " [176002.42135622]\n",
      " [130590.42257706]\n",
      " [176002.42135622]\n",
      " [ 85178.4237979 ]\n",
      " [176002.42135622]\n",
      " [130590.42257706]\n",
      " [176002.42135622]\n",
      " [ 85178.4237979 ]\n",
      " [266826.41891453]\n",
      " [176002.42135622]\n",
      " [221414.42013537]\n",
      " [176002.42135622]\n",
      " [176002.42135622]\n",
      " [357650.41647285]\n",
      " [176002.42135622]\n",
      " [221414.42013537]\n",
      " [176002.42135622]\n",
      " [130590.42257706]\n",
      " [266826.41891453]\n",
      " [ 85178.4237979 ]\n",
      " [130590.42257706]\n",
      " [130590.42257706]\n",
      " [266826.41891453]\n",
      " [130590.42257706]\n",
      " [130590.42257706]\n",
      " [221414.42013537]\n",
      " [176002.42135622]\n",
      " [176002.42135622]\n",
      " [221414.42013537]\n",
      " [130590.42257706]\n",
      " [130590.42257706]]\n",
      "Predicción de Y, con modelo Promedio [[179159.78726693]\n",
      " [329531.88840154]\n",
      " [179159.78726693]\n",
      " [179159.78726693]\n",
      " [216752.81255059]\n",
      " [141566.76198328]\n",
      " [179159.78726693]\n",
      " [254345.83783424]\n",
      " [141566.76198328]\n",
      " [179159.78726693]\n",
      " [141566.76198328]\n",
      " [141566.76198328]\n",
      " [216752.81255059]\n",
      " [254345.83783424]\n",
      " [329531.88840154]\n",
      " [141566.76198328]\n",
      " [141566.76198328]\n",
      " [141566.76198328]\n",
      " [ 66380.71141598]\n",
      " [254345.83783424]\n",
      " [216752.81255059]\n",
      " [216752.81255059]\n",
      " [103973.73669963]\n",
      " [254345.83783424]\n",
      " [141566.76198328]\n",
      " [179159.78726693]\n",
      " [179159.78726693]\n",
      " [179159.78726693]\n",
      " [216752.81255059]\n",
      " [216752.81255059]\n",
      " [216752.81255059]\n",
      " [103973.73669963]\n",
      " [103973.73669963]\n",
      " [216752.81255059]\n",
      " [141566.76198328]\n",
      " [216752.81255059]\n",
      " [141566.76198328]\n",
      " [216752.81255059]\n",
      " [103973.73669963]\n",
      " [179159.78726693]\n",
      " [141566.76198328]\n",
      " [254345.83783424]\n",
      " [179159.78726693]\n",
      " [254345.83783424]\n",
      " [103973.73669963]\n",
      " [103973.73669963]\n",
      " [141566.76198328]\n",
      " [141566.76198328]\n",
      " [179159.78726693]\n",
      " [254345.83783424]\n",
      " [103973.73669963]\n",
      " [179159.78726693]\n",
      " [141566.76198328]\n",
      " [141566.76198328]\n",
      " [179159.78726693]\n",
      " [141566.76198328]\n",
      " [216752.81255059]\n",
      " [179159.78726693]\n",
      " [179159.78726693]\n",
      " [141566.76198328]\n",
      " [291938.86311789]\n",
      " [141566.76198328]\n",
      " [141566.76198328]\n",
      " [141566.76198328]\n",
      " [103973.73669963]\n",
      " [141566.76198328]\n",
      " [141566.76198328]\n",
      " [141566.76198328]\n",
      " [216752.81255059]\n",
      " [216752.81255059]\n",
      " [179159.78726693]\n",
      " [254345.83783424]\n",
      " [216752.81255059]\n",
      " [216752.81255059]\n",
      " [216752.81255059]\n",
      " [329531.88840154]\n",
      " [254345.83783424]\n",
      " [179159.78726693]\n",
      " [216752.81255059]\n",
      " [179159.78726693]\n",
      " [179159.78726693]\n",
      " [141566.76198328]\n",
      " [216752.81255059]\n",
      " [216752.81255059]\n",
      " [141566.76198328]\n",
      " [216752.81255059]\n",
      " [216752.81255059]\n",
      " [179159.78726693]\n",
      " [254345.83783424]\n",
      " [141566.76198328]\n",
      " [216752.81255059]\n",
      " [179159.78726693]\n",
      " [179159.78726693]\n",
      " [141566.76198328]\n",
      " [103973.73669963]\n",
      " [179159.78726693]\n",
      " [179159.78726693]\n",
      " [216752.81255059]\n",
      " [216752.81255059]\n",
      " [291938.86311789]\n",
      " [254345.83783424]\n",
      " [141566.76198328]\n",
      " [216752.81255059]\n",
      " [179159.78726693]\n",
      " [141566.76198328]\n",
      " [179159.78726693]\n",
      " [141566.76198328]\n",
      " [141566.76198328]\n",
      " [179159.78726693]\n",
      " [179159.78726693]\n",
      " [254345.83783424]\n",
      " [103973.73669963]\n",
      " [216752.81255059]\n",
      " [216752.81255059]\n",
      " [141566.76198328]\n",
      " [179159.78726693]\n",
      " [179159.78726693]\n",
      " [179159.78726693]\n",
      " [179159.78726693]\n",
      " [141566.76198328]\n",
      " [254345.83783424]\n",
      " [254345.83783424]\n",
      " [141566.76198328]\n",
      " [141566.76198328]\n",
      " [141566.76198328]\n",
      " [216752.81255059]\n",
      " [141566.76198328]\n",
      " [141566.76198328]\n",
      " [141566.76198328]\n",
      " [179159.78726693]\n",
      " [329531.88840154]\n",
      " [141566.76198328]\n",
      " [216752.81255059]\n",
      " [179159.78726693]\n",
      " [254345.83783424]\n",
      " [216752.81255059]\n",
      " [216752.81255059]\n",
      " [291938.86311789]\n",
      " [216752.81255059]\n",
      " [141566.76198328]\n",
      " [141566.76198328]\n",
      " [179159.78726693]\n",
      " [216752.81255059]\n",
      " [216752.81255059]\n",
      " [254345.83783424]\n",
      " [291938.86311789]\n",
      " [103973.73669963]\n",
      " [179159.78726693]\n",
      " [254345.83783424]\n",
      " [216752.81255059]\n",
      " [254345.83783424]\n",
      " [103973.73669963]\n",
      " [179159.78726693]\n",
      " [ 66380.71141598]\n",
      " [216752.81255059]\n",
      " [103973.73669963]\n",
      " [254345.83783424]\n",
      " [103973.73669963]\n",
      " [ 66380.71141598]\n",
      " [141566.76198328]\n",
      " [179159.78726693]\n",
      " [216752.81255059]\n",
      " [254345.83783424]\n",
      " [141566.76198328]\n",
      " [103973.73669963]\n",
      " [141566.76198328]\n",
      " [141566.76198328]\n",
      " [179159.78726693]\n",
      " [141566.76198328]\n",
      " [103973.73669963]\n",
      " [216752.81255059]\n",
      " [141566.76198328]\n",
      " [103973.73669963]\n",
      " [179159.78726693]\n",
      " [254345.83783424]\n",
      " [179159.78726693]\n",
      " [216752.81255059]\n",
      " [103973.73669963]\n",
      " [216752.81255059]\n",
      " [254345.83783424]\n",
      " [216752.81255059]\n",
      " [254345.83783424]\n",
      " [141566.76198328]\n",
      " [179159.78726693]\n",
      " [179159.78726693]\n",
      " [254345.83783424]\n",
      " [216752.81255059]\n",
      " [216752.81255059]\n",
      " [141566.76198328]\n",
      " [141566.76198328]\n",
      " [179159.78726693]\n",
      " [291938.86311789]\n",
      " [141566.76198328]\n",
      " [216752.81255059]\n",
      " [103973.73669963]\n",
      " [179159.78726693]\n",
      " [216752.81255059]\n",
      " [216752.81255059]\n",
      " [216752.81255059]\n",
      " [141566.76198328]\n",
      " [179159.78726693]\n",
      " [254345.83783424]\n",
      " [103973.73669963]\n",
      " [179159.78726693]\n",
      " [216752.81255059]\n",
      " [329531.88840154]\n",
      " [216752.81255059]\n",
      " [254345.83783424]\n",
      " [179159.78726693]\n",
      " [141566.76198328]\n",
      " [179159.78726693]\n",
      " [141566.76198328]\n",
      " [ 66380.71141598]\n",
      " [179159.78726693]\n",
      " [216752.81255059]\n",
      " [141566.76198328]\n",
      " [179159.78726693]\n",
      " [103973.73669963]\n",
      " [216752.81255059]\n",
      " [179159.78726693]\n",
      " [291938.86311789]\n",
      " [179159.78726693]\n",
      " [216752.81255059]\n",
      " [141566.76198328]\n",
      " [141566.76198328]\n",
      " [179159.78726693]\n",
      " [216752.81255059]\n",
      " [254345.83783424]\n",
      " [141566.76198328]\n",
      " [141566.76198328]\n",
      " [141566.76198328]\n",
      " [179159.78726693]\n",
      " [179159.78726693]\n",
      " [179159.78726693]\n",
      " [216752.81255059]\n",
      " [254345.83783424]\n",
      " [ 66380.71141598]\n",
      " [254345.83783424]\n",
      " [141566.76198328]\n",
      " [141566.76198328]\n",
      " [103973.73669963]\n",
      " [216752.81255059]\n",
      " [216752.81255059]\n",
      " [179159.78726693]\n",
      " [103973.73669963]\n",
      " [254345.83783424]\n",
      " [179159.78726693]\n",
      " [216752.81255059]\n",
      " [103973.73669963]\n",
      " [254345.83783424]\n",
      " [141566.76198328]\n",
      " [179159.78726693]\n",
      " [179159.78726693]\n",
      " [179159.78726693]\n",
      " [179159.78726693]\n",
      " [179159.78726693]\n",
      " [141566.76198328]\n",
      " [179159.78726693]\n",
      " [216752.81255059]\n",
      " [141566.76198328]\n",
      " [141566.76198328]\n",
      " [179159.78726693]\n",
      " [141566.76198328]\n",
      " [179159.78726693]\n",
      " [103973.73669963]\n",
      " [179159.78726693]\n",
      " [141566.76198328]\n",
      " [179159.78726693]\n",
      " [103973.73669963]\n",
      " [254345.83783424]\n",
      " [179159.78726693]\n",
      " [216752.81255059]\n",
      " [179159.78726693]\n",
      " [179159.78726693]\n",
      " [329531.88840154]\n",
      " [179159.78726693]\n",
      " [216752.81255059]\n",
      " [179159.78726693]\n",
      " [141566.76198328]\n",
      " [254345.83783424]\n",
      " [103973.73669963]\n",
      " [141566.76198328]\n",
      " [141566.76198328]\n",
      " [254345.83783424]\n",
      " [141566.76198328]\n",
      " [141566.76198328]\n",
      " [216752.81255059]\n",
      " [179159.78726693]\n",
      " [179159.78726693]\n",
      " [216752.81255059]\n",
      " [141566.76198328]\n",
      " [141566.76198328]]\n"
     ]
    }
   ],
   "source": [
    "ymanual1,ysci1,yprom1 = todos(reglineal(x1,y1,20,2,0.01),coef1,inter1,x11)\n",
    "print(\"Predicción de Y, con modelo Manaual\", ymanual1)\n",
    "print(\"Predicción de Y, con modelo Scikitlearn\", ysci1)\n",
    "print(\"Predicción de Y, con modelo Promedio\", yprom1)\n",
    "\n",
    "ymanual11 = ymanual1\n",
    "ysci11 = ysci1\n",
    "yprom11 = yprom1"
   ]
  },
  {
   "cell_type": "markdown",
   "metadata": {},
   "source": [
    "## Aplicando 3 modelos predictivos estimamos Y para X22, con el 20% de datos para pruebas"
   ]
  },
  {
   "cell_type": "code",
   "execution_count": 229,
   "metadata": {},
   "outputs": [
    {
     "name": "stdout",
     "output_type": "stream",
     "text": [
      "Error 0 19409722053.22175\n",
      "Error 2 2868596297.1587853\n",
      "Error 4 2014585618.3584688\n",
      "Error 6 1970493426.8857822\n",
      "Error 8 1968216951.8711164\n",
      "Error 10 1968099402.9339027\n",
      "Error 12 1968093318.3503563\n",
      "Error 14 1968092988.619781\n",
      "Error 16 1968092956.009606\n",
      "Error 18 1968092938.739625\n",
      "Predicción de Y, con modelo Manaual [[ 922.35946557]\n",
      " [1537.14731872]\n",
      " [ 922.35946557]\n",
      " [ 922.35946557]\n",
      " [1076.05642886]\n",
      " [ 768.66250229]\n",
      " [ 922.35946557]\n",
      " [1229.75339215]\n",
      " [ 768.66250229]\n",
      " [ 922.35946557]\n",
      " [ 768.66250229]\n",
      " [ 768.66250229]\n",
      " [1076.05642886]\n",
      " [1229.75339215]\n",
      " [1537.14731872]\n",
      " [ 768.66250229]\n",
      " [ 768.66250229]\n",
      " [ 768.66250229]\n",
      " [ 461.26857571]\n",
      " [1229.75339215]\n",
      " [1076.05642886]\n",
      " [1076.05642886]\n",
      " [ 614.965539  ]\n",
      " [1229.75339215]\n",
      " [ 768.66250229]\n",
      " [ 922.35946557]\n",
      " [ 922.35946557]\n",
      " [ 922.35946557]\n",
      " [1076.05642886]\n",
      " [1076.05642886]\n",
      " [1076.05642886]\n",
      " [ 614.965539  ]\n",
      " [ 614.965539  ]\n",
      " [1076.05642886]\n",
      " [ 768.66250229]\n",
      " [1076.05642886]\n",
      " [ 768.66250229]\n",
      " [1076.05642886]\n",
      " [ 614.965539  ]\n",
      " [ 922.35946557]\n",
      " [ 768.66250229]\n",
      " [1229.75339215]\n",
      " [ 922.35946557]\n",
      " [1229.75339215]\n",
      " [ 614.965539  ]\n",
      " [ 614.965539  ]\n",
      " [ 768.66250229]\n",
      " [ 768.66250229]\n",
      " [ 922.35946557]\n",
      " [1229.75339215]\n",
      " [ 614.965539  ]\n",
      " [ 922.35946557]\n",
      " [ 768.66250229]\n",
      " [ 768.66250229]\n",
      " [ 922.35946557]\n",
      " [ 768.66250229]\n",
      " [1076.05642886]\n",
      " [ 922.35946557]\n",
      " [ 922.35946557]\n",
      " [ 768.66250229]\n",
      " [1383.45035544]\n",
      " [ 768.66250229]\n",
      " [ 768.66250229]\n",
      " [ 768.66250229]\n",
      " [ 614.965539  ]\n",
      " [ 768.66250229]\n",
      " [ 768.66250229]\n",
      " [ 768.66250229]\n",
      " [1076.05642886]\n",
      " [1076.05642886]\n",
      " [ 922.35946557]\n",
      " [1229.75339215]\n",
      " [1076.05642886]\n",
      " [1076.05642886]\n",
      " [1076.05642886]\n",
      " [1537.14731872]\n",
      " [1229.75339215]\n",
      " [ 922.35946557]\n",
      " [1076.05642886]\n",
      " [ 922.35946557]\n",
      " [ 922.35946557]\n",
      " [ 768.66250229]\n",
      " [1076.05642886]\n",
      " [1076.05642886]\n",
      " [ 768.66250229]\n",
      " [1076.05642886]\n",
      " [1076.05642886]\n",
      " [ 922.35946557]\n",
      " [1229.75339215]\n",
      " [ 768.66250229]\n",
      " [1076.05642886]\n",
      " [ 922.35946557]\n",
      " [ 922.35946557]\n",
      " [ 768.66250229]\n",
      " [ 614.965539  ]\n",
      " [ 922.35946557]\n",
      " [ 922.35946557]\n",
      " [1076.05642886]\n",
      " [1076.05642886]\n",
      " [1383.45035544]\n",
      " [1229.75339215]\n",
      " [ 768.66250229]\n",
      " [1076.05642886]\n",
      " [ 922.35946557]\n",
      " [ 768.66250229]\n",
      " [ 922.35946557]\n",
      " [ 768.66250229]\n",
      " [ 768.66250229]\n",
      " [ 922.35946557]\n",
      " [ 922.35946557]\n",
      " [1229.75339215]\n",
      " [ 614.965539  ]\n",
      " [1076.05642886]\n",
      " [1076.05642886]\n",
      " [ 768.66250229]\n",
      " [ 922.35946557]\n",
      " [ 922.35946557]\n",
      " [ 922.35946557]\n",
      " [ 922.35946557]\n",
      " [ 768.66250229]\n",
      " [1229.75339215]\n",
      " [1229.75339215]\n",
      " [ 768.66250229]\n",
      " [ 768.66250229]\n",
      " [ 768.66250229]\n",
      " [1076.05642886]\n",
      " [ 768.66250229]\n",
      " [ 768.66250229]\n",
      " [ 768.66250229]\n",
      " [ 922.35946557]\n",
      " [1537.14731872]\n",
      " [ 768.66250229]\n",
      " [1076.05642886]\n",
      " [ 922.35946557]\n",
      " [1229.75339215]\n",
      " [1076.05642886]\n",
      " [1076.05642886]\n",
      " [1383.45035544]\n",
      " [1076.05642886]\n",
      " [ 768.66250229]\n",
      " [ 768.66250229]\n",
      " [ 922.35946557]\n",
      " [1076.05642886]\n",
      " [1076.05642886]\n",
      " [1229.75339215]\n",
      " [1383.45035544]\n",
      " [ 614.965539  ]\n",
      " [ 922.35946557]\n",
      " [1229.75339215]\n",
      " [1076.05642886]\n",
      " [1229.75339215]\n",
      " [ 614.965539  ]\n",
      " [ 922.35946557]\n",
      " [ 461.26857571]\n",
      " [1076.05642886]\n",
      " [ 614.965539  ]\n",
      " [1229.75339215]\n",
      " [ 614.965539  ]\n",
      " [ 461.26857571]\n",
      " [ 768.66250229]\n",
      " [ 922.35946557]\n",
      " [1076.05642886]\n",
      " [1229.75339215]\n",
      " [ 768.66250229]\n",
      " [ 614.965539  ]\n",
      " [ 768.66250229]\n",
      " [ 768.66250229]\n",
      " [ 922.35946557]\n",
      " [ 768.66250229]\n",
      " [ 614.965539  ]\n",
      " [1076.05642886]\n",
      " [ 768.66250229]\n",
      " [ 614.965539  ]\n",
      " [ 922.35946557]\n",
      " [1229.75339215]\n",
      " [ 922.35946557]\n",
      " [1076.05642886]\n",
      " [ 614.965539  ]\n",
      " [1076.05642886]\n",
      " [1229.75339215]\n",
      " [1076.05642886]\n",
      " [1229.75339215]\n",
      " [ 768.66250229]\n",
      " [ 922.35946557]\n",
      " [ 922.35946557]\n",
      " [1229.75339215]\n",
      " [1076.05642886]\n",
      " [1076.05642886]\n",
      " [ 768.66250229]\n",
      " [ 768.66250229]\n",
      " [ 922.35946557]\n",
      " [1383.45035544]\n",
      " [ 768.66250229]\n",
      " [1076.05642886]\n",
      " [ 614.965539  ]\n",
      " [ 922.35946557]\n",
      " [1076.05642886]\n",
      " [1076.05642886]\n",
      " [1076.05642886]\n",
      " [ 768.66250229]\n",
      " [ 922.35946557]\n",
      " [1229.75339215]\n",
      " [ 614.965539  ]\n",
      " [ 922.35946557]\n",
      " [1076.05642886]\n",
      " [1537.14731872]\n",
      " [1076.05642886]\n",
      " [1229.75339215]\n",
      " [ 922.35946557]\n",
      " [ 768.66250229]\n",
      " [ 922.35946557]\n",
      " [ 768.66250229]\n",
      " [ 461.26857571]\n",
      " [ 922.35946557]\n",
      " [1076.05642886]\n",
      " [ 768.66250229]\n",
      " [ 922.35946557]\n",
      " [ 614.965539  ]\n",
      " [1076.05642886]\n",
      " [ 922.35946557]\n",
      " [1383.45035544]\n",
      " [ 922.35946557]\n",
      " [1076.05642886]\n",
      " [ 768.66250229]\n",
      " [ 768.66250229]\n",
      " [ 922.35946557]\n",
      " [1076.05642886]\n",
      " [1229.75339215]\n",
      " [ 768.66250229]\n",
      " [ 768.66250229]\n",
      " [ 768.66250229]\n",
      " [ 922.35946557]\n",
      " [ 922.35946557]\n",
      " [ 922.35946557]\n",
      " [1076.05642886]\n",
      " [1229.75339215]\n",
      " [ 461.26857571]\n",
      " [1229.75339215]\n",
      " [ 768.66250229]\n",
      " [ 768.66250229]\n",
      " [ 614.965539  ]\n",
      " [1076.05642886]\n",
      " [1076.05642886]\n",
      " [ 922.35946557]\n",
      " [ 614.965539  ]\n",
      " [1229.75339215]\n",
      " [ 922.35946557]\n",
      " [1076.05642886]\n",
      " [ 614.965539  ]\n",
      " [1229.75339215]\n",
      " [ 768.66250229]\n",
      " [ 922.35946557]\n",
      " [ 922.35946557]\n",
      " [ 922.35946557]\n",
      " [ 922.35946557]\n",
      " [ 922.35946557]\n",
      " [ 768.66250229]\n",
      " [ 922.35946557]\n",
      " [1076.05642886]\n",
      " [ 768.66250229]\n",
      " [ 768.66250229]\n",
      " [ 922.35946557]\n",
      " [ 768.66250229]\n",
      " [ 922.35946557]\n",
      " [ 614.965539  ]\n",
      " [ 922.35946557]\n",
      " [ 768.66250229]\n",
      " [ 922.35946557]\n",
      " [ 614.965539  ]\n",
      " [1229.75339215]\n",
      " [ 922.35946557]\n",
      " [1076.05642886]\n",
      " [ 922.35946557]\n",
      " [ 922.35946557]\n",
      " [1537.14731872]\n",
      " [ 922.35946557]\n",
      " [1076.05642886]\n",
      " [ 922.35946557]\n",
      " [ 768.66250229]\n",
      " [1229.75339215]\n",
      " [ 614.965539  ]\n",
      " [ 768.66250229]\n",
      " [ 768.66250229]\n",
      " [1229.75339215]\n",
      " [ 768.66250229]\n",
      " [ 768.66250229]\n",
      " [1076.05642886]\n",
      " [ 922.35946557]\n",
      " [ 922.35946557]\n",
      " [1076.05642886]\n",
      " [ 768.66250229]\n",
      " [ 768.66250229]]\n",
      "Predicción de Y, con modelo Scikitlearn [[31104.29262869]\n",
      " [31624.09759784]\n",
      " [31104.29262869]\n",
      " [31104.29262869]\n",
      " [31234.24387097]\n",
      " [30974.3413864 ]\n",
      " [31104.29262869]\n",
      " [31364.19511326]\n",
      " [30974.3413864 ]\n",
      " [31104.29262869]\n",
      " [30974.3413864 ]\n",
      " [30974.3413864 ]\n",
      " [31234.24387097]\n",
      " [31364.19511326]\n",
      " [31624.09759784]\n",
      " [30974.3413864 ]\n",
      " [30974.3413864 ]\n",
      " [30974.3413864 ]\n",
      " [30714.43890183]\n",
      " [31364.19511326]\n",
      " [31234.24387097]\n",
      " [31234.24387097]\n",
      " [30844.39014411]\n",
      " [31364.19511326]\n",
      " [30974.3413864 ]\n",
      " [31104.29262869]\n",
      " [31104.29262869]\n",
      " [31104.29262869]\n",
      " [31234.24387097]\n",
      " [31234.24387097]\n",
      " [31234.24387097]\n",
      " [30844.39014411]\n",
      " [30844.39014411]\n",
      " [31234.24387097]\n",
      " [30974.3413864 ]\n",
      " [31234.24387097]\n",
      " [30974.3413864 ]\n",
      " [31234.24387097]\n",
      " [30844.39014411]\n",
      " [31104.29262869]\n",
      " [30974.3413864 ]\n",
      " [31364.19511326]\n",
      " [31104.29262869]\n",
      " [31364.19511326]\n",
      " [30844.39014411]\n",
      " [30844.39014411]\n",
      " [30974.3413864 ]\n",
      " [30974.3413864 ]\n",
      " [31104.29262869]\n",
      " [31364.19511326]\n",
      " [30844.39014411]\n",
      " [31104.29262869]\n",
      " [30974.3413864 ]\n",
      " [30974.3413864 ]\n",
      " [31104.29262869]\n",
      " [30974.3413864 ]\n",
      " [31234.24387097]\n",
      " [31104.29262869]\n",
      " [31104.29262869]\n",
      " [30974.3413864 ]\n",
      " [31494.14635555]\n",
      " [30974.3413864 ]\n",
      " [30974.3413864 ]\n",
      " [30974.3413864 ]\n",
      " [30844.39014411]\n",
      " [30974.3413864 ]\n",
      " [30974.3413864 ]\n",
      " [30974.3413864 ]\n",
      " [31234.24387097]\n",
      " [31234.24387097]\n",
      " [31104.29262869]\n",
      " [31364.19511326]\n",
      " [31234.24387097]\n",
      " [31234.24387097]\n",
      " [31234.24387097]\n",
      " [31624.09759784]\n",
      " [31364.19511326]\n",
      " [31104.29262869]\n",
      " [31234.24387097]\n",
      " [31104.29262869]\n",
      " [31104.29262869]\n",
      " [30974.3413864 ]\n",
      " [31234.24387097]\n",
      " [31234.24387097]\n",
      " [30974.3413864 ]\n",
      " [31234.24387097]\n",
      " [31234.24387097]\n",
      " [31104.29262869]\n",
      " [31364.19511326]\n",
      " [30974.3413864 ]\n",
      " [31234.24387097]\n",
      " [31104.29262869]\n",
      " [31104.29262869]\n",
      " [30974.3413864 ]\n",
      " [30844.39014411]\n",
      " [31104.29262869]\n",
      " [31104.29262869]\n",
      " [31234.24387097]\n",
      " [31234.24387097]\n",
      " [31494.14635555]\n",
      " [31364.19511326]\n",
      " [30974.3413864 ]\n",
      " [31234.24387097]\n",
      " [31104.29262869]\n",
      " [30974.3413864 ]\n",
      " [31104.29262869]\n",
      " [30974.3413864 ]\n",
      " [30974.3413864 ]\n",
      " [31104.29262869]\n",
      " [31104.29262869]\n",
      " [31364.19511326]\n",
      " [30844.39014411]\n",
      " [31234.24387097]\n",
      " [31234.24387097]\n",
      " [30974.3413864 ]\n",
      " [31104.29262869]\n",
      " [31104.29262869]\n",
      " [31104.29262869]\n",
      " [31104.29262869]\n",
      " [30974.3413864 ]\n",
      " [31364.19511326]\n",
      " [31364.19511326]\n",
      " [30974.3413864 ]\n",
      " [30974.3413864 ]\n",
      " [30974.3413864 ]\n",
      " [31234.24387097]\n",
      " [30974.3413864 ]\n",
      " [30974.3413864 ]\n",
      " [30974.3413864 ]\n",
      " [31104.29262869]\n",
      " [31624.09759784]\n",
      " [30974.3413864 ]\n",
      " [31234.24387097]\n",
      " [31104.29262869]\n",
      " [31364.19511326]\n",
      " [31234.24387097]\n",
      " [31234.24387097]\n",
      " [31494.14635555]\n",
      " [31234.24387097]\n",
      " [30974.3413864 ]\n",
      " [30974.3413864 ]\n",
      " [31104.29262869]\n",
      " [31234.24387097]\n",
      " [31234.24387097]\n",
      " [31364.19511326]\n",
      " [31494.14635555]\n",
      " [30844.39014411]\n",
      " [31104.29262869]\n",
      " [31364.19511326]\n",
      " [31234.24387097]\n",
      " [31364.19511326]\n",
      " [30844.39014411]\n",
      " [31104.29262869]\n",
      " [30714.43890183]\n",
      " [31234.24387097]\n",
      " [30844.39014411]\n",
      " [31364.19511326]\n",
      " [30844.39014411]\n",
      " [30714.43890183]\n",
      " [30974.3413864 ]\n",
      " [31104.29262869]\n",
      " [31234.24387097]\n",
      " [31364.19511326]\n",
      " [30974.3413864 ]\n",
      " [30844.39014411]\n",
      " [30974.3413864 ]\n",
      " [30974.3413864 ]\n",
      " [31104.29262869]\n",
      " [30974.3413864 ]\n",
      " [30844.39014411]\n",
      " [31234.24387097]\n",
      " [30974.3413864 ]\n",
      " [30844.39014411]\n",
      " [31104.29262869]\n",
      " [31364.19511326]\n",
      " [31104.29262869]\n",
      " [31234.24387097]\n",
      " [30844.39014411]\n",
      " [31234.24387097]\n",
      " [31364.19511326]\n",
      " [31234.24387097]\n",
      " [31364.19511326]\n",
      " [30974.3413864 ]\n",
      " [31104.29262869]\n",
      " [31104.29262869]\n",
      " [31364.19511326]\n",
      " [31234.24387097]\n",
      " [31234.24387097]\n",
      " [30974.3413864 ]\n",
      " [30974.3413864 ]\n",
      " [31104.29262869]\n",
      " [31494.14635555]\n",
      " [30974.3413864 ]\n",
      " [31234.24387097]\n",
      " [30844.39014411]\n",
      " [31104.29262869]\n",
      " [31234.24387097]\n",
      " [31234.24387097]\n",
      " [31234.24387097]\n",
      " [30974.3413864 ]\n",
      " [31104.29262869]\n",
      " [31364.19511326]\n",
      " [30844.39014411]\n",
      " [31104.29262869]\n",
      " [31234.24387097]\n",
      " [31624.09759784]\n",
      " [31234.24387097]\n",
      " [31364.19511326]\n",
      " [31104.29262869]\n",
      " [30974.3413864 ]\n",
      " [31104.29262869]\n",
      " [30974.3413864 ]\n",
      " [30714.43890183]\n",
      " [31104.29262869]\n",
      " [31234.24387097]\n",
      " [30974.3413864 ]\n",
      " [31104.29262869]\n",
      " [30844.39014411]\n",
      " [31234.24387097]\n",
      " [31104.29262869]\n",
      " [31494.14635555]\n",
      " [31104.29262869]\n",
      " [31234.24387097]\n",
      " [30974.3413864 ]\n",
      " [30974.3413864 ]\n",
      " [31104.29262869]\n",
      " [31234.24387097]\n",
      " [31364.19511326]\n",
      " [30974.3413864 ]\n",
      " [30974.3413864 ]\n",
      " [30974.3413864 ]\n",
      " [31104.29262869]\n",
      " [31104.29262869]\n",
      " [31104.29262869]\n",
      " [31234.24387097]\n",
      " [31364.19511326]\n",
      " [30714.43890183]\n",
      " [31364.19511326]\n",
      " [30974.3413864 ]\n",
      " [30974.3413864 ]\n",
      " [30844.39014411]\n",
      " [31234.24387097]\n",
      " [31234.24387097]\n",
      " [31104.29262869]\n",
      " [30844.39014411]\n",
      " [31364.19511326]\n",
      " [31104.29262869]\n",
      " [31234.24387097]\n",
      " [30844.39014411]\n",
      " [31364.19511326]\n",
      " [30974.3413864 ]\n",
      " [31104.29262869]\n",
      " [31104.29262869]\n",
      " [31104.29262869]\n",
      " [31104.29262869]\n",
      " [31104.29262869]\n",
      " [30974.3413864 ]\n",
      " [31104.29262869]\n",
      " [31234.24387097]\n",
      " [30974.3413864 ]\n",
      " [30974.3413864 ]\n",
      " [31104.29262869]\n",
      " [30974.3413864 ]\n",
      " [31104.29262869]\n",
      " [30844.39014411]\n",
      " [31104.29262869]\n",
      " [30974.3413864 ]\n",
      " [31104.29262869]\n",
      " [30844.39014411]\n",
      " [31364.19511326]\n",
      " [31104.29262869]\n",
      " [31234.24387097]\n",
      " [31104.29262869]\n",
      " [31104.29262869]\n",
      " [31624.09759784]\n",
      " [31104.29262869]\n",
      " [31234.24387097]\n",
      " [31104.29262869]\n",
      " [30974.3413864 ]\n",
      " [31364.19511326]\n",
      " [30844.39014411]\n",
      " [30974.3413864 ]\n",
      " [30974.3413864 ]\n",
      " [31364.19511326]\n",
      " [30974.3413864 ]\n",
      " [30974.3413864 ]\n",
      " [31234.24387097]\n",
      " [31104.29262869]\n",
      " [31104.29262869]\n",
      " [31234.24387097]\n",
      " [30974.3413864 ]\n",
      " [30974.3413864 ]]\n",
      "Predicción de Y, con modelo Promedio [[16013.32604713]\n",
      " [16580.62245828]\n",
      " [16013.32604713]\n",
      " [16013.32604713]\n",
      " [16155.15014992]\n",
      " [15871.50194434]\n",
      " [16013.32604713]\n",
      " [16296.9742527 ]\n",
      " [15871.50194434]\n",
      " [16013.32604713]\n",
      " [15871.50194434]\n",
      " [15871.50194434]\n",
      " [16155.15014992]\n",
      " [16296.9742527 ]\n",
      " [16580.62245828]\n",
      " [15871.50194434]\n",
      " [15871.50194434]\n",
      " [15871.50194434]\n",
      " [15587.85373877]\n",
      " [16296.9742527 ]\n",
      " [16155.15014992]\n",
      " [16155.15014992]\n",
      " [15729.67784155]\n",
      " [16296.9742527 ]\n",
      " [15871.50194434]\n",
      " [16013.32604713]\n",
      " [16013.32604713]\n",
      " [16013.32604713]\n",
      " [16155.15014992]\n",
      " [16155.15014992]\n",
      " [16155.15014992]\n",
      " [15729.67784155]\n",
      " [15729.67784155]\n",
      " [16155.15014992]\n",
      " [15871.50194434]\n",
      " [16155.15014992]\n",
      " [15871.50194434]\n",
      " [16155.15014992]\n",
      " [15729.67784155]\n",
      " [16013.32604713]\n",
      " [15871.50194434]\n",
      " [16296.9742527 ]\n",
      " [16013.32604713]\n",
      " [16296.9742527 ]\n",
      " [15729.67784155]\n",
      " [15729.67784155]\n",
      " [15871.50194434]\n",
      " [15871.50194434]\n",
      " [16013.32604713]\n",
      " [16296.9742527 ]\n",
      " [15729.67784155]\n",
      " [16013.32604713]\n",
      " [15871.50194434]\n",
      " [15871.50194434]\n",
      " [16013.32604713]\n",
      " [15871.50194434]\n",
      " [16155.15014992]\n",
      " [16013.32604713]\n",
      " [16013.32604713]\n",
      " [15871.50194434]\n",
      " [16438.79835549]\n",
      " [15871.50194434]\n",
      " [15871.50194434]\n",
      " [15871.50194434]\n",
      " [15729.67784155]\n",
      " [15871.50194434]\n",
      " [15871.50194434]\n",
      " [15871.50194434]\n",
      " [16155.15014992]\n",
      " [16155.15014992]\n",
      " [16013.32604713]\n",
      " [16296.9742527 ]\n",
      " [16155.15014992]\n",
      " [16155.15014992]\n",
      " [16155.15014992]\n",
      " [16580.62245828]\n",
      " [16296.9742527 ]\n",
      " [16013.32604713]\n",
      " [16155.15014992]\n",
      " [16013.32604713]\n",
      " [16013.32604713]\n",
      " [15871.50194434]\n",
      " [16155.15014992]\n",
      " [16155.15014992]\n",
      " [15871.50194434]\n",
      " [16155.15014992]\n",
      " [16155.15014992]\n",
      " [16013.32604713]\n",
      " [16296.9742527 ]\n",
      " [15871.50194434]\n",
      " [16155.15014992]\n",
      " [16013.32604713]\n",
      " [16013.32604713]\n",
      " [15871.50194434]\n",
      " [15729.67784155]\n",
      " [16013.32604713]\n",
      " [16013.32604713]\n",
      " [16155.15014992]\n",
      " [16155.15014992]\n",
      " [16438.79835549]\n",
      " [16296.9742527 ]\n",
      " [15871.50194434]\n",
      " [16155.15014992]\n",
      " [16013.32604713]\n",
      " [15871.50194434]\n",
      " [16013.32604713]\n",
      " [15871.50194434]\n",
      " [15871.50194434]\n",
      " [16013.32604713]\n",
      " [16013.32604713]\n",
      " [16296.9742527 ]\n",
      " [15729.67784155]\n",
      " [16155.15014992]\n",
      " [16155.15014992]\n",
      " [15871.50194434]\n",
      " [16013.32604713]\n",
      " [16013.32604713]\n",
      " [16013.32604713]\n",
      " [16013.32604713]\n",
      " [15871.50194434]\n",
      " [16296.9742527 ]\n",
      " [16296.9742527 ]\n",
      " [15871.50194434]\n",
      " [15871.50194434]\n",
      " [15871.50194434]\n",
      " [16155.15014992]\n",
      " [15871.50194434]\n",
      " [15871.50194434]\n",
      " [15871.50194434]\n",
      " [16013.32604713]\n",
      " [16580.62245828]\n",
      " [15871.50194434]\n",
      " [16155.15014992]\n",
      " [16013.32604713]\n",
      " [16296.9742527 ]\n",
      " [16155.15014992]\n",
      " [16155.15014992]\n",
      " [16438.79835549]\n",
      " [16155.15014992]\n",
      " [15871.50194434]\n",
      " [15871.50194434]\n",
      " [16013.32604713]\n",
      " [16155.15014992]\n",
      " [16155.15014992]\n",
      " [16296.9742527 ]\n",
      " [16438.79835549]\n",
      " [15729.67784155]\n",
      " [16013.32604713]\n",
      " [16296.9742527 ]\n",
      " [16155.15014992]\n",
      " [16296.9742527 ]\n",
      " [15729.67784155]\n",
      " [16013.32604713]\n",
      " [15587.85373877]\n",
      " [16155.15014992]\n",
      " [15729.67784155]\n",
      " [16296.9742527 ]\n",
      " [15729.67784155]\n",
      " [15587.85373877]\n",
      " [15871.50194434]\n",
      " [16013.32604713]\n",
      " [16155.15014992]\n",
      " [16296.9742527 ]\n",
      " [15871.50194434]\n",
      " [15729.67784155]\n",
      " [15871.50194434]\n",
      " [15871.50194434]\n",
      " [16013.32604713]\n",
      " [15871.50194434]\n",
      " [15729.67784155]\n",
      " [16155.15014992]\n",
      " [15871.50194434]\n",
      " [15729.67784155]\n",
      " [16013.32604713]\n",
      " [16296.9742527 ]\n",
      " [16013.32604713]\n",
      " [16155.15014992]\n",
      " [15729.67784155]\n",
      " [16155.15014992]\n",
      " [16296.9742527 ]\n",
      " [16155.15014992]\n",
      " [16296.9742527 ]\n",
      " [15871.50194434]\n",
      " [16013.32604713]\n",
      " [16013.32604713]\n",
      " [16296.9742527 ]\n",
      " [16155.15014992]\n",
      " [16155.15014992]\n",
      " [15871.50194434]\n",
      " [15871.50194434]\n",
      " [16013.32604713]\n",
      " [16438.79835549]\n",
      " [15871.50194434]\n",
      " [16155.15014992]\n",
      " [15729.67784155]\n",
      " [16013.32604713]\n",
      " [16155.15014992]\n",
      " [16155.15014992]\n",
      " [16155.15014992]\n",
      " [15871.50194434]\n",
      " [16013.32604713]\n",
      " [16296.9742527 ]\n",
      " [15729.67784155]\n",
      " [16013.32604713]\n",
      " [16155.15014992]\n",
      " [16580.62245828]\n",
      " [16155.15014992]\n",
      " [16296.9742527 ]\n",
      " [16013.32604713]\n",
      " [15871.50194434]\n",
      " [16013.32604713]\n",
      " [15871.50194434]\n",
      " [15587.85373877]\n",
      " [16013.32604713]\n",
      " [16155.15014992]\n",
      " [15871.50194434]\n",
      " [16013.32604713]\n",
      " [15729.67784155]\n",
      " [16155.15014992]\n",
      " [16013.32604713]\n",
      " [16438.79835549]\n",
      " [16013.32604713]\n",
      " [16155.15014992]\n",
      " [15871.50194434]\n",
      " [15871.50194434]\n",
      " [16013.32604713]\n",
      " [16155.15014992]\n",
      " [16296.9742527 ]\n",
      " [15871.50194434]\n",
      " [15871.50194434]\n",
      " [15871.50194434]\n",
      " [16013.32604713]\n",
      " [16013.32604713]\n",
      " [16013.32604713]\n",
      " [16155.15014992]\n",
      " [16296.9742527 ]\n",
      " [15587.85373877]\n",
      " [16296.9742527 ]\n",
      " [15871.50194434]\n",
      " [15871.50194434]\n",
      " [15729.67784155]\n",
      " [16155.15014992]\n",
      " [16155.15014992]\n",
      " [16013.32604713]\n",
      " [15729.67784155]\n",
      " [16296.9742527 ]\n",
      " [16013.32604713]\n",
      " [16155.15014992]\n",
      " [15729.67784155]\n",
      " [16296.9742527 ]\n",
      " [15871.50194434]\n",
      " [16013.32604713]\n",
      " [16013.32604713]\n",
      " [16013.32604713]\n",
      " [16013.32604713]\n",
      " [16013.32604713]\n",
      " [15871.50194434]\n",
      " [16013.32604713]\n",
      " [16155.15014992]\n",
      " [15871.50194434]\n",
      " [15871.50194434]\n",
      " [16013.32604713]\n",
      " [15871.50194434]\n",
      " [16013.32604713]\n",
      " [15729.67784155]\n",
      " [16013.32604713]\n",
      " [15871.50194434]\n",
      " [16013.32604713]\n",
      " [15729.67784155]\n",
      " [16296.9742527 ]\n",
      " [16013.32604713]\n",
      " [16155.15014992]\n",
      " [16013.32604713]\n",
      " [16013.32604713]\n",
      " [16580.62245828]\n",
      " [16013.32604713]\n",
      " [16155.15014992]\n",
      " [16013.32604713]\n",
      " [15871.50194434]\n",
      " [16296.9742527 ]\n",
      " [15729.67784155]\n",
      " [15871.50194434]\n",
      " [15871.50194434]\n",
      " [16296.9742527 ]\n",
      " [15871.50194434]\n",
      " [15871.50194434]\n",
      " [16155.15014992]\n",
      " [16013.32604713]\n",
      " [16013.32604713]\n",
      " [16155.15014992]\n",
      " [15871.50194434]\n",
      " [15871.50194434]]\n"
     ]
    }
   ],
   "source": [
    "ymanual2,ysci2,yprom2 = todos(reglineal(x2,y1,20,2,.000001),coef2,inter2,x22)\n",
    "print(\"Predicción de Y, con modelo Manaual\", ymanual2)\n",
    "print(\"Predicción de Y, con modelo Scikitlearn\", ysci2)\n",
    "print(\"Predicción de Y, con modelo Promedio\", yprom2)\n",
    "\n",
    "ymanual22 = ymanual2\n",
    "ysci22 = ysci2\n",
    "yprom22 = yprom2"
   ]
  },
  {
   "cell_type": "markdown",
   "metadata": {},
   "source": [
    "## Caculando el error para X11"
   ]
  },
  {
   "cell_type": "code",
   "execution_count": 230,
   "metadata": {},
   "outputs": [
    {
     "name": "stdout",
     "output_type": "stream",
     "text": [
      "Error modelo manual 1561340018.4296873\n",
      "Error modelo Scrikitlearn 1315091304.4743197\n",
      "Error modelo promedio 1375110369.2323775\n"
     ]
    }
   ],
   "source": [
    "errormodemanualx11 = (np.mean(np.power(y2-ymanual11,2)))*0.5\n",
    "errormodescix11 = (np.mean(np.power(y2-ysci11,2)))*0.5\n",
    "errormodpromx11 = (np.mean(np.power(y2-yprom11,2)))*0.5\n",
    "\n",
    "print(\"Error modelo manual\",errormodemanualx11)\n",
    "print(\"Error modelo Scrikitlearn\",errormodescix11)\n",
    "print(\"Error modelo promedio\",errormodpromx11)\n",
    "\n"
   ]
  },
  {
   "cell_type": "markdown",
   "metadata": {},
   "source": [
    "## Caculando el error para X22"
   ]
  },
  {
   "cell_type": "code",
   "execution_count": 231,
   "metadata": {},
   "outputs": [
    {
     "name": "stdout",
     "output_type": "stream",
     "text": [
      "Error modelo manual 19775288095.542973\n",
      "Error modelo Scrikitlearn 14760980231.956453\n",
      "Error modelo promedio 17154281955.652695\n"
     ]
    }
   ],
   "source": [
    "errormodemanualx22 = (np.mean(np.power(y2-ymanual22,2)))*0.5\n",
    "errormodescix22 = (np.mean(np.power(y2-ysci22,2)))*0.5\n",
    "errormodpromx22 = (np.mean(np.power(y2-yprom22,2)))*0.5\n",
    "\n",
    "print(\"Error modelo manual\",errormodemanualx22)\n",
    "print(\"Error modelo Scrikitlearn\",errormodescix22)\n",
    "print(\"Error modelo promedio\",errormodpromx22)\n"
   ]
  },
  {
   "cell_type": "markdown",
   "metadata": {},
   "source": [
    "## Gráfica del error para X11 y X22"
   ]
  },
  {
   "cell_type": "code",
   "execution_count": 232,
   "metadata": {},
   "outputs": [
    {
     "data": {
      "image/png": "[encoded data removed]",
      "text/plain": [
       "<Figure size 720x360 with 1 Axes>"
      ]
     },
     "metadata": {},
     "output_type": "display_data"
    }
   ],
   "source": [
    "n_groups = 2\n",
    "modelo_manual = (errormodemanualx11,errormodemanualx22)\n",
    "modelo_scikit = (errormodescix11,errormodescix22)\n",
    " \n",
    "# create plot\n",
    "fig, ax = plt.subplots(figsize=(10,5))\n",
    "index = np.arange(n_groups)\n",
    "bar_width = 0.35\n",
    "opacity = 0.8\n",
    " \n",
    "rects1 = plt.bar(index, modelo_manual, bar_width,\n",
    "alpha=opacity,\n",
    "color='b',\n",
    "label='Modelo Manual')\n",
    " \n",
    "rects2 = plt.bar(index + bar_width, modelo_scikit, bar_width,\n",
    "alpha=opacity,\n",
    "color='g',\n",
    "label='Modelo Scikit')\n",
    " \n",
    "plt.xlabel('X')\n",
    "plt.ylabel('Errores')\n",
    "plt.title('Modelos y Errores')\n",
    "plt.xticks(index + bar_width, ('X11', 'X22'))\n",
    "plt.legend()\n",
    " \n",
    "plt.tight_layout()\n",
    "plt.show()"
   ]
  },
  {
   "cell_type": "markdown",
   "metadata": {},
   "source": [
    "## Conclusión "
   ]
  },
  {
   "cell_type": "markdown",
   "metadata": {},
   "source": [
    "### El mejor modelo, para ser usado, debido a que presenta el menor error para la variable X11 es el modelo Scikitlearn"
   ]
  },
  {
   "cell_type": "markdown",
   "metadata": {},
   "source": [
    "### El mejor modelo, para ser usado, debido a que presenta el menor error para la variable X22 es el modelo Scikitlearn"
   ]
  },
  {
   "cell_type": "code",
   "execution_count": null,
   "metadata": {},
   "outputs": [],
   "source": [
    "## area de pruebas\n",
    "## continue \n",
    "## si recta muy lento al valor adecuado es que lr muy bajo\n",
    "## si recta se oscila es que esta demasiado alto\n",
    "## truco estan en contrar el equilibrio \n",
    "\n",
    "for i\n",
    "\n",
    "    if \n",
    "    division nodudla i%5==0\n",
    "    print()\n",
    "    \n",
    "    ## el cinco no es cinco evaluar que es\n",
    "    otra forma\n",
    "for i \n",
    "\n",
    "    if \n",
    "    i%"
   ]
  }
 ],
 "metadata": {
  "kernelspec": {
   "display_name": "Python 3",
   "language": "python",
   "name": "python3"
  },
  "language_info": {
   "codemirror_mode": {
    "name": "ipython",
    "version": 3
   },
   "file_extension": ".py",
   "mimetype": "text/x-python",
   "name": "python",
   "nbconvert_exporter": "python",
   "pygments_lexer": "ipython3",
   "version": "3.6.5"
  }
 },
 "nbformat": 4,
 "nbformat_minor": 2
}
