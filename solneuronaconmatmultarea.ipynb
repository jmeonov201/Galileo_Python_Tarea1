{
 "cells": [
  {
   "cell_type": "markdown",
   "metadata": {},
   "source": [
    "# NumPy y algebra lineal(parte 2) \n",
    "\n",
    "\n",
    "Ya hemos estudiado el objeto básico en algebra lineal: **el vector** ,algunos de sus usos e interpretaciones , así como la forma de trabajar con estos en Python a través de NumPy ,funciones matemáticas útiles y comunes entre otras cosas.\n",
    "\n",
    "Además mencionamos el objeto general **Tensor** y su equivalente en NumPy : **np.ndarray**. \n",
    "\n",
    "En esta parte del curso nos enfocamos en otro objeto muy importante en algebra lineal y en ciencia de datos: **la matriz**.\n",
    "\n",
    "Muchas de las cosas que aprendimos en vectores aplican también a matrices,algunas exactamente igual, algunas con pequeñas variaciones, y algunas otras si son específicas .De manera similar muchas cosas que aprenderemos en matrices también aplican y son consistentes en el caso mas géneral: **arreglos multidimensionales(o tensores matemáticamente)** de manera que podemos generalizar mucho de lo aprendido.\n",
    "\n",
    "## ¿Por que estudiamos matrices en ciencia de datos?\n",
    "\n",
    "Similar al caso de vectores, usamos matrices para almacenar y operar en colecciones de datos.\n",
    "\n",
    "Cuando estudiamos previamente vectores , los vectores representaban en la mayoría de casos 2 tipos de información:\n",
    "\n",
    "* Una única observación o entidad con múltiples características: Por ejemplo los ejemplos de distribuciones discretas de probabilidad usadas en los ejemplos de entropía,una única observación con múltiples características(la probabilidad de ocurrencia de cada valor).\n",
    "* Múltiples observaciones o entidades, con una sola característica: cuando hicimos el ejemplo de medias móviles teniamos múltiples observaciones o entidades(cada punto de datos) pero cada observación tenia una sola característica.\n",
    "\n",
    "Esto puede bastar en muchos casos, pero para la mayoría de problemas trabajaremos con  muchas observaciones que poseen mas de una característica. Por lo cual necesitamos una estructura mas general que nos permita hacer esto, la estructura que nos permite hacer esto es lo que conocemos en matemática como **matriz** y en programación comunmente llamamos **arreglo bi-dimensional**\n",
    "\n",
    "**nota**: desafortunadamente el término dimension(y su derivado :dimensional) puede llegar a ser ambiguo , por ejemplo  : un vector bi-dimensional es algo completamente diferente a un arreglo bi-dimensional ,el vector bi-dimensional es una colección de 2 elementos mientras que el arreglo bi-dimensional es una estructura tabular que requiere de 2 coordenadas(o indices) para ser accedido.\n",
    "\n",
    "## ¿ Que es una matriz?\n",
    "\n",
    "Hay diversas definiciones de matriz , siendo la mas común: **un arreglo bidimensional de números**. Algunas otras definiciones desde el punto de vista matemático son:\n",
    "\n",
    "* Conjunto de números distribuidos ORDENADAMENTE de forma rectangular formando filas y columnas.\n",
    "* Tabla de números ORDENADOS.\n",
    "* Colección tabular de elementos distribuidos en filas y columnas.\n",
    "\n",
    "En matemática la definición suele estar orientada e incluso limitada a números(se dice que una matriz es una colección de elementos que pueden ser sumados y multiplicados) ,en programación se extiende un poco esto y podemos trabajar en algunos casos con colecciones rectangulares de otros tipos de objetos , para efectos de ciencia de datos nos enfocamos mayormente también en matrices como:**colecciones de números organizados de manera rectangular(distribuidos en filas y columnas)**.\n",
    "\n",
    "En matemática comunmente denotamos las matrices con letras mayúsculas, esta es una práctica que aveces adoptamos también en programación.\n",
    "\n",
    "\n",
    "<img src=\"https://ekuatio.com/wp-content/uploads/tipos-de-matrices-12.png\"/>\n",
    "\n",
    "<img src=\"http://www.multivariado.sobralmatematica.org/textos/derivada_files/matriz_34.png\"/>\n",
    "\n",
    "### Dimension o tamaño de una matriz\n",
    "\n",
    "El tamaño o dimensión de una matriz nos indica cuantos elementos esta posee y como estos se organizan en filas y columnas, comunmente denotamos el t amaño o dimensión como:\n",
    "$$ m x n $$\n",
    "\n",
    "* m = número de filas: comunmente número de observaciones, entidades o eventos\n",
    "* n = número de columnas : número de características de interes o descriptivas de cada elemento.\n",
    "\n",
    "<img src=\"https://upload.wikimedia.org/wikipedia/commons/thumb/b/bb/Matrix.svg/1200px-Matrix.svg.png\">\n",
    "\n",
    "**Nota** : esto no es un estandar y pueden llegar a variar:\n",
    "* encontrarse casos donde la data este organizada por columna siendo m = número de columnas y n = número de filas.\n",
    "* En computer visión aveces se toman las posiciones en filas de abajo hacia arriba.\n",
    "### Ejemplos:\n",
    "\n",
    "* En Machine Learning para datos estructurados comunmente trabajamos con muchas observaciones llamadas \"ejemplos de entrenamiento\" donde cada ejemplo esta caracterizado por múltiples características(llamadas features en ML), para esto usamos una matriz.\n",
    "* En analisis de correlación entre variables podemos almacenar múltiples variables para múltiples observaciones.\n",
    "* En deep learnig los parametros(pesos sinapticos) de una red neuronal  son representados como matrices \n",
    "\n",
    "<img src=\"https://gdsgenie.com/gds-training/statistical-data-set/?view_eckr=statistical+data+set.png\">\n",
    "\n",
    "## Matriz como Tensor\n",
    "\n",
    "Tal como ya hemos mencionado, el objeto mas general en algebra lineal es el **tensor** y tanto vectores como matrices son un **tensor** , la característica que determina cuando un tensor es una matriz o un vector es el **rango del tensor**, el rango es un entero que nos indica cuantos valores necesitamos para poder acceder o especificar a un elemento dentro del tensor.\n",
    "\n",
    "* **Escalares**: tensor de rango 0, puesto que son un único elemento numérico y no pertenecen a una colección , no tiene sentido la noción de tener un número indicando su posición en una colección.\n",
    "* **Vectores**: tensor de rango 1, lo conceptualizamos como una lista de elementos por lo tanto necesitamos 1 número para especificar la posición de cierto elemento en la lista.\n",
    "* **Matriz**: tensor de rango 2, pensamos en la matriz como una colección de números organizados de forma  rectangular en filas y columnas por lo tanto para acceder o especificar un elemento de la matriz necesitamos 2 números : 1 para la fila(que comunmente representamos con \"i\") y otro para la columna(que comunmente representamos con \"j\") en la que se encuentra cierto elemento.\n",
    "\n",
    "## Representación o interpretación geométrica/gráfica de una matriz\n",
    "\n",
    "**Nota** El siguiente punto no es demasiado relevante para esta parte del curso.\n",
    "\n",
    "Tal como vimos que un vector podía tener una representación geométrica como puntos en el espacio(o flechas apuntando del origen a puntos) una matriz también interpretarse de manera geométrica o gráfica ,hablaremos un poco de esto en el futuro :\n",
    "\n",
    "* **Matriz como transformación lineal**\n",
    "\n",
    "<img src=\"https://thumbs.gfycat.com/HealthyPerfectHaddock-max-1mb.gif\">\n",
    "\n",
    "<img src=\"https://thumbs.gfycat.com/SmartNearAmericancrocodile-max-1mb.gif\">\n",
    "\n",
    "## Matrices en NumPy\n",
    "\n",
    "En NumPy las matrices son(de manera similar a los vectores) son objetos del tipo **np.ndarray**, la diferencia es la forma en que estos estan organizados y por lo tanto ciertas características de los mismos. Para una matríz tenemos que:\n",
    "\n",
    "* **ndim**: el rango es igual a 2\n",
    "* **shape** : la forma o tamaño de la matriz es una **tupla de la forma (m,n)** con m siendo el número de filas y n el número de columnas. De manera similar muchas funciones  para crear matrices utilizan como parámetro una tupla para definir la forma en la que será creada.\n"
   ]
  },
  {
   "cell_type": "code",
   "execution_count": 1,
   "metadata": {},
   "outputs": [],
   "source": [
    "## Para poder utilizar numpy debemos importar el paquete, es casi un estandar de la industria importarlo bajo el alias **\"np\"**\n",
    "import numpy as np"
   ]
  },
  {
   "cell_type": "markdown",
   "metadata": {},
   "source": [
    "## Visualizacion de datos en Python\n",
    "\n",
    "Con el conocimiento que ya poseemos para trabajar con Python y Numpy, y el conocimiento de matrices podemos empezar a a estudiar un tema muy importante en ciencia de datos: **visualizacion de datos**.\n",
    "\n",
    "La visualizacion de datos es sumamente importante y tiene muchos usos, es una herramienta escencial en la fase de todo proyecto de data science conocida como **\"analisis exploratorio de datos\"**.\n",
    "\n",
    "### Analisis exploratorio de datos\n",
    "\n",
    "El analisis exploratorio de datos , tal y como su nombre indica nos permite explorar, entender, conocer y familiarizarnos con los datos,lo cual es muy recomendable en todo proyecto y se recomienda hacerlo antes de empezar a hacer pruebas de hipotesis, modelado matematico/estadistico o modelado por machine learning o cualquier otra tecnica  de ciencia de datos.\n",
    "\n",
    "<img src=\"https://cdn-images-1.medium.com/max/1200/1*vJULpN2xQfyVsvTVW-JSkA.png\">\n",
    "\n",
    "### Otros usos\n",
    "\n",
    "Ademas del analisis exploratorio de datos, la visualizacion de los mismos es muy util y aplicado en muchas otras areas:\n",
    "\n",
    "* Modelacion y simulacion: analisis del comportamiento de una variable bajo analisis a traves de simulacion.\n",
    "<img src=\"https://risk-engineering.org/static/img/large/monte-carlo-VaR.png\">\n",
    "* Curvas de aprendizaje: durante el desarrollo de un proyecto de ML es necesario evaluar el funcionamiento de un modelo de ML y su comportamiento a traves del tiempo durante el entrenamiento.\n",
    "<img src=\"https://3qeqpr26caki16dnhd19sv6by6v-wpengine.netdna-ssl.com/wp-content/uploads/2018/10/Line-Plot-of-Train-and-Test-Loss-During-Training-With-Simple-Early-Stopping.png\">\n",
    "* Comparar modelo de ML vs datos reales\n",
    "<img src=\"https://s3.amazonaws.com/stackabuse/media/linear-regression-python-scikit-learn-1.png\">\n",
    "* Visualizacion de imagenenes en proyectos de vision por computadora.\n",
    "<img src=\"https://encrypted-tbn0.gstatic.com/images?q=tbn:ANd9GcQY4FRGTsV_ugt6DyJmolPHiiaDH3lLCEaGSuh_ZN0NUjrOM_VE7Q\">\n",
    "\n",
    "\n",
    "Existen diversos paquetes para visualizacion de datos en Python,pero el mas popular, usado y conocido en la industria es: \n",
    "#### Matplotlib"
   ]
  },
  {
   "cell_type": "code",
   "execution_count": 2,
   "metadata": {},
   "outputs": [],
   "source": [
    "import matplotlib.pyplot as plt"
   ]
  },
  {
   "cell_type": "markdown",
   "metadata": {},
   "source": [
    "Veamos ahora como manipular detalles de la gráfica como:\n",
    "* Grid de las coordenadas de la gráfica.\n",
    "* Especificar manualmente los intervalos de \"x\" y \"y\" en la gráfica."
   ]
  },
  {
   "cell_type": "code",
   "execution_count": 3,
   "metadata": {},
   "outputs": [
    {
     "data": {
      "image/png": "[encoded data removed]",
      "text/plain": [
       "<Figure size 432x288 with 1 Axes>"
      ]
     },
     "metadata": {},
     "output_type": "display_data"
    }
   ],
   "source": [
    "x = np.linspace(-5,5,100)\n",
    "y = np.square(x) -2 \n",
    "\n",
    "fig = plt.figure()\n",
    "ax = fig.add_subplot(1,1,1) #creamos un canvas con  1 fila, 1 columna y devolvemos una referencia a la primera grafica\n",
    "#ax = fig.add_subplot(111) \n",
    "\n",
    "ax.grid()\n",
    "ax.set_xlim(-7,7)\n",
    "ax.set_ylim(-5,25)\n",
    "ax.plot(x,y)\n",
    "\n",
    "ax.set_xlabel('x')\n",
    "ax.set_ylabel('y')\n",
    "ax.set_title('Grafica de y = x**2 - 2')\n",
    "\n",
    "plt.show()"
   ]
  },
  {
   "cell_type": "markdown",
   "metadata": {},
   "source": [
    "Veamos ahora un caso de uso muy común en data science: **multiples curvas en una sola gráfica**"
   ]
  },
  {
   "cell_type": "code",
   "execution_count": 4,
   "metadata": {},
   "outputs": [
    {
     "data": {
      "image/png": "[encoded data removed]",
      "text/plain": [
       "<Figure size 432x288 with 1 Axes>"
      ]
     },
     "metadata": {},
     "output_type": "display_data"
    }
   ],
   "source": [
    "x = np.linspace(-5,5,100)\n",
    "y1 = np.square(x) -2 \n",
    "y2 = np.sin(x) + 2*np.cos(x)\n",
    "\n",
    "fig = plt.figure()\n",
    "ax = fig.add_subplot(1,1,1) #creamos un canvas con  1 fila, 1 columna y devolvemos una referencia a la primera grafica\n",
    "#ax = fig.add_subplot(111) \n",
    "\n",
    "ax.grid()\n",
    "ax.set_xlim(-7,7)\n",
    "ax.set_ylim(-5,25)\n",
    "\n",
    "ax.plot(x,y1,label = \"x**2 - 2 \") #\n",
    "ax.plot(x,y2,label = \"sin(x) + 2cos(x)\")\n",
    "\n",
    "ax.legend() #si no ejecutamos la función \"legend\" , no se mostraran los labels usados con plot\n",
    "ax.set_xlabel('x')\n",
    "ax.set_ylabel('y')\n",
    "ax.set_title('2 curvas en una gráfica')\n",
    "\n",
    "plt.show()"
   ]
  },
  {
   "cell_type": "markdown",
   "metadata": {},
   "source": [
    "##### Error Bars\n",
    "\n",
    "Nos hemos enfocado en 2 tipos de gráficas:\n",
    "* plots: para graficar funciones o modelos matemáticos o datos donde queremos que matplotlib una con una linea los puntos\n",
    "* scatterplots: para graficar datos colocando solo los puntos en el espacio sin lineas que los unen, algo común cuando no se conoce ninguna función o modelo para estos datos.\n",
    "\n",
    "Ahora aprenderemos otro tipo de visualización de datos muy utilizada en ciencia de datos: **Barras de error**.\n",
    "\n",
    "Usamos las barras de error en casos en los cuales conocemos el valor real, o el valor esperado ademas de valores de error o bien datos con \"ruido\" y deseamos comparar en una sola gráfica los datos correctos vs las observaciones erroreas o ruidosas.\n",
    "\n",
    "De manera resumida, nos ayudan a visualizar incerteza, variabilidad o proveer un estimado del posible error existente en los datos, por ejemplo podríamos usarlo para comparar como se desvian o cuanto error hay entre los valores generados por un modelo vs los datos reales.\n",
    "\n",
    "https://datavizcatalogue.com/methods/error_bars.html\n",
    "\n",
    "En matplotlib usamos la función **errorbar** https://matplotlib.org/api/_as_gen/matplotlib.pyplot.errorbar.html\n",
    "\n",
    "Esto significa que para cada punto (x,y) tenemos adicional al punto, un valor de error en x \"errx\" y un valor en y \"erry\", errorbar graficará el punto (x,y) junto con lineas adicionales que representan el error y que se encuentran en los intervalos:\n",
    "\n",
    "* Para x: x-errx,x+errx\n",
    "* Para y: y-erry,y+erry"
   ]
  },
  {
   "cell_type": "code",
   "execution_count": 5,
   "metadata": {},
   "outputs": [
    {
     "data": {
      "image/png": "[encoded data removed]",
      "text/plain": [
       "<Figure size 432x288 with 1 Axes>"
      ]
     },
     "metadata": {},
     "output_type": "display_data"
    }
   ],
   "source": [
    "x = np.linspace(0,4,4) \n",
    "y = np.exp(-x)\n",
    "\n",
    "x_error = 0.08*np.random.randn(len(x)) #medida del error en x\n",
    "y_error = 0.1*np.random.randn(len(y)) #medida del error en y\n",
    "\n",
    "fig = plt.figure()\n",
    "ax = fig.add_subplot(111)\n",
    "ax.errorbar(x,y,xerr=x_error,yerr=y_error,ecolor=\"r\",fmt=\"bo\",elinewidth=1)\n",
    "\n",
    "plt.show()"
   ]
  },
  {
   "cell_type": "code",
   "execution_count": 6,
   "metadata": {},
   "outputs": [
    {
     "name": "stdout",
     "output_type": "stream",
     "text": [
      "[0.         1.33333333 2.66666667 4.        ] [-0.02063521 -0.08360212  0.08264263  0.04599268]\n"
     ]
    }
   ],
   "source": [
    "print(x,x_error)"
   ]
  },
  {
   "cell_type": "code",
   "execution_count": 7,
   "metadata": {},
   "outputs": [
    {
     "name": "stdout",
     "output_type": "stream",
     "text": [
      "[0.02063521 1.41693546 2.58402403 3.95400732] [-0.02063521  1.24973121  2.7493093   4.04599268]\n"
     ]
    }
   ],
   "source": [
    "print(x-x_error,x+x_error)"
   ]
  },
  {
   "cell_type": "code",
   "execution_count": 8,
   "metadata": {},
   "outputs": [
    {
     "name": "stdout",
     "output_type": "stream",
     "text": [
      "[1.         0.26359714 0.06948345 0.01831564] [-0.00779705 -0.04439876 -0.02384965 -0.03660929]\n"
     ]
    }
   ],
   "source": [
    "print(y,y_error)"
   ]
  },
  {
   "cell_type": "code",
   "execution_count": 9,
   "metadata": {},
   "outputs": [
    {
     "name": "stdout",
     "output_type": "stream",
     "text": [
      "[1.00779705 0.30799589 0.0933331  0.05492493] [ 0.99220295  0.21919838  0.0456338  -0.01829365]\n"
     ]
    }
   ],
   "source": [
    "print(y-y_error,y+y_error)"
   ]
  },
  {
   "cell_type": "code",
   "execution_count": 10,
   "metadata": {},
   "outputs": [
    {
     "name": "stdout",
     "output_type": "stream",
     "text": [
      "El primer punto es : (0.0, 1.0) Su error en  x va de  0.020635209843329193  a  -0.020635209843329193\n"
     ]
    }
   ],
   "source": [
    "print(\"El primer punto es :\",(x[0],y[0]),\"Su error en  x va de \",x[0]-x_error[0] ,\" a \",x[0]+x_error[0])"
   ]
  },
  {
   "cell_type": "markdown",
   "metadata": {},
   "source": [
    "Mismo ejemplo pero con mas observaciones:"
   ]
  },
  {
   "cell_type": "code",
   "execution_count": 11,
   "metadata": {},
   "outputs": [
    {
     "data": {
      "image/png": "[encoded data removed]",
      "text/plain": [
       "<Figure size 432x288 with 1 Axes>"
      ]
     },
     "metadata": {},
     "output_type": "display_data"
    }
   ],
   "source": [
    "x = np.linspace(0,4,20) \n",
    "y = np.exp(-x)\n",
    "\n",
    "x_error = 0.08*np.random.randn(len(x)) #medida del error en x\n",
    "y_error = 0.1*np.random.randn(len(y)) #medida del error en y\n",
    "\n",
    "fig = plt.figure()\n",
    "ax = fig.add_subplot(111)\n",
    "ax.errorbar(x,y,xerr=x_error,yerr=y_error,ecolor=\"r\",fmt=\"bo\",elinewidth=1)\n",
    "\n",
    "plt.show()"
   ]
  },
  {
   "cell_type": "code",
   "execution_count": 12,
   "metadata": {},
   "outputs": [
    {
     "data": {
      "image/png": "[encoded data removed]",
      "text/plain": [
       "<Figure size 432x288 with 1 Axes>"
      ]
     },
     "metadata": {},
     "output_type": "display_data"
    }
   ],
   "source": [
    "x = np.linspace(-5,5,100)\n",
    "y = np.square(x-1) + 5 \n",
    "\n",
    "fig = plt.figure()\n",
    "ax = fig.add_subplot(1,1,1) #creamos un canvas con  1 fila, 1 columna y devolvemos una referencia a la primera grafica\n",
    "#ax = fig.add_subplot(111) \n",
    "\n",
    "ax.grid()\n",
    "ax.set_xlim(-7,7)\n",
    "ax.set_ylim(-5,25)\n",
    "ax.plot(x,y)\n",
    "\n",
    "ax.set_xlabel('x')\n",
    "ax.set_ylabel('y')\n",
    "ax.set_title('Grafica de y = (x-1)**2 + 5')\n",
    "\n",
    "ax.annotate(\"Punto minimo en (1,5)\",xy=(1,5),xytext=(2,0),arrowprops=dict(facecolor=\"black\",width=1))\n",
    "\n",
    "plt.show()"
   ]
  },
  {
   "cell_type": "markdown",
   "metadata": {},
   "source": [
    "##### Visualizacion de datos en mas de 2 dimensiones\n",
    "\n",
    "Comunmente los datasets con los cuales necesitamos trabajar poseen multiples dimensiones y es comun necesitar visualizar y entender como se comportan .\n",
    "\n",
    "##### Curvas de nivel(o mapas de contorno) \n",
    "\n",
    "Las curvas de nivel proveen una forma de visualizar y entender datos en 3 dimensiones a partir de visualizar como estos se comportan en el plano 2 dimensiones, esto a traves de crear curvas en el plano 2d donde el valor de z es constante(es decir el mismo) .\n",
    "\n",
    "Esto significa que las curvas de nivel son un reflejo en el plano 2d de la grafica 3d, donde para cierta curva especifica de la grafica en 2d todos todos los puntos que pertenecen a ella corresponden a un mismo valor de z.\n",
    "\n",
    "En matploblib tenemos 2 funciones para crear curvas de nivel:\n",
    "\n",
    "* contour: https://matplotlib.org/api/_as_gen/matplotlib.axes.Axes.contour.html\n",
    "* contourf(la f significa \"filled\"): https://matplotlib.org/api/_as_gen/matplotlib.axes.Axes.contourf.html\n",
    "\n",
    "<img src=\"http://image.slidesharecdn.com/superficies-140414185353-phpapp01/95/superficies-geometria-analitica-41-638.jpg?cb=1397501875\">\n",
    "\n",
    "<img src=\"https://image.isu.pub/130613213242-77d9b89bd1d7eadb40bb803cc4b0633c/jpg/page_15.jpg\">"
   ]
  },
  {
   "cell_type": "code",
   "execution_count": 13,
   "metadata": {},
   "outputs": [
    {
     "data": {
      "image/png": "[encoded data removed]",
      "text/plain": [
       "<Figure size 432x288 with 2 Axes>"
      ]
     },
     "metadata": {},
     "output_type": "display_data"
    }
   ],
   "source": [
    "xv = np.linspace(-10,10,50)\n",
    "yv = np.linspace(-10,10,50)\n",
    "\n",
    "# creamos el grid con las coordenadas en el plano x,y\n",
    "xx,yy = np.meshgrid(xv,yv)\n",
    "\n",
    "# calculamos el valor de evaluar la función z = f(x,y) sobre las coordenadas en el plano\n",
    "z = xx**2 + yy**2\n",
    "\n",
    "fig = plt.figure()\n",
    "ax = fig.add_subplot(1,1,1)\n",
    "\n",
    "curvas_nivel = ax.contour(xx,yy,z)#,3,colors=[\"b\",\"r\",\"k\"])\n",
    "#ax.clabel(curvas_nivel)\n",
    "fig.colorbar(curvas_nivel,orientation=\"vertical\")\n",
    "\n",
    "fig.suptitle(\"Curvas de nivel o mapas de contorno de la funcion \",fontsize=15)\n",
    "plt.show()"
   ]
  },
  {
   "cell_type": "code",
   "execution_count": 14,
   "metadata": {},
   "outputs": [
    {
     "data": {
      "image/png": "[encoded data removed]",
      "text/plain": [
       "<Figure size 432x288 with 2 Axes>"
      ]
     },
     "metadata": {},
     "output_type": "display_data"
    }
   ],
   "source": [
    "from mpl_toolkits.mplot3d import Axes3D\n",
    "\n",
    "\n",
    "xv = np.linspace(-10,10,50)\n",
    "yv = np.linspace(-10,10,50)\n",
    "\n",
    "# creamos el grid con las coordenadas en el plano x,y\n",
    "xx,yy = np.meshgrid(xv,yv)\n",
    "\n",
    "# calculamos el valor de evaluar la función z = f(x,y) sobre las coordenadas en el plano\n",
    "z = xx**2 + yy**2\n",
    "\n",
    "fig = plt.figure()\n",
    "ax = fig.add_subplot(1,1,1,projection='3d')\n",
    "\n",
    "ax.contour(xx,yy,z)#,3,colors=[\"b\",\"r\",\"k\"])\n",
    "#ax.clabel(curvas_nivel)\n",
    "fig.colorbar(curvas_nivel,orientation=\"vertical\")\n",
    "\n",
    "fig.suptitle(\"Curvas de nivel o mapas de contorno de la funcion \",fontsize=15)\n",
    "plt.show()"
   ]
  },
  {
   "cell_type": "code",
   "execution_count": 15,
   "metadata": {},
   "outputs": [
    {
     "data": {
      "image/png": "[encoded data removed]",
      "text/plain": [
       "<Figure size 432x288 with 2 Axes>"
      ]
     },
     "metadata": {},
     "output_type": "display_data"
    }
   ],
   "source": [
    "xv = np.linspace(-10,10,50)\n",
    "yv = np.linspace(-10,10,50)\n",
    "\n",
    "# creamos el grid con las coordenadas en el plano x,y\n",
    "xx,yy = np.meshgrid(xv,yv)\n",
    "\n",
    "# calculamos el valor de evaluar la función z = f(x,y) sobre las coordenadas en el plano\n",
    "z = xx**2 - yy**2\n",
    "\n",
    "fig = plt.figure()\n",
    "ax = fig.add_subplot(1,1,1)\n",
    "\n",
    "curvas_nivel = ax.contourf(xx,yy,z,3)#,3,colors=[\"b\",\"r\",\"k\"])\n",
    "\n",
    "fig.colorbar(curvas_nivel,orientation=\"vertical\")\n",
    "\n",
    "fig.suptitle(\"Curvas de nivel o mapas de contorno de la funcion \",fontsize=15)\n",
    "plt.show()"
   ]
  },
  {
   "cell_type": "code",
   "execution_count": 16,
   "metadata": {},
   "outputs": [
    {
     "data": {
      "image/png": "[encoded data removed]",
      "text/plain": [
       "<Figure size 432x288 with 2 Axes>"
      ]
     },
     "metadata": {},
     "output_type": "display_data"
    }
   ],
   "source": [
    "xv = np.linspace(-20,20,50)\n",
    "yv = np.linspace(-20,20,50)\n",
    "\n",
    "# creamos el grid con las coordenadas en el plano x,y\n",
    "xx,yy = np.meshgrid(xv,yv)\n",
    "\n",
    "# calculamos el valor de evaluar la función z = f(x,y) sobre las coordenadas en el plano\n",
    "z = xx**2 - yy**2\n",
    "\n",
    "fig = plt.figure()\n",
    "ax = fig.add_subplot(1,1,1,projection=\"3d\")\n",
    "\n",
    "curvas_nivel = ax.contour(xx,yy,z)#,3,colors=[\"b\",\"r\",\"k\"])\n",
    "\n",
    "fig.colorbar(curvas_nivel,orientation=\"vertical\")\n",
    "\n",
    "fig.suptitle(\"Curvas de nivel o mapas de contorno de la funcion \",fontsize=15)\n",
    "plt.show()"
   ]
  },
  {
   "cell_type": "markdown",
   "metadata": {},
   "source": [
    "###### Configurando dinamicamente nuestras graficas usando sentencias de control:\n",
    "\n",
    "Una de las ventajas de matplotlib sobre otras herramientas de visualizacion de datos con un enfoque drag-and-drop , es que podemos utilizar todas las herramientas y flexibilidad que la programacion nos da para configurar nuestras graficas de manera dinamica ,por ejemplo en el siguiente caso utilizamos un ciclo for para crear y configurar mas de una grafica de manera dinamica."
   ]
  },
  {
   "cell_type": "code",
   "execution_count": 17,
   "metadata": {},
   "outputs": [
    {
     "data": {
      "image/png": "[encoded data removed]",
      "text/plain": [
       "<Figure size 432x288 with 4 Axes>"
      ]
     },
     "metadata": {},
     "output_type": "display_data"
    }
   ],
   "source": [
    "xv = np.linspace(-10,10,50)\n",
    "yv = np.linspace(-10,10,50)\n",
    "\n",
    "# creamos el grid con las coordenadas en el plano x,y\n",
    "xx,yy = np.meshgrid(xv,yv)\n",
    "\n",
    "# calculamos el valor de evaluar la función z = f(x,y) sobre las coordenadas en el plano\n",
    "z = xx**2 - yy**2\n",
    "\n",
    "fig = plt.figure()\n",
    "\n",
    "for i in range(1,5):\n",
    "    ax = fig.add_subplot(2,2,i)\n",
    "    curvas_nivel = ax.contour(xx,yy,z,i)\n",
    "\n",
    "fig.suptitle(\"Curvas de nivel o mapas de contorno de la funcion \",fontsize=15)\n",
    "plt.show()"
   ]
  },
  {
   "cell_type": "markdown",
   "metadata": {},
   "source": [
    "### ufuncs(universal functions)\n",
    "\n",
    "Ufuncs son funciones que trabajan de manera general independiente de la dimension del objeto al que sean aplicadas, esto significa que la misma función puede ser utilizada sobre valores **escalares**  o sobre **tensores** de cualquier dimensión, en este caso sobre matrices. Cuando es aplicada sobre tensores esta trabaja elemento por elemento soportando \"broadcasting\" .\n",
    "\n",
    "NumPy provee una gran colección de ufuncs comunes en ciencias y que serán muy útiles en data science, ya hemos usado algunas por ejemplo: **np.sin(tensor)** , muchas comunes y que te serán familares son:\n",
    "\n",
    "* np.sign: determinar el signo de un número\n",
    "* np.abs: valor absoluto de un número\n",
    "* np.cos: coseno de un angulo en radianes\n",
    "* np.sin : seno de un angulo en radianes\n",
    "* np.tan : tangente de un angulo en radianes\n",
    "* np.exp : función exponencial e** x\n",
    "* np.log: logaritmo natural\n",
    "* np.log10 : logaritmo base 10\n",
    "* np.log2 : logaritmo base 2\n",
    "* np.sqrt : raiz cuadrada\n",
    "* np.power : potenciacion\n",
    "\n",
    "Al ser aplicadas sobre matrices , las ufuncs obtienen como resultado una matriz con la misma forma de la matriz sobre la que se ejecuta la función resultado de aplicar la función elemento por elemento.\n",
    "\n",
    "Al trabajar una aplicación numérica/científica es recomendable tener a la mano la documentación de las funciones disponibles : https://docs.scipy.org/doc/numpy-1.15.1/reference/routines.math.html\n",
    "\n",
    "#### Nota: \n",
    "En algunos casos requeriremos crear nuestras propias funciones y es recomendable que se apeguen a las ufuncs, es decir que se puedan aplicar independiente de la dimensión del objeto al que se aplican, que soporten broadcasting y muy importante **que su definición evite ciclos y use operaciones vectorizadas y otras ufuncs** , esto será parte de los criterios de evaluación en tareas y exámenes en este curso."
   ]
  },
  {
   "cell_type": "code",
   "execution_count": 18,
   "metadata": {},
   "outputs": [
    {
     "name": "stdout",
     "output_type": "stream",
     "text": [
      "Signo:\n",
      "[[ 1  1  1  1]\n",
      " [ 1  1  1  1]\n",
      " [-1 -1 -1 -1]]\n",
      "Valor absoluto:\n",
      "[[1 2 3 4]\n",
      " [5 6 7 8]\n",
      " [1 2 3 4]]\n",
      "Coseno:\n",
      "[[ 0.54030231 -0.41614684 -0.9899925  -0.65364362]\n",
      " [ 0.28366219  0.96017029  0.75390225 -0.14550003]\n",
      " [ 0.54030231 -0.41614684 -0.9899925  -0.65364362]]\n",
      "Seno:\n",
      "[[ 0.84147098  0.90929743  0.14112001 -0.7568025 ]\n",
      " [-0.95892427 -0.2794155   0.6569866   0.98935825]\n",
      " [-0.84147098 -0.90929743 -0.14112001  0.7568025 ]]\n",
      "Tangente:\n",
      "[[ 1.55740772 -2.18503986 -0.14254654  1.15782128]\n",
      " [-3.38051501 -0.29100619  0.87144798 -6.79971146]\n",
      " [-1.55740772  2.18503986  0.14254654 -1.15782128]]\n",
      "Exponencial:\n",
      "[[2.71828183e+00 7.38905610e+00 2.00855369e+01 5.45981500e+01]\n",
      " [1.48413159e+02 4.03428793e+02 1.09663316e+03 2.98095799e+03]\n",
      " [3.67879441e-01 1.35335283e-01 4.97870684e-02 1.83156389e-02]]\n",
      "Logaritmo natural:\n",
      "[[0.         0.69314718 1.09861229 1.38629436]\n",
      " [1.60943791 1.79175947 1.94591015 2.07944154]\n",
      " [       nan        nan        nan        nan]]\n"
     ]
    },
    {
     "name": "stderr",
     "output_type": "stream",
     "text": [
      "C:\\Users\\jmeono\\AppData\\Local\\Continuum\\anaconda3\\lib\\site-packages\\ipykernel_launcher.py:16: RuntimeWarning: invalid value encountered in log\n",
      "  app.launch_new_instance()\n"
     ]
    }
   ],
   "source": [
    "x = np.matrix([[1,2,3,4],[5,6,7,8],[-1,-2,-3,-4]])\n",
    "\n",
    "print(\"Signo:\")\n",
    "print(np.sign(x))\n",
    "print(\"Valor absoluto:\")\n",
    "print(np.abs(x))\n",
    "print(\"Coseno:\")\n",
    "print(np.cos(x))\n",
    "print(\"Seno:\")\n",
    "print(np.sin(x))\n",
    "print(\"Tangente:\")\n",
    "print(np.tan(x))\n",
    "print(\"Exponencial:\")\n",
    "print(np.exp(x))\n",
    "print(\"Logaritmo natural:\")\n",
    "print(np.log(x))"
   ]
  },
  {
   "cell_type": "code",
   "execution_count": 19,
   "metadata": {},
   "outputs": [
    {
     "name": "stdout",
     "output_type": "stream",
     "text": [
      "Logaritmo base 2:\n",
      "[[0.         1.         1.5849625  2.        ]\n",
      " [2.32192809 2.5849625  2.80735492 3.        ]\n",
      " [       nan        nan        nan        nan]]\n"
     ]
    },
    {
     "name": "stderr",
     "output_type": "stream",
     "text": [
      "C:\\Users\\jmeono\\AppData\\Local\\Continuum\\anaconda3\\lib\\site-packages\\ipykernel_launcher.py:2: RuntimeWarning: invalid value encountered in log2\n",
      "  \n"
     ]
    }
   ],
   "source": [
    "print(\"Logaritmo base 2:\")\n",
    "print(np.log2(x))"
   ]
  },
  {
   "cell_type": "code",
   "execution_count": 20,
   "metadata": {},
   "outputs": [
    {
     "name": "stdout",
     "output_type": "stream",
     "text": [
      "Raiz cuadrada:\n",
      "[[1.         1.41421356 1.73205081 2.        ]\n",
      " [2.23606798 2.44948974 2.64575131 2.82842712]\n",
      " [       nan        nan        nan        nan]]\n"
     ]
    },
    {
     "name": "stderr",
     "output_type": "stream",
     "text": [
      "C:\\Users\\jmeono\\AppData\\Local\\Continuum\\anaconda3\\lib\\site-packages\\ipykernel_launcher.py:2: RuntimeWarning: invalid value encountered in sqrt\n",
      "  \n"
     ]
    }
   ],
   "source": [
    "print(\"Raiz cuadrada:\")\n",
    "print(np.sqrt(x))"
   ]
  },
  {
   "cell_type": "code",
   "execution_count": 21,
   "metadata": {},
   "outputs": [
    {
     "name": "stdout",
     "output_type": "stream",
     "text": [
      "Exponenciacion(cuadrado):\n",
      "[[ 1  4  9 16]\n",
      " [25 36 49 64]\n",
      " [ 1  4  9 16]]\n"
     ]
    }
   ],
   "source": [
    "print(\"Exponenciacion(cuadrado):\")\n",
    "print(np.power(x,2))"
   ]
  },
  {
   "cell_type": "markdown",
   "metadata": {},
   "source": [
    "#### Nota: \n",
    "En algunos casos requeriremos crear nuestras propias funciones y es recomendable que se apeguen a las ufuncs, es decir que se puedan aplicar independiente de la dimensión del objeto al que se aplican, que soporten broadcasting y muy importante **que su definición evite ciclos y use operaciones vectorizadas y otras ufuncs** , esto será parte de los criterios de evaluación en tareas y exámenes en este curso."
   ]
  },
  {
   "cell_type": "markdown",
   "metadata": {},
   "source": [
    "## Operaciones , Aritmetica  y Algebra Matricial\n",
    "\n",
    "Similar al caso de vectores, cuando trabajamos con matrices hay algunas operaciones existentes tanto en matematica, como en NumPy y tambien algunas aplicaciones que no estan definidas matematicamente pero que si estan definidas en NumPy para facilitar la programacion y realizar operaciones que pueden resultar utiles al crear programas para analisis de datos o procesamiento de estos,una operacion en especial necesita especial atencion : **multiplicacion matricial** \n",
    "\n",
    "### Aritmetica elemento por elemento\n",
    "\n",
    "La aritmetica elemento por elemento es el tipo de operacion mas simple entre 2 matrices(del mismo tamanio) ,utiliza los operadores  aritmeticos ya conocidos +,-,*,/, % y el resultado como es de esperarse consiste en aplicar la operacion aritmetica entre elementos correspondientes de ambas matrices.\n",
    "\n",
    "Matematicamente solo **estan definidas la  suma y resta de matrices** y el resultado es el mismo obtenido por NumPy.\n",
    "\n",
    "<img src=\"https://www.unilim.fr/pages_perso/jean.debord/math/matrices/addsub.gif\">"
   ]
  },
  {
   "cell_type": "code",
   "execution_count": 22,
   "metadata": {},
   "outputs": [
    {
     "name": "stdout",
     "output_type": "stream",
     "text": [
      "[[ 3 -5]\n",
      " [ 5  1]]\n",
      "[[2 1]\n",
      " [8 9]]\n",
      "v+w:\n",
      "[[ 5 -4]\n",
      " [13 10]]\n"
     ]
    }
   ],
   "source": [
    "v = np.array([[3,-5],[5,1]])\n",
    "w = np.array([[2,1],[8,9]])\n",
    "\n",
    "c = v + w #operacion si definida matematicamente\n",
    "\n",
    "print(v)\n",
    "print(w)\n",
    "\n",
    "print(\"v+w:\")\n",
    "print(c)"
   ]
  },
  {
   "cell_type": "code",
   "execution_count": 23,
   "metadata": {},
   "outputs": [
    {
     "name": "stdout",
     "output_type": "stream",
     "text": [
      "[[ 3 -5]\n",
      " [ 5  1]]\n",
      "[[2 1]\n",
      " [8 9]]\n",
      "v-w:\n",
      "[[ 1 -6]\n",
      " [-3 -8]]\n"
     ]
    }
   ],
   "source": [
    "v = np.array([[3,-5],[5,1]])\n",
    "w = np.array([[2,1],[8,9]])\n",
    "\n",
    "c = v - w #operacion si definida matematicamente\n",
    "\n",
    "print(v)\n",
    "print(w)\n",
    "\n",
    "print(\"v-w:\")\n",
    "print(c)"
   ]
  },
  {
   "cell_type": "markdown",
   "metadata": {},
   "source": [
    "**Producto Hadamard**\n",
    "\n",
    "La multiplicación o producto elemento por elemento entre 2 matrices del mismo tamaño(no confundir con multiplicación matricial) tiene un nombre especial  de \"producto Hadamard\".\n",
    "\n",
    "<img src=\"https://upload.wikimedia.org/wikipedia/commons/thumb/0/00/Hadamard_product_qtl1.svg/220px-Hadamard_product_qtl1.svg.png\">"
   ]
  },
  {
   "cell_type": "code",
   "execution_count": 24,
   "metadata": {},
   "outputs": [
    {
     "name": "stdout",
     "output_type": "stream",
     "text": [
      "[[ 3 -5]\n",
      " [ 5  1]]\n",
      "[[2 1]\n",
      " [8 9]]\n",
      "v o w:\n",
      "[[ 6 -5]\n",
      " [40  9]]\n"
     ]
    }
   ],
   "source": [
    "v = np.array([[3,-5],[5,1]])\n",
    "w = np.array([[2,1],[8,9]])\n",
    "\n",
    "c = v * w # operacion no definida en algebra lineal pero si en mate como \"Producto hadamard\" , elemento por elemento.\n",
    "\n",
    "print(v)\n",
    "print(w)\n",
    "\n",
    "print(\"v o w:\")\n",
    "print(c)"
   ]
  },
  {
   "cell_type": "code",
   "execution_count": 25,
   "metadata": {},
   "outputs": [
    {
     "name": "stdout",
     "output_type": "stream",
     "text": [
      "[[ 3 -5]\n",
      " [ 5  1]]\n",
      "[[2 1]\n",
      " [8 9]]\n",
      "v/w:\n",
      "[[ 1.5        -5.        ]\n",
      " [ 0.625       0.11111111]]\n"
     ]
    }
   ],
   "source": [
    "v = np.array([[3,-5],[5,1]])\n",
    "w = np.array([[2,1],[8,9]])\n",
    "\n",
    "c = v / w # operacion no definida matematicamente\n",
    "\n",
    "print(v)\n",
    "print(w)\n",
    "\n",
    "print(\"v/w:\")\n",
    "print(c)"
   ]
  },
  {
   "cell_type": "code",
   "execution_count": 26,
   "metadata": {},
   "outputs": [
    {
     "name": "stdout",
     "output_type": "stream",
     "text": [
      "[[ 3 -5]\n",
      " [ 5  1]]\n",
      "[[2 1]\n",
      " [8 9]]\n",
      "v%w:\n",
      "[[1 0]\n",
      " [5 1]]\n"
     ]
    }
   ],
   "source": [
    "v = np.array([[3,-5],[5,1]])\n",
    "w = np.array([[2,1],[8,9]])\n",
    "\n",
    "c = v % w\n",
    "\n",
    "print(v)\n",
    "print(w)\n",
    "\n",
    "print(\"v%w:\")\n",
    "print(c)"
   ]
  },
  {
   "cell_type": "markdown",
   "metadata": {},
   "source": [
    "### Multiplicacion de matriz por escalar\n",
    "\n",
    "Otra operacion comun que si esta definida matematicamente es la multiplicacion de una matriz por un escalar(o visceversa)  sintacticamente se logra al aplicar el operador \"*\" entre un escalar y una matriz y el resultado consiste en multiplicar cada elemento de la matriz por ese escalar.\n",
    "\n",
    "<img src=\"https://lh5.googleusercontent.com/-2ugN4HFUxlk/TYlR2fRec5I/AAAAAAAAAEk/HXbZycUcU2o/s1600/Sin+t%25C3%25ADtulo1.png\">\n"
   ]
  },
  {
   "cell_type": "code",
   "execution_count": 27,
   "metadata": {},
   "outputs": [
    {
     "name": "stdout",
     "output_type": "stream",
     "text": [
      "Matriz original:\n",
      "[[ 3 -5]\n",
      " [ 5  1]]\n",
      "Matriz multiplicada por 2:\n",
      "[[  6 -10]\n",
      " [ 10   2]]\n"
     ]
    }
   ],
   "source": [
    "print(\"Matriz original:\")\n",
    "print(v)\n",
    "print(\"Matriz multiplicada por 2:\")\n",
    "\n",
    "multiplicacion_matriz_escalar = 2*v\n",
    "print(multiplicacion_matriz_escalar)"
   ]
  },
  {
   "cell_type": "markdown",
   "metadata": {},
   "source": [
    "**Nota**: este es un ejemplo de \"broadcasting\" , tema a tratar con mayor detalle mas adelante, el codigo anterior es equivalente a el siguiente codigo."
   ]
  },
  {
   "cell_type": "code",
   "execution_count": 28,
   "metadata": {},
   "outputs": [
    {
     "name": "stdout",
     "output_type": "stream",
     "text": [
      "[[ 3 -5]\n",
      " [ 5  1]]\n",
      "\n",
      "[[2 2]\n",
      " [2 2]]\n",
      "\n",
      "[[  6 -10]\n",
      " [ 10   2]]\n"
     ]
    }
   ],
   "source": [
    "matriz_dos = np.full((v.shape),2) # crear una matriz con la misma forma de v inicializad con el numero 2\n",
    "multiplicacion_matriz_escalar = matriz_dos*v  # aplicar multiplicacion elemento por elemento\n",
    "\n",
    "print(v)\n",
    "print(\"\")\n",
    "print(matriz_dos)\n",
    "print(\"\")\n",
    "print(multiplicacion_matriz_escalar)"
   ]
  },
  {
   "cell_type": "markdown",
   "metadata": {},
   "source": [
    "Podemos crear expresiones  que combinen mas de 1 operacion matricial, solo debemos recordar tener precaucion de que las dimensiones y formas de las matrices y/o vectores."
   ]
  },
  {
   "cell_type": "code",
   "execution_count": 29,
   "metadata": {},
   "outputs": [
    {
     "name": "stdout",
     "output_type": "stream",
     "text": [
      "[[8.5 8.5 8.5]\n",
      " [8.5 8.5 8.5]\n",
      " [8.5 8.5 8.5]]\n"
     ]
    }
   ],
   "source": [
    "A = np.full((3,3),7) #7\n",
    "B = np.ones_like(A) # 1\n",
    "C = np.full((A.shape),2) #2\n",
    "\n",
    "c = 1.5 \n",
    "\n",
    "D = c*A  + B - c*C #1.5(7) + 1  - 1.5(2)\n",
    "\n",
    "print(D)"
   ]
  },
  {
   "cell_type": "code",
   "execution_count": 30,
   "metadata": {},
   "outputs": [
    {
     "name": "stdout",
     "output_type": "stream",
     "text": [
      "[[ 7.   7.   7. ]\n",
      " [15.5 15.5 15.5]\n",
      " [ 8.5  8.5  8.5]]\n"
     ]
    }
   ],
   "source": [
    "A = np.full((3,3),7) #7\n",
    "A[0] = 6 #cambiamos la primera fila de A para almacenar el valor 6, el resto se queda igual\n",
    "B = np.ones_like(A) # 1\n",
    "B[1] = A[0] + 2 # La segunda fila de B almacenara el valor de la primera de A + 2 ,es decir 8\n",
    "C = np.full((A.shape),2) #2\n",
    "\n",
    "c = 1.5 \n",
    "\n",
    "D = c*A  + B - c*C \n",
    "\n",
    "print(D)"
   ]
  },
  {
   "cell_type": "code",
   "execution_count": 31,
   "metadata": {},
   "outputs": [
    {
     "name": "stdout",
     "output_type": "stream",
     "text": [
      "[[ 1 -6]\n",
      " [-3 -8]]\n",
      "[[ 6 -5]\n",
      " [40  9]]\n",
      "[[ 1.5        -5.        ]\n",
      " [ 0.625       0.11111111]]\n",
      "[[1 0]\n",
      " [5 1]]\n"
     ]
    }
   ],
   "source": [
    "v = np.array([[3,-5],[5,1]])\n",
    "w = np.array([[2,1],[8,9]])\n",
    "\n",
    "resta = v - w\n",
    "multiplicacion = v*w\n",
    "division = v/w\n",
    "div_mod = v%w\n",
    "\n",
    "print(resta)\n",
    "print(multiplicacion)\n",
    "print(division)\n",
    "print(div_mod)"
   ]
  },
  {
   "cell_type": "markdown",
   "metadata": {},
   "source": [
    "Los operadores +=,-=,*=,/=,%=  , también son validos en vectores con NumPy y son mas eficientes, por ejemplo:\n",
    "\n",
    "a+=b\n",
    "\n",
    "Es mas eficiente que\n",
    "\n",
    "a = a + b\n",
    "\n",
    "Por lo tanto se recomienda usarlos siempre que sea posible :"
   ]
  },
  {
   "cell_type": "code",
   "execution_count": 32,
   "metadata": {},
   "outputs": [
    {
     "name": "stdout",
     "output_type": "stream",
     "text": [
      "[[  9 -15]\n",
      " [ 15   3]]\n"
     ]
    }
   ],
   "source": [
    "v*=3\n",
    "\n",
    "print(v)"
   ]
  },
  {
   "cell_type": "markdown",
   "metadata": {},
   "source": [
    "### Multiplicación Matricial \n",
    "\n",
    "Una de las operaciones mas importantes tanto en matemáticas como en ciencias de la computación y ciencia de datos y también una de las mas comunes es la multiplicación matricial, que podemos conceptualizar de 2 maneras:\n",
    "\n",
    "* **Matriz por vector**\n",
    "* **Matriz por matriz**\n",
    "\n",
    "Esta es una operación sumamente utilizada e importante y es diferente de las que hasta ahora habiamos visto: **operaciones elemento por elemento** por lo cual NO ES IGUAL QUE EL PRODUCTO HADAMARD.\n",
    "\n",
    "El producto matricial **AxB** solo esta definido para pares de matrices que cumplen con la propiedad de que el número de columnas de A sea igual que el número de filas de B. El resultado es una nueva matriz cuyo numero de filas es igual al número de filas de A y el número de columnas es igual al número de columnas de B\n",
    "\n",
    "<img src=\"https://www.geogebra.org/resource/jyFms9hh/gWfr05GxoKt6c3JS/material-jyFms9hh.png\">\n",
    "\n",
    "La forma de calcular la multiplicación matricial AxB se basa en el producto punto, para la matriz de resultado C el elemento en la fila \"i\" y columna \"j\" consiste en el producto punto entre la fila \"i\" de A y la columna \"j\" de B.\n",
    "\n",
    "Por lo cual contrario a lo que muchos creen, la multiplicación matricial **NO ES LO MISMO QUE EL PRODUCTO PUNTO** pero si lo utiliza ,la matriz resultante es una matriz de productos punto.\n",
    "\n",
    "<img src=\"https://www.mathsisfun.com/algebra/images/matrix-multiply-a.svg\">"
   ]
  },
  {
   "cell_type": "code",
   "execution_count": 33,
   "metadata": {},
   "outputs": [
    {
     "data": {
      "text/plain": [
       "array([[ 5],\n",
       "       [11]])"
      ]
     },
     "execution_count": 33,
     "metadata": {},
     "output_type": "execute_result"
    }
   ],
   "source": [
    "A = np.array([[1,2],   #matriz 2x2\n",
    "              [3,4]])\n",
    "B = np.array([[1],    # vector 2x1\n",
    "              [2]])\n",
    "\n",
    "np.matmul(A,B) #numero de cols de A debe ser igual al numero de filas de B ,resultado 2x1"
   ]
  },
  {
   "cell_type": "code",
   "execution_count": 34,
   "metadata": {},
   "outputs": [
    {
     "data": {
      "text/plain": [
       "array([[ 1, 12,  7],\n",
       "       [ 4, 33, 22],\n",
       "       [ 7, 54, 37]])"
      ]
     },
     "execution_count": 34,
     "metadata": {},
     "output_type": "execute_result"
    }
   ],
   "source": [
    "A = np.array([[1,2], #matriz de 3x2\n",
    "              [4,5],\n",
    "              [7,8]])\n",
    "B = np.array([[1,2,3], #matriz de 2x3\n",
    "              [0,5,2]])\n",
    "\n",
    "np.matmul(A,B) #resutlado de 3x3"
   ]
  },
  {
   "cell_type": "code",
   "execution_count": 35,
   "metadata": {},
   "outputs": [
    {
     "name": "stdout",
     "output_type": "stream",
     "text": [
      "[[ 58  64]\n",
      " [139 154]]\n"
     ]
    }
   ],
   "source": [
    "A = np.array([[1,2,3], #matriz 2x3\n",
    "              [4,5,6]])\n",
    "B = np.array([[7,8],  #matriz 3x2\n",
    "              [9,10],\n",
    "              [11,12]])\n",
    "C = np.matmul(A,B) #matriz de resultado 2x2\n",
    "\n",
    "print(C)"
   ]
  },
  {
   "cell_type": "markdown",
   "metadata": {},
   "source": [
    "\n",
    "\n",
    "**Ejemplo en DS** : en inteligencia artificial y ML en la sub-rama \"reinforcement learning\" la \"ecuacion de bellman\" puede aplicarse de manera vectorizada a traves del operar vectores, matrices y escalares en una sola expresion.\n",
    "\n",
    "<img src=\"https://rebornhugo.github.io/assets/images/post_images/%E5%BC%BA%E5%8C%96%E5%AD%A6%E4%B9%A02/bellman%20equation2.PNG\">\n",
    "\n",
    "* n = numero de estados del sistema.\n",
    "* V(s) = vector que representa el valor esperado para cierto estado\n",
    "* R = recompensa inmediata percibida por el agente al salir de cierto estado.(vector)\n",
    "* P = matriz de transicion de la cadena de Markov sub-yacente.(matriz)\n",
    "* γ = factor de descuento de recompensas futuras(escalar)\n",
    "\n",
    "Calcular V(s) para el siguiente sistema aplicando la ecuación de bellman de manera vectorizada."
   ]
  },
  {
   "cell_type": "code",
   "execution_count": 43,
   "metadata": {},
   "outputs": [
    {
     "name": "stdout",
     "output_type": "stream",
     "text": [
      "[0 0 0]\n",
      "(3,)\n",
      "[10  2  5]\n",
      "(3,)\n",
      "[[0.5  0.25 0.25]\n",
      " [0.2  0.4  0.4 ]\n",
      " [0.8  0.1  0.1 ]]\n",
      "(3, 3)\n",
      "[[0.495  0.2475 0.2475]\n",
      " [0.198  0.396  0.396 ]\n",
      " [0.792  0.099  0.099 ]]\n",
      "[0. 0. 0.]\n",
      "[10.  2.  5.]\n"
     ]
    }
   ],
   "source": [
    "V = np.array([0,0,0]) # valor inicial de V(s)\n",
    "R = np.array([10,2,5]) # vector de recompensas\n",
    "P = np.array([[0.5,0.25,0.25],\n",
    "              [0.2,0.40,0.40],\n",
    "              [0.80,0.10,0.10]])  # matriz de transición\n",
    "gamma = 0.99\n",
    "\n",
    "print(V)\n",
    "print(V.shape)\n",
    "print(R)\n",
    "print(R.shape)\n",
    "print(P)\n",
    "print(P.shape)\n",
    "\n",
    "op1 = gamma * P\n",
    "print(op1)\n",
    "\n",
    "op2 = np.matmul(op1,V)\n",
    "print(op2)\n",
    "\n",
    "\n",
    "op3 = op2 + R\n",
    "print(op3)\n",
    "\n"
   ]
  },
  {
   "cell_type": "markdown",
   "metadata": {},
   "source": [
    "**Ejercicio aplicado en DS**\n",
    "Se tiene una red neuronal sencilla(y simplificada) como la de la siguiente imagen:\n",
    "<img src=\"https://www.oreilly.com/library/view/practical-convolutional-neural/9781788392303/assets/246151fb-7893-448d-b9bb-7a87b387a24b.png\">\n",
    "\n",
    "Donde:\n",
    "* INPUT LAYER: un vector X de tamaño = 2 que representa los datos de entrada\n",
    "* HIDDEN_LAYER :capa oculta con 2 neuronas definidas por los vectores:\n",
    "    * HL1 = [0.25,0.37]\n",
    "    * HL2 = [-8,14]\n",
    "* OUTPUT_LAYER = capa de salida definida por el vector [4,9]\n",
    "\n",
    "Crear una funcion neural_network(X) para calcular:\n",
    "* Calcule la salida de cada neurona en la capa intermedia aplicada a la capa de entrada.\n",
    "* Use el resultado del paso anterior como entrada para la neurona en la capa de salida\n",
    "\n",
    "Utilizando multiplicacion de matrices se debe calcular para cada fila de la matriz de entrada X el valor de las neuronas de la capa intermedia, esto producira una nueva matriz con el mismo numero de filas que X y 2 columnas(1 para cada neurona) , a  los valores de esta matriz se les debe aplicar la funcion \"sigmoid\"(descrita a continuacion) para limitarlos al intervalo de 0 a 1, esto produce una matriz del mismo tamanio pero con valores entre 0 a 1, esta matriz se multiplica matricialmente por la matriz que representa los pesos de la capa de salida  y este proceso produce un nuevo tensor al cual se debe aplicar nuevamente la funcion sigmoid. El resultado debe ser un tensor con el mismo numero de filas que la matriz X y una sola columna(una prediccion para cada fila de X\n",
    "\n",
    "<img src=\"https://cdn-images-1.medium.com/max/1600/1*Xu7B5y9gp0iL5ooBj7LtWw.png\">"
   ]
  },
  {
   "cell_type": "code",
   "execution_count": 79,
   "metadata": {},
   "outputs": [],
   "source": [
    "def sigmoid(x): #convertir los valores de x al rango de 0 a 1\n",
    "    \n",
    "    return 1/(1+np.exp(x))"
   ]
  },
  {
   "cell_type": "code",
   "execution_count": 80,
   "metadata": {},
   "outputs": [
    {
     "name": "stdout",
     "output_type": "stream",
     "text": [
      "[[ 0.25 -8.  ]\n",
      " [ 0.37 14.  ]]\n",
      "(2, 2)\n",
      "[[0.1 0.2]\n",
      " [1.  2. ]]\n",
      "(2, 2)\n",
      "[[0.04861868]\n",
      " [0.25281623]]\n",
      "(2, 1)\n"
     ]
    }
   ],
   "source": [
    "H1_W = np.array([[0.25,-8],\n",
    "                 [0.37,14]])\n",
    "OL_W = np.array([[4],[9]])\n",
    "\n",
    "X =  np.array([[0.1,0.2],\n",
    "               [1,2]])\n",
    "\n",
    "H1 = np.matmul(X,H1_W)\n",
    "H1 = sigmoid(H1)  # funcion de activacion: convertir a valores en el intervalo de 0 a 1\n",
    "OL = np.matmul(H1,OL_W)\n",
    "OL = sigmoid(OL)  # funcion de activacion: convertir a valores en el intervalo de 0 a 1\n",
    "\n",
    "print(H1_W)\n",
    "print(H1_W.shape)\n",
    "\n",
    "print(X)\n",
    "print(X.shape)\n",
    "\n",
    "print(OL)\n",
    "print(OL.shape)"
   ]
  },
  {
   "cell_type": "markdown",
   "metadata": {},
   "source": [
    "### Ejercicio \n",
    "\n",
    "Implementar en una funcion neural_network(X) la red neuronal definida por la siguiente arquitectura:\n",
    "\n",
    "<img src=\"http://i.imgur.com/UNlffE1.png\">\n",
    "\n",
    "Podemos validar si fue correctamente implementada si usamos como entrada el vector x=[1,1] . Debemos obtener el resultado mostrado en la imagen.\n",
    "\n",
    "Una vez tenemos la implementacion correcta, cambiar la funcion de activacion de la capa de salida por la funcion de activacion ReLu(https://en.wikipedia.org/wiki/Rectifier_(neural_networks)):\n",
    "\n",
    "<img src=\"https://cdn-images-1.medium.com/max/1600/1*DfMRHwxY1gyyDmrIAd-gjQ.png\">\n",
    "\n",
    "Luego evaluar la red neuronal sobre la matriz de datos X(de manera vectorizada):"
   ]
  },
  {
   "cell_type": "code",
   "execution_count": 84,
   "metadata": {},
   "outputs": [
    {
     "name": "stdout",
     "output_type": "stream",
     "text": [
      "[[1 1]]\n",
      "(1, 2)\n",
      "Neurona inicial [[1.0e-01 2.0e+00]\n",
      " [3.0e-01 4.5e-01]\n",
      " [5.0e+00 9.0e+00]\n",
      " [1.2e+01 6.0e+00]\n",
      " [7.0e+00 5.0e+00]\n",
      " [3.0e-01 8.0e-01]\n",
      " [1.2e+01 5.0e+00]\n",
      " [1.0e+02 2.0e+02]\n",
      " [7.0e+00 8.0e+00]\n",
      " [3.0e+02 1.5e+03]]\n",
      "(10, 2)\n",
      "capa intermedia [[0.712 0.355 0.268]\n",
      " [0.112 0.855 0.468]]\n",
      "Neurona intermedia [[0.824 1.21  0.736]]\n",
      "capa final [[0.116]\n",
      " [0.329]\n",
      " [0.708]]\n",
      "Neurona final [[1.014762]]\n"
     ]
    }
   ],
   "source": [
    "X = np.array([\n",
    "    [0.1,2],\n",
    "    [0.3,0.45],\n",
    "    [5,9],\n",
    "    [12,6],\n",
    "    [7,5],\n",
    "    [0.3,0.8],\n",
    "    [12,5],\n",
    "    [100,200],\n",
    "    [7,8],\n",
    "    [300,1500]])\n",
    "\n",
    "x = np.array([[1,1]])\n",
    "\n",
    "intermedia = np.array([[0.712,0.355,0.268],\n",
    "                       [0.112,0.855,0.468]])\n",
    "\n",
    "final = np.array([[0.116],\n",
    "                  [0.329],\n",
    "                  [0.708]])\n",
    "\n",
    "print(x)\n",
    "print(x.shape)\n",
    "\n",
    "print(\"Neurona inicial\",\n",
    "      X)\n",
    "print(X.shape)\n",
    "\n",
    "print(\"capa intermedia\",\n",
    "      intermedia)\n",
    "\n",
    "paso1 = np.matmul(x,intermedia)\n",
    "#paso1 = sigmoid(paso1)  # funcion de activacion: convertir a valores en el intervalo de 0 a 1\n",
    "\n",
    "print(\"Neurona intermedia\",\n",
    "      paso1)\n",
    "\n",
    "print(\"capa final\",\n",
    "      final)\n",
    "\n",
    "paso2 = np.matmul(paso1,final)\n",
    "#paso2 = sigmoid(paso2)  # funcion de activacion: convertir a valores en el intervalo de 0 a 1\n",
    "\n",
    "print(\"Neurona final\",\n",
    "      paso2)\n",
    "\n"
   ]
  },
  {
   "cell_type": "markdown",
   "metadata": {},
   "source": [
    "### Broadcasting\n",
    "\n",
    "Python utiliza un mecanismo conocido como **\"broadcasting\"** para algunas operaciones cuando el tamaño de los operandos no coincide, por ejemplo el caso de una suma entre una matriz y un vector, broadcasting \"expande\"(siempre que sea posible) el vector para que tenga la misma forma que la matriz replicando el vector cuantas veces sea necesario para tener la misma forma y luego aplica la operacion **\"elementwise\"** (elemento a elemento).\n",
    "\n",
    "Para cuando se trabaja con matrices y una matriz A se opera con algún vector B broadcasting busca replicar o copiar el vector las veces que sea necesario para obtener una matriz del mismo tamaño , por ejemplo si se tiene una matriz de tamaño 4x5 , y un vector de 4 elementos, broadcasting creará una matriz que consiste en copiar el vector de 4 elementos 5 veces.\n",
    "\n",
    "Broadcasting no funciona en casos donde las dimensiones no son compatibles, por ejemplo para el caso anterior, broadcasting no  hubiera funcionado si el vector tuviera 3 elementos y hubiera resultado en un error: **operands could not be broadcast together with shapes ... **\n",
    "\n",
    "* https://www.youtube.com/watch?v=YrOrAcMjFB4\n",
    "* https://docs.scipy.org/doc/numpy/user/basics.broadcasting.html"
   ]
  },
  {
   "cell_type": "code",
   "execution_count": 40,
   "metadata": {
    "collapsed": true
   },
   "outputs": [],
   "source": [
    "matriz = np.array([[1,2,3,10],  #matriz de 3x4\n",
    "                   [4,5,6,11],\n",
    "                   [7,8,9,12]])\n",
    "colum_vector = np.array(  # vector orientado columnarmente\n",
    "                  [1,\n",
    "                   2,\n",
    "                   3]).reshape((3,1))\n",
    "row_vector = np.array([1,2,3,4]).reshape((1,4)) # vector orientado por filas"
   ]
  },
  {
   "cell_type": "code",
   "execution_count": 41,
   "metadata": {},
   "outputs": [
    {
     "name": "stdout",
     "output_type": "stream",
     "text": [
      "(3, 4)\n",
      "(3, 1)\n",
      "(1, 4)\n"
     ]
    }
   ],
   "source": [
    "print(matriz.shape)\n",
    "print(colum_vector.shape)\n",
    "print(row_vector.shape)"
   ]
  },
  {
   "cell_type": "code",
   "execution_count": 42,
   "metadata": {},
   "outputs": [
    {
     "data": {
      "text/plain": [
       "array([[ 2,  3,  4, 11],\n",
       "       [ 6,  7,  8, 13],\n",
       "       [10, 11, 12, 15]])"
      ]
     },
     "execution_count": 42,
     "metadata": {},
     "output_type": "execute_result"
    }
   ],
   "source": [
    "matriz + colum_vector #operación no definida matemáticamente pero posible con broadcasting"
   ]
  },
  {
   "cell_type": "code",
   "execution_count": 43,
   "metadata": {},
   "outputs": [
    {
     "data": {
      "text/plain": [
       "array([[ 2,  4,  6, 14],\n",
       "       [ 5,  7,  9, 15],\n",
       "       [ 8, 10, 12, 16]])"
      ]
     },
     "execution_count": 43,
     "metadata": {},
     "output_type": "execute_result"
    }
   ],
   "source": [
    "matriz + row_vector #operación no definida matemáticamente pero posible con broadcasting"
   ]
  },
  {
   "cell_type": "code",
   "execution_count": 44,
   "metadata": {},
   "outputs": [
    {
     "data": {
      "text/plain": [
       "array([[0, 1, 2, 9],\n",
       "       [2, 3, 4, 9],\n",
       "       [4, 5, 6, 9]])"
      ]
     },
     "execution_count": 44,
     "metadata": {},
     "output_type": "execute_result"
    }
   ],
   "source": [
    "matriz - colum_vector #operación no definida matemáticamente pero posible con broadcasting "
   ]
  },
  {
   "cell_type": "code",
   "execution_count": 45,
   "metadata": {},
   "outputs": [
    {
     "data": {
      "text/plain": [
       "array([[ 1,  4,  9, 40],\n",
       "       [ 4, 10, 18, 44],\n",
       "       [ 7, 16, 27, 48]])"
      ]
     },
     "execution_count": 45,
     "metadata": {},
     "output_type": "execute_result"
    }
   ],
   "source": [
    "matriz * row_vector #operación no definida matemáticamente pero posible con broadcasting"
   ]
  },
  {
   "cell_type": "code",
   "execution_count": 46,
   "metadata": {
    "collapsed": true
   },
   "outputs": [],
   "source": [
    "colum_vector = np.array(  # vector orientado columnarmente\n",
    "                  [1,\n",
    "                   2,\n",
    "                   3,\n",
    "                   4]).reshape((4,1))\n",
    "# la siguiente linea intentaa operar una matriz de 3x4 con un vector incompatible de 4x1 resultando en error\n",
    "#matriz + colum_vector"
   ]
  },
  {
   "cell_type": "markdown",
   "metadata": {},
   "source": [
    "### Funciones miscelaneas(agregación y estadistica descriptiva básica) \n",
    "\n",
    "Ya hemos trabajado algunas funciones de NumPy pero han sido funciones \"elementwise\" cuyo vector resultante tiene el mismo tamaño que el vector de entrada, existen muchas otras funciones que utilizamos en casos en los que necesitamos agregar,resumir cierta matriz,incluyendo en este tipo de funciones algunas de estadistica descriptiva básica.\n",
    "\n",
    "En esta sección estudiamos funciones ya estudiadas previamente con vectores ,pero como veremos podemos configurar su comportamiento para lograr comportamientos específicos para matrices.\n",
    "\n",
    "Podemos utilizar un segundo parámetro llamado **axis** para especificar sobre que dimensión o eje del vector queremos operar, para el caso de matrices podemos hacerlo por:\n",
    "\n",
    "* axis = 0 : filas,calcula la función deseada a traves de filas y devuelve para cada columna un resultado, el resultado es un vector cuyo tamaño es igual al numero de columnas de la matriz original.\n",
    "* axis = 1 : columnas,calcula la función deseada a traves de columnas ,y devuelve para cada fila un resultado,el resultado es un vector cuyo tamaño es igual al numero de de filas de la matriz original.\n",
    "* axis = None: si especificamos axis = None ( o no lo especificamos) el  comportamiento es similar al caso de vectores, se obtiene un único resultado(escalar) para todo el tensor\n",
    "\n",
    "<img src=\"https://vrzkj25a871bpq7t1ugcgmn9-wpengine.netdna-ssl.com/wp-content/uploads/2018/11/numpy-arrays-have-axes.png\">\n",
    "\n",
    "<img src=\"https://vrzkj25a871bpq7t1ugcgmn9-wpengine.netdna-ssl.com/wp-content/uploads/2018/12/numpy-axes-np-sum-axis-0.png\">"
   ]
  },
  {
   "cell_type": "code",
   "execution_count": 47,
   "metadata": {
    "collapsed": true
   },
   "outputs": [],
   "source": [
    "x = np.array([[1,2,3,4,5],\n",
    "              [6,7,8,9,2]])\n",
    "\n",
    "x_nan = np.array([[1,2,3,4,np.nan],\n",
    "                  [6,8,2,2,16]])"
   ]
  },
  {
   "cell_type": "markdown",
   "metadata": {},
   "source": [
    "Si no especificamos el parametro axis, el comportamiento es similar al obtenido con vectores."
   ]
  },
  {
   "cell_type": "code",
   "execution_count": 48,
   "metadata": {},
   "outputs": [
    {
     "name": "stdout",
     "output_type": "stream",
     "text": [
      "9\n",
      "9\n",
      "nan\n",
      "9\n",
      "16.0\n"
     ]
    }
   ],
   "source": [
    "print(np.max(x))\n",
    "print(x.max())\n",
    "print(np.max(x_nan))\n",
    "print(np.nanmax(x))\n",
    "print(np.nanmax(x_nan))"
   ]
  },
  {
   "cell_type": "code",
   "execution_count": 49,
   "metadata": {},
   "outputs": [
    {
     "name": "stdout",
     "output_type": "stream",
     "text": [
      "Maximo de cada fíla de x a traves de las columnas:\n",
      "[5 9]\n",
      "Maximo de cada cada columna de x a traves de las filas:\n",
      "[6 7 8 9 5]\n",
      "Maximo de cada cada columna de x_nan a traves de las filas:\n",
      "[  6.   8.   3.   4.  nan]\n",
      "Maximo ignorando nans de cada fíla de x a traves de las columnas:\n",
      "[5 9]\n",
      "Maximo de cada fila a traves de columnas de x_nan,ignorando nans:\n",
      "[  4.  16.]\n"
     ]
    }
   ],
   "source": [
    "#al usar axis con matrices que contienen nan se obtiene nan solo en la fila o columna que posea valores nan\n",
    "#siimlar al caso de vectores podemos usar nanmax para ignorar nans\n",
    "\n",
    "print(\"Maximo de cada fíla de x a traves de las columnas:\")\n",
    "print(np.max(x,axis = 1))\n",
    "print(\"Maximo de cada cada columna de x a traves de las filas:\")\n",
    "print(x.max(axis=0))\n",
    "print(\"Maximo de cada cada columna de x_nan a traves de las filas:\")\n",
    "print(np.max(x_nan,axis=0))\n",
    "print(\"Maximo ignorando nans de cada fíla de x a traves de las columnas:\")\n",
    "print(np.nanmax(x,axis=1))\n",
    "print(\"Maximo de cada fila a traves de columnas de x_nan,ignorando nans:\")\n",
    "print(np.nanmax(x_nan,axis=1))"
   ]
  },
  {
   "cell_type": "code",
   "execution_count": 50,
   "metadata": {},
   "outputs": [
    {
     "name": "stdout",
     "output_type": "stream",
     "text": [
      "Minimo general de la matriz x:\n",
      "1\n",
      "Minimo general ignorando valores nan de la matriz x_nan:\n",
      "4\n",
      "Minimo de cada fíla de x a traves de las columnas:\n",
      "[1 2]\n",
      "Minimo de cada cada columna de x a traves de las filas:\n",
      "[1 2 3 4 2]\n",
      "Minimo de cada cada columna de x_nan a traves de las filas:\n",
      "[  1.   2.   2.   2.  nan]\n",
      "Minimo ignorando nans de cada fíla de x a traves de las columnas:\n",
      "[1 2]\n",
      "Minimo de cada fila a traves de columnas de x_nan,ignorando nans:\n",
      "[ 1.  2.]\n"
     ]
    }
   ],
   "source": [
    "#al usar axis con matrices que contienen nan se obtiene nan solo en la fila o columna que posea valores nan\n",
    "#siimlar al caso de vectores podemos usar nanmin para ignorar nans\n",
    "\n",
    "print(\"Minimo general de la matriz x:\")\n",
    "print(np.min(x))\n",
    "print(\"Minimo general ignorando valores nan de la matriz x_nan:\")\n",
    "print(np.argmin(x_nan))\n",
    "print(\"Minimo de cada fíla de x a traves de las columnas:\")\n",
    "print(np.min(x,axis = 1))\n",
    "print(\"Minimo de cada cada columna de x a traves de las filas:\")\n",
    "print(x.min(axis=0))\n",
    "print(\"Minimo de cada cada columna de x_nan a traves de las filas:\")\n",
    "print(np.min(x_nan,axis=0))\n",
    "print(\"Minimo ignorando nans de cada fíla de x a traves de las columnas:\")\n",
    "print(np.nanmin(x,axis=1))\n",
    "print(\"Minimo de cada fila a traves de columnas de x_nan,ignorando nans:\")\n",
    "print(np.nanmin(x_nan,axis=1))"
   ]
  },
  {
   "cell_type": "markdown",
   "metadata": {},
   "source": [
    "#### argmax y argmin para matrices\n",
    "\n",
    "Al estudiar vectores las funciones argmax y argmin nos proveian una forma de encontrar la posición(o indice) del valor máximo o mínimo del vector. Para matrices debemos especificar el comportamiento deseado nuevamente a través del parametro axis, cuando este es 0 o 1 el comportamiento es similar al ya visto previamente, pero cuando este no es especificado o se usa el valor None necesitamos poner atención al comportamiento: **La matriz es interpretada como un vector obtenido al colapsar todas las filas de la matriz** y argmax,argmin se comportarán como si se aplicaran sobre este vector."
   ]
  },
  {
   "cell_type": "code",
   "execution_count": 51,
   "metadata": {},
   "outputs": [
    {
     "name": "stdout",
     "output_type": "stream",
     "text": [
      "[[ 4  6  9]\n",
      " [ 2  1 11]]\n"
     ]
    }
   ],
   "source": [
    "x = np.array([[4,6,9],\n",
    "              [2,1,11]])\n",
    "print(x)"
   ]
  },
  {
   "cell_type": "code",
   "execution_count": 52,
   "metadata": {},
   "outputs": [
    {
     "name": "stdout",
     "output_type": "stream",
     "text": [
      "[1 1 0]\n",
      "[2 1 9]\n"
     ]
    }
   ],
   "source": [
    "print(np.argmin(x,axis=0))\n",
    "print(x.min(axis=0))"
   ]
  },
  {
   "cell_type": "code",
   "execution_count": 53,
   "metadata": {},
   "outputs": [
    {
     "name": "stdout",
     "output_type": "stream",
     "text": [
      "[2 2]\n",
      "[ 9 11]\n"
     ]
    }
   ],
   "source": [
    "print(np.argmax(x,axis=1))\n",
    "print(x.max(axis=1))"
   ]
  },
  {
   "cell_type": "code",
   "execution_count": 54,
   "metadata": {},
   "outputs": [
    {
     "name": "stdout",
     "output_type": "stream",
     "text": [
      "4 5\n"
     ]
    }
   ],
   "source": [
    "print(np.argmin(x),np.argmax(x))"
   ]
  },
  {
   "cell_type": "markdown",
   "metadata": {},
   "source": [
    "El resultado de aplicar argmin y argmax sobre la matriz sin especificar el axis es equivalente a el siguiente código:"
   ]
  },
  {
   "cell_type": "code",
   "execution_count": 55,
   "metadata": {},
   "outputs": [
    {
     "data": {
      "text/plain": [
       "array([ 4,  6,  9,  2,  1, 11])"
      ]
     },
     "execution_count": 55,
     "metadata": {},
     "output_type": "execute_result"
    }
   ],
   "source": [
    "x_vector = np.reshape(x,-1)\n",
    "\n",
    "x_vector"
   ]
  },
  {
   "cell_type": "code",
   "execution_count": 56,
   "metadata": {},
   "outputs": [
    {
     "name": "stdout",
     "output_type": "stream",
     "text": [
      "4 5\n"
     ]
    }
   ],
   "source": [
    "print(np.argmin(x_vector),np.argmax(x_vector))"
   ]
  },
  {
   "cell_type": "markdown",
   "metadata": {},
   "source": [
    "#### suma,producto(normal y acumulativa) para matrices.\n",
    "\n",
    "Nuevamente tenemos en el caso de matrices funciones que también existian en vectores y que pueden ser configuradas para trabajar a través de filas,columnas o general a través del parámetro axis, en este caso tratamos con suma y producto a través de las filas(axis=0), columnas(axis=1) o sobre toda la matriz(axis=None)"
   ]
  },
  {
   "cell_type": "code",
   "execution_count": 57,
   "metadata": {},
   "outputs": [
    {
     "name": "stdout",
     "output_type": "stream",
     "text": [
      "[[ 4  6  9]\n",
      " [ 2  1 11]]\n"
     ]
    }
   ],
   "source": [
    "x = np.array([[4,6,9],\n",
    "              [2,1,11]])\n",
    "print(x)"
   ]
  },
  {
   "cell_type": "code",
   "execution_count": 58,
   "metadata": {},
   "outputs": [
    {
     "name": "stdout",
     "output_type": "stream",
     "text": [
      "Dos formas de obtener la suma de todos los elementos de la matriz x:\n",
      "33\n",
      "33\n",
      "Si aplicamos sum() sobre una matriz con al menos un elemento 'nan' el resultado es nan:\n",
      "nan\n",
      "Para ignorar valores 'nan' y sumar el resto podemos usar nansum() en lugar de sum():\n",
      "44.0\n"
     ]
    }
   ],
   "source": [
    "print(\"Dos formas de obtener la suma de todos los elementos de la matriz x:\")\n",
    "print(np.sum(x))\n",
    "print(x.sum())\n",
    "print(\"Si aplicamos sum() sobre una matriz con al menos un elemento 'nan' el resultado es nan:\")\n",
    "print(np.sum(x_nan))\n",
    "print(\"Para ignorar valores 'nan' y sumar el resto podemos usar nansum() en lugar de sum():\")\n",
    "print(np.nansum(x_nan))"
   ]
  },
  {
   "cell_type": "code",
   "execution_count": 59,
   "metadata": {},
   "outputs": [
    {
     "name": "stdout",
     "output_type": "stream",
     "text": [
      "[ 6  7 20]\n",
      "[19 14]\n",
      "[  7.  10.   5.   6.  nan]\n",
      "[ 10.  34.]\n"
     ]
    }
   ],
   "source": [
    "print(np.sum(x,axis=0))\n",
    "print(x.sum(axis=1))\n",
    "print(np.sum(x_nan,axis=0))\n",
    "print(np.nansum(x_nan,axis=1))"
   ]
  },
  {
   "cell_type": "code",
   "execution_count": 60,
   "metadata": {},
   "outputs": [
    {
     "name": "stdout",
     "output_type": "stream",
     "text": [
      "4752\n",
      "4752\n",
      "nan\n",
      "73728.0\n"
     ]
    }
   ],
   "source": [
    "print(np.prod(x))\n",
    "print(x.prod())\n",
    "print(np.prod(x_nan))\n",
    "print(np.nanprod(x_nan))"
   ]
  }
 ],
 "metadata": {
  "kernelspec": {
   "display_name": "Python 3",
   "language": "python",
   "name": "python3"
  },
  "language_info": {
   "codemirror_mode": {
    "name": "ipython",
    "version": 3
   },
   "file_extension": ".py",
   "mimetype": "text/x-python",
   "name": "python",
   "nbconvert_exporter": "python",
   "pygments_lexer": "ipython3",
   "version": "3.6.5"
  }
 },
 "nbformat": 4,
 "nbformat_minor": 2
}
