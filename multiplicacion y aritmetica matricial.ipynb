{
 "cells": [
  {
   "cell_type": "markdown",
   "metadata": {},
   "source": [
    "## Johntan Meoño"
   ]
  },
  {
   "cell_type": "markdown",
   "metadata": {},
   "source": [
    "## Ejercicio 1"
   ]
  },
  {
   "cell_type": "markdown",
   "metadata": {},
   "source": [
    "\n",
    "\n",
    "**Ejemplo en DS** : en inteligencia artificial y ML en la sub-rama \"reinforcement learning\" la \"ecuacion de bellman\" puede aplicarse de manera vectorizada a traves del operar vectores, matrices y escalares en una sola expresion.\n",
    "\n",
    "<img src=\"https://rebornhugo.github.io/assets/images/post_images/%E5%BC%BA%E5%8C%96%E5%AD%A6%E4%B9%A02/bellman%20equation2.PNG\">\n",
    "\n",
    "* n = numero de estados del sistema.\n",
    "* V(s) = vector que representa el valor esperado para cierto estado\n",
    "* R = recompensa inmediata percibida por el agente al salir de cierto estado.(vector)\n",
    "* P = matriz de transicion de la cadena de Markov sub-yacente.(matriz)\n",
    "* γ = factor de descuento de recompensas futuras(escalar)\n",
    "\n",
    "Calcular V(s) para el siguiente sistema aplicando la ecuación de bellman de manera vectorizada."
   ]
  },
  {
   "cell_type": "code",
   "execution_count": 3,
   "metadata": {},
   "outputs": [],
   "source": [
    "import numpy as np"
   ]
  },
  {
   "cell_type": "code",
   "execution_count": 4,
   "metadata": {},
   "outputs": [
    {
     "name": "stdout",
     "output_type": "stream",
     "text": [
      "[0. 0. 0.]\n",
      "[10.  2.  5.]\n"
     ]
    }
   ],
   "source": [
    "V = np.array([0,0,0]) # valor inicial de V(s)\n",
    "R = np.array([10,2,5]) # vector de recompensas\n",
    "P = np.array([[0.5,0.25,0.25],\n",
    "              [0.2,0.40,0.40],\n",
    "              [0.80,0.10,0.10]])  # matriz de transición\n",
    "gamma = 0.99\n",
    "\n",
    "multi = gamma * P\n",
    "productomatri = np.matmul(multi,V)\n",
    "\n",
    "print(productomatri)\n",
    "\n",
    "Vfinal = R+productomatri\n",
    "\n",
    "print(Vfinal)"
   ]
  },
  {
   "cell_type": "markdown",
   "metadata": {},
   "source": [
    "## Ejemplo 2"
   ]
  },
  {
   "cell_type": "code",
   "execution_count": 6,
   "metadata": {},
   "outputs": [],
   "source": [
    "## asi se calcula la fucion \n",
    "def sigmoid(x): #convertir los valores de x al rango de 0 a 1\n",
    "    \n",
    "    return 1/(1+np.exp(-x))"
   ]
  },
  {
   "cell_type": "markdown",
   "metadata": {},
   "source": [
    "### Ejercicio \n",
    "\n",
    "Implementar en una funcion neural_network(X) la red neuronal definida por la siguiente arquitectura:\n",
    "\n",
    "<img src=\"http://i.imgur.com/UNlffE1.png\">\n",
    "\n",
    "Podemos validar si fue correctamente implementada si usamos como entrada el vector x=[1,1] . Debemos obtener el resultado mostrado en la imagen.\n",
    "\n",
    "Una vez tenemos la implementacion correcta, cambiar la funcion de activacion de la capa de salida por la funcion de activacion ReLu(https://en.wikipedia.org/wiki/Rectifier_(neural_networks)):\n",
    "\n",
    "<img src=\"https://cdn-images-1.medium.com/max/1600/1*DfMRHwxY1gyyDmrIAd-gjQ.png\">\n",
    "\n",
    "Luego evaluar la red neuronal sobre la matriz de datos X(de manera vectorizada):"
   ]
  },
  {
   "cell_type": "code",
   "execution_count": 7,
   "metadata": {},
   "outputs": [
    {
     "name": "stdout",
     "output_type": "stream",
     "text": [
      "[[1 1]]\n",
      "(1, 2)\n",
      "Neurona inicial [[1.0e-01 2.0e+00]\n",
      " [3.0e-01 4.5e-01]\n",
      " [5.0e+00 9.0e+00]\n",
      " [1.2e+01 6.0e+00]\n",
      " [7.0e+00 5.0e+00]\n",
      " [3.0e-01 8.0e-01]\n",
      " [1.2e+01 5.0e+00]\n",
      " [1.0e+02 2.0e+02]\n",
      " [7.0e+00 8.0e+00]\n",
      " [3.0e+02 1.5e+03]]\n",
      "(10, 2)\n",
      "capa intermedia [[0.712 0.355 0.268]\n",
      " [0.112 0.855 0.468]]\n",
      "Neurona intermedia [[0.5732687  0.85138432 0.72368206]\n",
      " [0.56561932 0.62040086 0.57224093]\n",
      " [0.98972791 0.99992287 0.9961353 ]\n",
      " [0.99990057 0.99991645 0.99758587]\n",
      " [0.99610438 0.99884211 0.98545706]\n",
      " [0.5752246  0.68793868 0.61177987]\n",
      " [0.99988879 0.99980357 0.99615067]\n",
      " [1.         1.         1.        ]\n",
      " [0.997213   0.99991084 0.99638845]\n",
      " [1.         1.         1.        ]]\n",
      "capa final [[0.116]\n",
      " [0.329]\n",
      " [0.708]]\n",
      "Neurona final [[0.85897151]\n",
      " [0.6748703 ]\n",
      " [1.14904686]\n",
      " [1.15125178]\n",
      " [1.14187076]\n",
      " [0.72619803]\n",
      " [1.15019715]\n",
      " [1.153     ]\n",
      " [1.1500904 ]\n",
      " [1.153     ]]\n"
     ]
    }
   ],
   "source": [
    "## asi se calcula la fucion \n",
    "def relu(m): \n",
    "    valor = np.piecewise(m, [m < 0,m >= 0], \n",
    "                                [lambda m: 0,\n",
    "                                 lambda m: m])\n",
    "    return valor \n",
    "\n",
    "        \n",
    "X = np.array([\n",
    "    [0.1,2],\n",
    "    [0.3,0.45],\n",
    "    [5,9],\n",
    "    [12,6],\n",
    "    [7,5],\n",
    "    [0.3,0.8],\n",
    "    [12,5],\n",
    "    [100,200],\n",
    "    [7,8],\n",
    "    [300,1500]])\n",
    "\n",
    "x = np.array([[1,1]])\n",
    "\n",
    "intermedia = np.array([[0.712,0.355,0.268],\n",
    "                       [0.112,0.855,0.468]])\n",
    "\n",
    "final = np.array([[0.116],\n",
    "                  [0.329],\n",
    "                  [0.708]])\n",
    "\n",
    "print(x)\n",
    "print(x.shape)\n",
    "\n",
    "print(\"Neurona inicial\",\n",
    "      X)\n",
    "print(X.shape)\n",
    "\n",
    "print(\"capa intermedia\",\n",
    "      intermedia)\n",
    "\n",
    "paso1 = np.matmul(X,intermedia)\n",
    "paso1 = sigmoid(paso1)  # funcion de activacion: convertir a valores en el intervalo de 0 a 1\n",
    "\n",
    "print(\"Neurona intermedia\",\n",
    "      paso1)\n",
    "\n",
    "print(\"capa final\",\n",
    "      final)\n",
    "\n",
    "paso2 = np.matmul(paso1,final)\n",
    "paso2 = relu(paso2)  # funcion de activacion: convertir a valores en el intervalo de 0 a 1\n",
    "\n",
    "print(\"Neurona final\",\n",
    "      paso2)"
   ]
  },
  {
   "cell_type": "code",
   "execution_count": null,
   "metadata": {},
   "outputs": [],
   "source": []
  }
 ],
 "metadata": {
  "kernelspec": {
   "display_name": "Python 3",
   "language": "python",
   "name": "python3"
  },
  "language_info": {
   "codemirror_mode": {
    "name": "ipython",
    "version": 3
   },
   "file_extension": ".py",
   "mimetype": "text/x-python",
   "name": "python",
   "nbconvert_exporter": "python",
   "pygments_lexer": "ipython3",
   "version": "3.6.5"
  }
 },
 "nbformat": 4,
 "nbformat_minor": 2
}
